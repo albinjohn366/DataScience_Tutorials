{
  "nbformat": 4,
  "nbformat_minor": 0,
  "metadata": {
    "colab": {
      "name": "Logistic_Regression.ipynb",
      "provenance": [],
      "authorship_tag": "ABX9TyO77e8sNvJB/2ouhIhb6ToX"
    },
    "kernelspec": {
      "name": "python3",
      "display_name": "Python 3"
    },
    "language_info": {
      "name": "python"
    }
  },
  "cells": [
    {
      "cell_type": "markdown",
      "source": [
        "First of all, let us start by importing the necessory packages."
      ],
      "metadata": {
        "id": "yxHZFTFBRk-i"
      }
    },
    {
      "cell_type": "code",
      "execution_count": null,
      "metadata": {
        "id": "YHvO0FuY8DDj"
      },
      "outputs": [],
      "source": [
        "import pandas as pd\n",
        "import numpy as np"
      ]
    },
    {
      "cell_type": "code",
      "source": [
        "import matplotlib.pyplot as plt\n",
        "import seaborn as sns\n",
        "%matplotlib inline"
      ],
      "metadata": {
        "id": "0jRiF3DZ8DDm"
      },
      "execution_count": null,
      "outputs": []
    },
    {
      "cell_type": "code",
      "source": [
        "sns.set_style('whitegrid')"
      ],
      "metadata": {
        "id": "1F4Bl7D68DDo"
      },
      "execution_count": null,
      "outputs": []
    },
    {
      "cell_type": "code",
      "source": [
        "from sklearn.linear_model import LogisticRegression\n",
        "from sklearn.metrics import accuracy_score\n",
        "from sklearn.model_selection import train_test_split"
      ],
      "metadata": {
        "id": "pCzsNbV_8DDp"
      },
      "execution_count": null,
      "outputs": []
    },
    {
      "cell_type": "markdown",
      "source": [
        "Let us first retrieve the dataset from the statsmodels"
      ],
      "metadata": {
        "id": "U9UO04nS0dQj"
      }
    },
    {
      "cell_type": "code",
      "source": [
        "import statsmodels.api as sm"
      ],
      "metadata": {
        "id": "i0J1r1JB0am6"
      },
      "execution_count": null,
      "outputs": []
    },
    {
      "cell_type": "code",
      "source": [
        "df = sm.datasets.fair.load_pandas().data"
      ],
      "metadata": {
        "id": "Vf5kV-J603sJ"
      },
      "execution_count": null,
      "outputs": []
    },
    {
      "cell_type": "code",
      "source": [
        "df.head()"
      ],
      "metadata": {
        "colab": {
          "base_uri": "https://localhost:8080/",
          "height": 206
        },
        "id": "CoPUyylk1Bte",
        "outputId": "cdaae2e3-1063-4183-c4fb-5215ecfb737a"
      },
      "execution_count": null,
      "outputs": [
        {
          "output_type": "execute_result",
          "data": {
            "text/html": [
              "\n",
              "  <div id=\"df-83d93347-c186-4284-8b94-b3563d6b3a35\">\n",
              "    <div class=\"colab-df-container\">\n",
              "      <div>\n",
              "<style scoped>\n",
              "    .dataframe tbody tr th:only-of-type {\n",
              "        vertical-align: middle;\n",
              "    }\n",
              "\n",
              "    .dataframe tbody tr th {\n",
              "        vertical-align: top;\n",
              "    }\n",
              "\n",
              "    .dataframe thead th {\n",
              "        text-align: right;\n",
              "    }\n",
              "</style>\n",
              "<table border=\"1\" class=\"dataframe\">\n",
              "  <thead>\n",
              "    <tr style=\"text-align: right;\">\n",
              "      <th></th>\n",
              "      <th>rate_marriage</th>\n",
              "      <th>age</th>\n",
              "      <th>yrs_married</th>\n",
              "      <th>children</th>\n",
              "      <th>religious</th>\n",
              "      <th>educ</th>\n",
              "      <th>occupation</th>\n",
              "      <th>occupation_husb</th>\n",
              "      <th>affairs</th>\n",
              "    </tr>\n",
              "  </thead>\n",
              "  <tbody>\n",
              "    <tr>\n",
              "      <th>0</th>\n",
              "      <td>3.0</td>\n",
              "      <td>32.0</td>\n",
              "      <td>9.0</td>\n",
              "      <td>3.0</td>\n",
              "      <td>3.0</td>\n",
              "      <td>17.0</td>\n",
              "      <td>2.0</td>\n",
              "      <td>5.0</td>\n",
              "      <td>0.111111</td>\n",
              "    </tr>\n",
              "    <tr>\n",
              "      <th>1</th>\n",
              "      <td>3.0</td>\n",
              "      <td>27.0</td>\n",
              "      <td>13.0</td>\n",
              "      <td>3.0</td>\n",
              "      <td>1.0</td>\n",
              "      <td>14.0</td>\n",
              "      <td>3.0</td>\n",
              "      <td>4.0</td>\n",
              "      <td>3.230769</td>\n",
              "    </tr>\n",
              "    <tr>\n",
              "      <th>2</th>\n",
              "      <td>4.0</td>\n",
              "      <td>22.0</td>\n",
              "      <td>2.5</td>\n",
              "      <td>0.0</td>\n",
              "      <td>1.0</td>\n",
              "      <td>16.0</td>\n",
              "      <td>3.0</td>\n",
              "      <td>5.0</td>\n",
              "      <td>1.400000</td>\n",
              "    </tr>\n",
              "    <tr>\n",
              "      <th>3</th>\n",
              "      <td>4.0</td>\n",
              "      <td>37.0</td>\n",
              "      <td>16.5</td>\n",
              "      <td>4.0</td>\n",
              "      <td>3.0</td>\n",
              "      <td>16.0</td>\n",
              "      <td>5.0</td>\n",
              "      <td>5.0</td>\n",
              "      <td>0.727273</td>\n",
              "    </tr>\n",
              "    <tr>\n",
              "      <th>4</th>\n",
              "      <td>5.0</td>\n",
              "      <td>27.0</td>\n",
              "      <td>9.0</td>\n",
              "      <td>1.0</td>\n",
              "      <td>1.0</td>\n",
              "      <td>14.0</td>\n",
              "      <td>3.0</td>\n",
              "      <td>4.0</td>\n",
              "      <td>4.666666</td>\n",
              "    </tr>\n",
              "  </tbody>\n",
              "</table>\n",
              "</div>\n",
              "      <button class=\"colab-df-convert\" onclick=\"convertToInteractive('df-83d93347-c186-4284-8b94-b3563d6b3a35')\"\n",
              "              title=\"Convert this dataframe to an interactive table.\"\n",
              "              style=\"display:none;\">\n",
              "        \n",
              "  <svg xmlns=\"http://www.w3.org/2000/svg\" height=\"24px\"viewBox=\"0 0 24 24\"\n",
              "       width=\"24px\">\n",
              "    <path d=\"M0 0h24v24H0V0z\" fill=\"none\"/>\n",
              "    <path d=\"M18.56 5.44l.94 2.06.94-2.06 2.06-.94-2.06-.94-.94-2.06-.94 2.06-2.06.94zm-11 1L8.5 8.5l.94-2.06 2.06-.94-2.06-.94L8.5 2.5l-.94 2.06-2.06.94zm10 10l.94 2.06.94-2.06 2.06-.94-2.06-.94-.94-2.06-.94 2.06-2.06.94z\"/><path d=\"M17.41 7.96l-1.37-1.37c-.4-.4-.92-.59-1.43-.59-.52 0-1.04.2-1.43.59L10.3 9.45l-7.72 7.72c-.78.78-.78 2.05 0 2.83L4 21.41c.39.39.9.59 1.41.59.51 0 1.02-.2 1.41-.59l7.78-7.78 2.81-2.81c.8-.78.8-2.07 0-2.86zM5.41 20L4 18.59l7.72-7.72 1.47 1.35L5.41 20z\"/>\n",
              "  </svg>\n",
              "      </button>\n",
              "      \n",
              "  <style>\n",
              "    .colab-df-container {\n",
              "      display:flex;\n",
              "      flex-wrap:wrap;\n",
              "      gap: 12px;\n",
              "    }\n",
              "\n",
              "    .colab-df-convert {\n",
              "      background-color: #E8F0FE;\n",
              "      border: none;\n",
              "      border-radius: 50%;\n",
              "      cursor: pointer;\n",
              "      display: none;\n",
              "      fill: #1967D2;\n",
              "      height: 32px;\n",
              "      padding: 0 0 0 0;\n",
              "      width: 32px;\n",
              "    }\n",
              "\n",
              "    .colab-df-convert:hover {\n",
              "      background-color: #E2EBFA;\n",
              "      box-shadow: 0px 1px 2px rgba(60, 64, 67, 0.3), 0px 1px 3px 1px rgba(60, 64, 67, 0.15);\n",
              "      fill: #174EA6;\n",
              "    }\n",
              "\n",
              "    [theme=dark] .colab-df-convert {\n",
              "      background-color: #3B4455;\n",
              "      fill: #D2E3FC;\n",
              "    }\n",
              "\n",
              "    [theme=dark] .colab-df-convert:hover {\n",
              "      background-color: #434B5C;\n",
              "      box-shadow: 0px 1px 3px 1px rgba(0, 0, 0, 0.15);\n",
              "      filter: drop-shadow(0px 1px 2px rgba(0, 0, 0, 0.3));\n",
              "      fill: #FFFFFF;\n",
              "    }\n",
              "  </style>\n",
              "\n",
              "      <script>\n",
              "        const buttonEl =\n",
              "          document.querySelector('#df-83d93347-c186-4284-8b94-b3563d6b3a35 button.colab-df-convert');\n",
              "        buttonEl.style.display =\n",
              "          google.colab.kernel.accessAllowed ? 'block' : 'none';\n",
              "\n",
              "        async function convertToInteractive(key) {\n",
              "          const element = document.querySelector('#df-83d93347-c186-4284-8b94-b3563d6b3a35');\n",
              "          const dataTable =\n",
              "            await google.colab.kernel.invokeFunction('convertToInteractive',\n",
              "                                                     [key], {});\n",
              "          if (!dataTable) return;\n",
              "\n",
              "          const docLinkHtml = 'Like what you see? Visit the ' +\n",
              "            '<a target=\"_blank\" href=https://colab.research.google.com/notebooks/data_table.ipynb>data table notebook</a>'\n",
              "            + ' to learn more about interactive tables.';\n",
              "          element.innerHTML = '';\n",
              "          dataTable['output_type'] = 'display_data';\n",
              "          await google.colab.output.renderOutput(dataTable, element);\n",
              "          const docLink = document.createElement('div');\n",
              "          docLink.innerHTML = docLinkHtml;\n",
              "          element.appendChild(docLink);\n",
              "        }\n",
              "      </script>\n",
              "    </div>\n",
              "  </div>\n",
              "  "
            ],
            "text/plain": [
              "   rate_marriage   age  yrs_married  ...  occupation  occupation_husb   affairs\n",
              "0            3.0  32.0          9.0  ...         2.0              5.0  0.111111\n",
              "1            3.0  27.0         13.0  ...         3.0              4.0  3.230769\n",
              "2            4.0  22.0          2.5  ...         3.0              5.0  1.400000\n",
              "3            4.0  37.0         16.5  ...         5.0              5.0  0.727273\n",
              "4            5.0  27.0          9.0  ...         3.0              4.0  4.666666\n",
              "\n",
              "[5 rows x 9 columns]"
            ]
          },
          "metadata": {},
          "execution_count": 316
        }
      ]
    },
    {
      "cell_type": "code",
      "execution_count": null,
      "metadata": {
        "id": "vWKyhDAHRBcL"
      },
      "outputs": [],
      "source": [
        "import pandas as pd\n",
        "import numpy as np"
      ]
    },
    {
      "cell_type": "code",
      "source": [
        "import matplotlib.pyplot as plt\n",
        "import seaborn as sns\n",
        "%matplotlib inline"
      ],
      "metadata": {
        "id": "A88SbYxiR0mT"
      },
      "execution_count": null,
      "outputs": []
    },
    {
      "cell_type": "code",
      "source": [
        "sns.set_style('whitegrid')"
      ],
      "metadata": {
        "id": "cWY5xWDsR_6t"
      },
      "execution_count": null,
      "outputs": []
    },
    {
      "cell_type": "code",
      "source": [
        "from sklearn.linear_model import LogisticRegression\n",
        "from sklearn.metrics import accuracy_score\n",
        "from sklearn.model_selection import train_test_split"
      ],
      "metadata": {
        "id": "z2DveZ7kSDkO"
      },
      "execution_count": null,
      "outputs": []
    },
    {
      "cell_type": "markdown",
      "source": [
        "Now let us make the affair column such a way that it is binomial"
      ],
      "metadata": {
        "id": "z7IrpuNf_QiF"
      }
    },
    {
      "cell_type": "code",
      "source": [
        "def change_affair_value(val):\n",
        "  if val == 0:\n",
        "    return 0\n",
        "  else:\n",
        "    return 1"
      ],
      "metadata": {
        "id": "gZFP36BP_V9c"
      },
      "execution_count": null,
      "outputs": []
    },
    {
      "cell_type": "code",
      "source": [
        "df['affairs'] = df['affairs'].apply(change_affair_value)"
      ],
      "metadata": {
        "id": "QuZsJh9M_edw"
      },
      "execution_count": null,
      "outputs": []
    },
    {
      "cell_type": "code",
      "source": [
        "df.head()"
      ],
      "metadata": {
        "colab": {
          "base_uri": "https://localhost:8080/",
          "height": 206
        },
        "id": "9c2nxfA4_qnM",
        "outputId": "6610edbd-cd49-4dae-886f-f53b0e928dc8"
      },
      "execution_count": null,
      "outputs": [
        {
          "output_type": "execute_result",
          "data": {
            "text/html": [
              "\n",
              "  <div id=\"df-0c1633ad-cb26-4ae7-b2a2-5161fb6db0f2\">\n",
              "    <div class=\"colab-df-container\">\n",
              "      <div>\n",
              "<style scoped>\n",
              "    .dataframe tbody tr th:only-of-type {\n",
              "        vertical-align: middle;\n",
              "    }\n",
              "\n",
              "    .dataframe tbody tr th {\n",
              "        vertical-align: top;\n",
              "    }\n",
              "\n",
              "    .dataframe thead th {\n",
              "        text-align: right;\n",
              "    }\n",
              "</style>\n",
              "<table border=\"1\" class=\"dataframe\">\n",
              "  <thead>\n",
              "    <tr style=\"text-align: right;\">\n",
              "      <th></th>\n",
              "      <th>rate_marriage</th>\n",
              "      <th>age</th>\n",
              "      <th>yrs_married</th>\n",
              "      <th>children</th>\n",
              "      <th>religious</th>\n",
              "      <th>educ</th>\n",
              "      <th>occupation</th>\n",
              "      <th>occupation_husb</th>\n",
              "      <th>affairs</th>\n",
              "    </tr>\n",
              "  </thead>\n",
              "  <tbody>\n",
              "    <tr>\n",
              "      <th>0</th>\n",
              "      <td>3.0</td>\n",
              "      <td>32.0</td>\n",
              "      <td>9.0</td>\n",
              "      <td>3.0</td>\n",
              "      <td>3.0</td>\n",
              "      <td>17.0</td>\n",
              "      <td>2.0</td>\n",
              "      <td>5.0</td>\n",
              "      <td>1</td>\n",
              "    </tr>\n",
              "    <tr>\n",
              "      <th>1</th>\n",
              "      <td>3.0</td>\n",
              "      <td>27.0</td>\n",
              "      <td>13.0</td>\n",
              "      <td>3.0</td>\n",
              "      <td>1.0</td>\n",
              "      <td>14.0</td>\n",
              "      <td>3.0</td>\n",
              "      <td>4.0</td>\n",
              "      <td>1</td>\n",
              "    </tr>\n",
              "    <tr>\n",
              "      <th>2</th>\n",
              "      <td>4.0</td>\n",
              "      <td>22.0</td>\n",
              "      <td>2.5</td>\n",
              "      <td>0.0</td>\n",
              "      <td>1.0</td>\n",
              "      <td>16.0</td>\n",
              "      <td>3.0</td>\n",
              "      <td>5.0</td>\n",
              "      <td>1</td>\n",
              "    </tr>\n",
              "    <tr>\n",
              "      <th>3</th>\n",
              "      <td>4.0</td>\n",
              "      <td>37.0</td>\n",
              "      <td>16.5</td>\n",
              "      <td>4.0</td>\n",
              "      <td>3.0</td>\n",
              "      <td>16.0</td>\n",
              "      <td>5.0</td>\n",
              "      <td>5.0</td>\n",
              "      <td>1</td>\n",
              "    </tr>\n",
              "    <tr>\n",
              "      <th>4</th>\n",
              "      <td>5.0</td>\n",
              "      <td>27.0</td>\n",
              "      <td>9.0</td>\n",
              "      <td>1.0</td>\n",
              "      <td>1.0</td>\n",
              "      <td>14.0</td>\n",
              "      <td>3.0</td>\n",
              "      <td>4.0</td>\n",
              "      <td>1</td>\n",
              "    </tr>\n",
              "  </tbody>\n",
              "</table>\n",
              "</div>\n",
              "      <button class=\"colab-df-convert\" onclick=\"convertToInteractive('df-0c1633ad-cb26-4ae7-b2a2-5161fb6db0f2')\"\n",
              "              title=\"Convert this dataframe to an interactive table.\"\n",
              "              style=\"display:none;\">\n",
              "        \n",
              "  <svg xmlns=\"http://www.w3.org/2000/svg\" height=\"24px\"viewBox=\"0 0 24 24\"\n",
              "       width=\"24px\">\n",
              "    <path d=\"M0 0h24v24H0V0z\" fill=\"none\"/>\n",
              "    <path d=\"M18.56 5.44l.94 2.06.94-2.06 2.06-.94-2.06-.94-.94-2.06-.94 2.06-2.06.94zm-11 1L8.5 8.5l.94-2.06 2.06-.94-2.06-.94L8.5 2.5l-.94 2.06-2.06.94zm10 10l.94 2.06.94-2.06 2.06-.94-2.06-.94-.94-2.06-.94 2.06-2.06.94z\"/><path d=\"M17.41 7.96l-1.37-1.37c-.4-.4-.92-.59-1.43-.59-.52 0-1.04.2-1.43.59L10.3 9.45l-7.72 7.72c-.78.78-.78 2.05 0 2.83L4 21.41c.39.39.9.59 1.41.59.51 0 1.02-.2 1.41-.59l7.78-7.78 2.81-2.81c.8-.78.8-2.07 0-2.86zM5.41 20L4 18.59l7.72-7.72 1.47 1.35L5.41 20z\"/>\n",
              "  </svg>\n",
              "      </button>\n",
              "      \n",
              "  <style>\n",
              "    .colab-df-container {\n",
              "      display:flex;\n",
              "      flex-wrap:wrap;\n",
              "      gap: 12px;\n",
              "    }\n",
              "\n",
              "    .colab-df-convert {\n",
              "      background-color: #E8F0FE;\n",
              "      border: none;\n",
              "      border-radius: 50%;\n",
              "      cursor: pointer;\n",
              "      display: none;\n",
              "      fill: #1967D2;\n",
              "      height: 32px;\n",
              "      padding: 0 0 0 0;\n",
              "      width: 32px;\n",
              "    }\n",
              "\n",
              "    .colab-df-convert:hover {\n",
              "      background-color: #E2EBFA;\n",
              "      box-shadow: 0px 1px 2px rgba(60, 64, 67, 0.3), 0px 1px 3px 1px rgba(60, 64, 67, 0.15);\n",
              "      fill: #174EA6;\n",
              "    }\n",
              "\n",
              "    [theme=dark] .colab-df-convert {\n",
              "      background-color: #3B4455;\n",
              "      fill: #D2E3FC;\n",
              "    }\n",
              "\n",
              "    [theme=dark] .colab-df-convert:hover {\n",
              "      background-color: #434B5C;\n",
              "      box-shadow: 0px 1px 3px 1px rgba(0, 0, 0, 0.15);\n",
              "      filter: drop-shadow(0px 1px 2px rgba(0, 0, 0, 0.3));\n",
              "      fill: #FFFFFF;\n",
              "    }\n",
              "  </style>\n",
              "\n",
              "      <script>\n",
              "        const buttonEl =\n",
              "          document.querySelector('#df-0c1633ad-cb26-4ae7-b2a2-5161fb6db0f2 button.colab-df-convert');\n",
              "        buttonEl.style.display =\n",
              "          google.colab.kernel.accessAllowed ? 'block' : 'none';\n",
              "\n",
              "        async function convertToInteractive(key) {\n",
              "          const element = document.querySelector('#df-0c1633ad-cb26-4ae7-b2a2-5161fb6db0f2');\n",
              "          const dataTable =\n",
              "            await google.colab.kernel.invokeFunction('convertToInteractive',\n",
              "                                                     [key], {});\n",
              "          if (!dataTable) return;\n",
              "\n",
              "          const docLinkHtml = 'Like what you see? Visit the ' +\n",
              "            '<a target=\"_blank\" href=https://colab.research.google.com/notebooks/data_table.ipynb>data table notebook</a>'\n",
              "            + ' to learn more about interactive tables.';\n",
              "          element.innerHTML = '';\n",
              "          dataTable['output_type'] = 'display_data';\n",
              "          await google.colab.output.renderOutput(dataTable, element);\n",
              "          const docLink = document.createElement('div');\n",
              "          docLink.innerHTML = docLinkHtml;\n",
              "          element.appendChild(docLink);\n",
              "        }\n",
              "      </script>\n",
              "    </div>\n",
              "  </div>\n",
              "  "
            ],
            "text/plain": [
              "   rate_marriage   age  yrs_married  ...  occupation  occupation_husb  affairs\n",
              "0            3.0  32.0          9.0  ...         2.0              5.0        1\n",
              "1            3.0  27.0         13.0  ...         3.0              4.0        1\n",
              "2            4.0  22.0          2.5  ...         3.0              5.0        1\n",
              "3            4.0  37.0         16.5  ...         5.0              5.0        1\n",
              "4            5.0  27.0          9.0  ...         3.0              4.0        1\n",
              "\n",
              "[5 rows x 9 columns]"
            ]
          },
          "metadata": {},
          "execution_count": 323
        }
      ]
    },
    {
      "cell_type": "markdown",
      "source": [
        "### Train Test Split"
      ],
      "metadata": {
        "id": "r3es4zjIZfhp"
      }
    },
    {
      "cell_type": "code",
      "source": [
        "# Defining the input and output\n",
        "X = df.drop(['affairs'], axis=1)\n",
        "Y = df['affairs']"
      ],
      "metadata": {
        "id": "xu7YZw5uZiez"
      },
      "execution_count": null,
      "outputs": []
    },
    {
      "cell_type": "code",
      "source": [
        "# Splitting the data\n",
        "X_train, X_test, Y_train, Y_test = train_test_split(X, Y, test_size=0.66, random_state=687)"
      ],
      "metadata": {
        "id": "ghzB1VLEZ0Xs"
      },
      "execution_count": null,
      "outputs": []
    },
    {
      "cell_type": "markdown",
      "source": [
        "## **Data Visualization**"
      ],
      "metadata": {
        "id": "URUB4MUM11Ko"
      }
    },
    {
      "cell_type": "code",
      "source": [
        "# let us see the details of this dataset\n",
        "X_train.info()"
      ],
      "metadata": {
        "colab": {
          "base_uri": "https://localhost:8080/"
        },
        "id": "nYjPFerC14Uz",
        "outputId": "5a581e8e-e0fe-4722-9571-82622349ea2b"
      },
      "execution_count": null,
      "outputs": [
        {
          "output_type": "stream",
          "name": "stdout",
          "text": [
            "<class 'pandas.core.frame.DataFrame'>\n",
            "Int64Index: 2164 entries, 2406 to 462\n",
            "Data columns (total 8 columns):\n",
            " #   Column           Non-Null Count  Dtype  \n",
            "---  ------           --------------  -----  \n",
            " 0   rate_marriage    2164 non-null   float64\n",
            " 1   age              2164 non-null   float64\n",
            " 2   yrs_married      2164 non-null   float64\n",
            " 3   children         2164 non-null   float64\n",
            " 4   religious        2164 non-null   float64\n",
            " 5   educ             2164 non-null   float64\n",
            " 6   occupation       2164 non-null   float64\n",
            " 7   occupation_husb  2164 non-null   float64\n",
            "dtypes: float64(8)\n",
            "memory usage: 152.2 KB\n"
          ]
        }
      ]
    },
    {
      "cell_type": "code",
      "source": [
        "df.corr()"
      ],
      "metadata": {
        "colab": {
          "base_uri": "https://localhost:8080/",
          "height": 331
        },
        "id": "hAUHGOJqBQXl",
        "outputId": "f24d9b3e-11d4-45a0-a01b-936bb218e5eb"
      },
      "execution_count": null,
      "outputs": [
        {
          "output_type": "execute_result",
          "data": {
            "text/html": [
              "\n",
              "  <div id=\"df-0fe78b64-2744-4c87-9497-6ddfa7fa98b7\">\n",
              "    <div class=\"colab-df-container\">\n",
              "      <div>\n",
              "<style scoped>\n",
              "    .dataframe tbody tr th:only-of-type {\n",
              "        vertical-align: middle;\n",
              "    }\n",
              "\n",
              "    .dataframe tbody tr th {\n",
              "        vertical-align: top;\n",
              "    }\n",
              "\n",
              "    .dataframe thead th {\n",
              "        text-align: right;\n",
              "    }\n",
              "</style>\n",
              "<table border=\"1\" class=\"dataframe\">\n",
              "  <thead>\n",
              "    <tr style=\"text-align: right;\">\n",
              "      <th></th>\n",
              "      <th>rate_marriage</th>\n",
              "      <th>age</th>\n",
              "      <th>yrs_married</th>\n",
              "      <th>children</th>\n",
              "      <th>religious</th>\n",
              "      <th>educ</th>\n",
              "      <th>occupation</th>\n",
              "      <th>occupation_husb</th>\n",
              "      <th>affairs</th>\n",
              "    </tr>\n",
              "  </thead>\n",
              "  <tbody>\n",
              "    <tr>\n",
              "      <th>rate_marriage</th>\n",
              "      <td>1.000000</td>\n",
              "      <td>-0.111127</td>\n",
              "      <td>-0.128978</td>\n",
              "      <td>-0.129161</td>\n",
              "      <td>0.078794</td>\n",
              "      <td>0.079869</td>\n",
              "      <td>0.039528</td>\n",
              "      <td>0.027745</td>\n",
              "      <td>-0.331776</td>\n",
              "    </tr>\n",
              "    <tr>\n",
              "      <th>age</th>\n",
              "      <td>-0.111127</td>\n",
              "      <td>1.000000</td>\n",
              "      <td>0.894082</td>\n",
              "      <td>0.673902</td>\n",
              "      <td>0.136598</td>\n",
              "      <td>0.027960</td>\n",
              "      <td>0.106127</td>\n",
              "      <td>0.162567</td>\n",
              "      <td>0.146519</td>\n",
              "    </tr>\n",
              "    <tr>\n",
              "      <th>yrs_married</th>\n",
              "      <td>-0.128978</td>\n",
              "      <td>0.894082</td>\n",
              "      <td>1.000000</td>\n",
              "      <td>0.772806</td>\n",
              "      <td>0.132683</td>\n",
              "      <td>-0.109058</td>\n",
              "      <td>0.041782</td>\n",
              "      <td>0.128135</td>\n",
              "      <td>0.203109</td>\n",
              "    </tr>\n",
              "    <tr>\n",
              "      <th>children</th>\n",
              "      <td>-0.129161</td>\n",
              "      <td>0.673902</td>\n",
              "      <td>0.772806</td>\n",
              "      <td>1.000000</td>\n",
              "      <td>0.141845</td>\n",
              "      <td>-0.141918</td>\n",
              "      <td>-0.015068</td>\n",
              "      <td>0.086660</td>\n",
              "      <td>0.159833</td>\n",
              "    </tr>\n",
              "    <tr>\n",
              "      <th>religious</th>\n",
              "      <td>0.078794</td>\n",
              "      <td>0.136598</td>\n",
              "      <td>0.132683</td>\n",
              "      <td>0.141845</td>\n",
              "      <td>1.000000</td>\n",
              "      <td>0.032245</td>\n",
              "      <td>0.035746</td>\n",
              "      <td>0.004061</td>\n",
              "      <td>-0.129299</td>\n",
              "    </tr>\n",
              "    <tr>\n",
              "      <th>educ</th>\n",
              "      <td>0.079869</td>\n",
              "      <td>0.027960</td>\n",
              "      <td>-0.109058</td>\n",
              "      <td>-0.141918</td>\n",
              "      <td>0.032245</td>\n",
              "      <td>1.000000</td>\n",
              "      <td>0.382286</td>\n",
              "      <td>0.183932</td>\n",
              "      <td>-0.075280</td>\n",
              "    </tr>\n",
              "    <tr>\n",
              "      <th>occupation</th>\n",
              "      <td>0.039528</td>\n",
              "      <td>0.106127</td>\n",
              "      <td>0.041782</td>\n",
              "      <td>-0.015068</td>\n",
              "      <td>0.035746</td>\n",
              "      <td>0.382286</td>\n",
              "      <td>1.000000</td>\n",
              "      <td>0.201156</td>\n",
              "      <td>0.028981</td>\n",
              "    </tr>\n",
              "    <tr>\n",
              "      <th>occupation_husb</th>\n",
              "      <td>0.027745</td>\n",
              "      <td>0.162567</td>\n",
              "      <td>0.128135</td>\n",
              "      <td>0.086660</td>\n",
              "      <td>0.004061</td>\n",
              "      <td>0.183932</td>\n",
              "      <td>0.201156</td>\n",
              "      <td>1.000000</td>\n",
              "      <td>0.017637</td>\n",
              "    </tr>\n",
              "    <tr>\n",
              "      <th>affairs</th>\n",
              "      <td>-0.331776</td>\n",
              "      <td>0.146519</td>\n",
              "      <td>0.203109</td>\n",
              "      <td>0.159833</td>\n",
              "      <td>-0.129299</td>\n",
              "      <td>-0.075280</td>\n",
              "      <td>0.028981</td>\n",
              "      <td>0.017637</td>\n",
              "      <td>1.000000</td>\n",
              "    </tr>\n",
              "  </tbody>\n",
              "</table>\n",
              "</div>\n",
              "      <button class=\"colab-df-convert\" onclick=\"convertToInteractive('df-0fe78b64-2744-4c87-9497-6ddfa7fa98b7')\"\n",
              "              title=\"Convert this dataframe to an interactive table.\"\n",
              "              style=\"display:none;\">\n",
              "        \n",
              "  <svg xmlns=\"http://www.w3.org/2000/svg\" height=\"24px\"viewBox=\"0 0 24 24\"\n",
              "       width=\"24px\">\n",
              "    <path d=\"M0 0h24v24H0V0z\" fill=\"none\"/>\n",
              "    <path d=\"M18.56 5.44l.94 2.06.94-2.06 2.06-.94-2.06-.94-.94-2.06-.94 2.06-2.06.94zm-11 1L8.5 8.5l.94-2.06 2.06-.94-2.06-.94L8.5 2.5l-.94 2.06-2.06.94zm10 10l.94 2.06.94-2.06 2.06-.94-2.06-.94-.94-2.06-.94 2.06-2.06.94z\"/><path d=\"M17.41 7.96l-1.37-1.37c-.4-.4-.92-.59-1.43-.59-.52 0-1.04.2-1.43.59L10.3 9.45l-7.72 7.72c-.78.78-.78 2.05 0 2.83L4 21.41c.39.39.9.59 1.41.59.51 0 1.02-.2 1.41-.59l7.78-7.78 2.81-2.81c.8-.78.8-2.07 0-2.86zM5.41 20L4 18.59l7.72-7.72 1.47 1.35L5.41 20z\"/>\n",
              "  </svg>\n",
              "      </button>\n",
              "      \n",
              "  <style>\n",
              "    .colab-df-container {\n",
              "      display:flex;\n",
              "      flex-wrap:wrap;\n",
              "      gap: 12px;\n",
              "    }\n",
              "\n",
              "    .colab-df-convert {\n",
              "      background-color: #E8F0FE;\n",
              "      border: none;\n",
              "      border-radius: 50%;\n",
              "      cursor: pointer;\n",
              "      display: none;\n",
              "      fill: #1967D2;\n",
              "      height: 32px;\n",
              "      padding: 0 0 0 0;\n",
              "      width: 32px;\n",
              "    }\n",
              "\n",
              "    .colab-df-convert:hover {\n",
              "      background-color: #E2EBFA;\n",
              "      box-shadow: 0px 1px 2px rgba(60, 64, 67, 0.3), 0px 1px 3px 1px rgba(60, 64, 67, 0.15);\n",
              "      fill: #174EA6;\n",
              "    }\n",
              "\n",
              "    [theme=dark] .colab-df-convert {\n",
              "      background-color: #3B4455;\n",
              "      fill: #D2E3FC;\n",
              "    }\n",
              "\n",
              "    [theme=dark] .colab-df-convert:hover {\n",
              "      background-color: #434B5C;\n",
              "      box-shadow: 0px 1px 3px 1px rgba(0, 0, 0, 0.15);\n",
              "      filter: drop-shadow(0px 1px 2px rgba(0, 0, 0, 0.3));\n",
              "      fill: #FFFFFF;\n",
              "    }\n",
              "  </style>\n",
              "\n",
              "      <script>\n",
              "        const buttonEl =\n",
              "          document.querySelector('#df-0fe78b64-2744-4c87-9497-6ddfa7fa98b7 button.colab-df-convert');\n",
              "        buttonEl.style.display =\n",
              "          google.colab.kernel.accessAllowed ? 'block' : 'none';\n",
              "\n",
              "        async function convertToInteractive(key) {\n",
              "          const element = document.querySelector('#df-0fe78b64-2744-4c87-9497-6ddfa7fa98b7');\n",
              "          const dataTable =\n",
              "            await google.colab.kernel.invokeFunction('convertToInteractive',\n",
              "                                                     [key], {});\n",
              "          if (!dataTable) return;\n",
              "\n",
              "          const docLinkHtml = 'Like what you see? Visit the ' +\n",
              "            '<a target=\"_blank\" href=https://colab.research.google.com/notebooks/data_table.ipynb>data table notebook</a>'\n",
              "            + ' to learn more about interactive tables.';\n",
              "          element.innerHTML = '';\n",
              "          dataTable['output_type'] = 'display_data';\n",
              "          await google.colab.output.renderOutput(dataTable, element);\n",
              "          const docLink = document.createElement('div');\n",
              "          docLink.innerHTML = docLinkHtml;\n",
              "          element.appendChild(docLink);\n",
              "        }\n",
              "      </script>\n",
              "    </div>\n",
              "  </div>\n",
              "  "
            ],
            "text/plain": [
              "                 rate_marriage       age  ...  occupation_husb   affairs\n",
              "rate_marriage         1.000000 -0.111127  ...         0.027745 -0.331776\n",
              "age                  -0.111127  1.000000  ...         0.162567  0.146519\n",
              "yrs_married          -0.128978  0.894082  ...         0.128135  0.203109\n",
              "children             -0.129161  0.673902  ...         0.086660  0.159833\n",
              "religious             0.078794  0.136598  ...         0.004061 -0.129299\n",
              "educ                  0.079869  0.027960  ...         0.183932 -0.075280\n",
              "occupation            0.039528  0.106127  ...         0.201156  0.028981\n",
              "occupation_husb       0.027745  0.162567  ...         1.000000  0.017637\n",
              "affairs              -0.331776  0.146519  ...         0.017637  1.000000\n",
              "\n",
              "[9 rows x 9 columns]"
            ]
          },
          "metadata": {},
          "execution_count": 327
        }
      ]
    },
    {
      "cell_type": "code",
      "source": [
        "# Let us see the distribution of marriage type throughout the dataset\n",
        "sns.histplot(x=X_train['rate_marriage'], color='red')"
      ],
      "metadata": {
        "colab": {
          "base_uri": "https://localhost:8080/",
          "height": 297
        },
        "id": "ZecuIbuz2Hsw",
        "outputId": "0677fe78-a197-41e7-d5fc-41eb1525e465"
      },
      "execution_count": null,
      "outputs": [
        {
          "output_type": "execute_result",
          "data": {
            "text/plain": [
              "<matplotlib.axes._subplots.AxesSubplot at 0x7f6749316a90>"
            ]
          },
          "metadata": {},
          "execution_count": 328
        },
        {
          "output_type": "display_data",
          "data": {
            "image/png": "[encoded data removed]",
            "text/plain": [
              "<Figure size 432x288 with 1 Axes>"
            ]
          },
          "metadata": {}
        }
      ]
    },
    {
      "cell_type": "markdown",
      "source": [
        "Most of the couples had very good marriage life"
      ],
      "metadata": {
        "id": "EGIlST6i2cWI"
      }
    },
    {
      "cell_type": "markdown",
      "source": [
        "Now let  us see the rate of couples that had affairs and that hadn't and compare it with rate of marriage."
      ],
      "metadata": {
        "id": "Sn6wqj39_vQF"
      }
    },
    {
      "cell_type": "code",
      "source": [
        "fig, axis = plt.subplots(1, 2, figsize=(10, 4))\n",
        "sns.pointplot(x=X_train['rate_marriage'], y=Y_train, color='violet', ax=axis[0])\n",
        "sns.histplot(X_train['rate_marriage'], ax=axis[1], color='red')\n",
        "axis[0].set_ylabel('affairs')\n",
        "plt.show()"
      ],
      "metadata": {
        "colab": {
          "base_uri": "https://localhost:8080/",
          "height": 282
        },
        "id": "rHUzoNK7_4Sv",
        "outputId": "48e5d836-eb23-4c24-82ab-1b6845fd4890"
      },
      "execution_count": null,
      "outputs": [
        {
          "output_type": "display_data",
          "data": {
            "image/png": "[encoded data removed]",
            "text/plain": [
              "<Figure size 720x288 with 2 Axes>"
            ]
          },
          "metadata": {}
        }
      ]
    },
    {
      "cell_type": "markdown",
      "source": [
        "Marriage that rates 3 and below had higher rates of affairs. Out off this, the number of samples with rate_marriage as 1 is very less."
      ],
      "metadata": {
        "id": "_56YHKoMAg57"
      }
    },
    {
      "cell_type": "markdown",
      "source": [
        "Now let us see the same for number of years after marriage"
      ],
      "metadata": {
        "id": "K3w22PCDBMQW"
      }
    },
    {
      "cell_type": "code",
      "source": [
        "fig, axis = plt.subplots(1, 2, figsize=(10, 4))\n",
        "sns.pointplot(x=X_train['yrs_married'], y=Y_train, color='violet', ax=axis[0])\n",
        "sns.histplot(X_train['yrs_married'], ax=axis[1], color='red')\n",
        "axis[0].set_ylabel('affairs')\n",
        "plt.show()"
      ],
      "metadata": {
        "colab": {
          "base_uri": "https://localhost:8080/",
          "height": 280
        },
        "id": "qWKWmWo7BfTG",
        "outputId": "d9523956-68c9-4a25-c7ec-69f133f4ed9e"
      },
      "execution_count": null,
      "outputs": [
        {
          "output_type": "display_data",
          "data": {
            "image/png": "[encoded data removed]",
            "text/plain": [
              "<Figure size 720x288 with 2 Axes>"
            ]
          },
          "metadata": {}
        }
      ]
    },
    {
      "cell_type": "markdown",
      "source": [
        "It can be viewed that with increasing number of years married, the rate of affairs increase."
      ],
      "metadata": {
        "id": "pdWleKd_Qz70"
      }
    },
    {
      "cell_type": "markdown",
      "source": [
        "Number of children, age, and religion are the other factors that had higher correlation with the affair rate."
      ],
      "metadata": {
        "id": "AUnSSmwhlNiT"
      }
    },
    {
      "cell_type": "code",
      "source": [
        "fig, axis = plt.subplots(2, 3, figsize=(20, 8))\n",
        "sns.pointplot(x=X_train['children'], y=Y_train, color='violet', ax=axis[0, 0])\n",
        "sns.pointplot(x=X_train['age'], y=Y_train, color='violet', ax=axis[0, 1])\n",
        "sns.pointplot(x=X_train['religious'], y=Y_train, color='violet', ax=axis[0, 2])\n",
        "sns.histplot(X_train['children'], ax=axis[1, 0], color='red')\n",
        "sns.histplot(X_train['age'], ax=axis[1, 1], color='red')\n",
        "sns.histplot(X_train['religious'], ax=axis[1, 2], color='red')\n",
        "plt.show()"
      ],
      "metadata": {
        "colab": {
          "base_uri": "https://localhost:8080/",
          "height": 491
        },
        "id": "fSaFfG2alhUm",
        "outputId": "0cb3030d-f6ba-4ddf-9228-db387f9383e9"
      },
      "execution_count": null,
      "outputs": [
        {
          "output_type": "display_data",
          "data": {
            "image/png": "[encoded data removed]",
            "text/plain": [
              "<Figure size 1440x576 with 6 Axes>"
            ]
          },
          "metadata": {}
        }
      ]
    },
    {
      "cell_type": "markdown",
      "source": [
        "All these features seem to show the character of a logistic regression graph. Higher the age and the number of children, more likely to have affairs. But there is a slight depth after some time. \n",
        "\n",
        "Affairs are less in case of religious couples.\n",
        "\n",
        "Here the number of samples with children more than 3 is very less and they doesn't follow linearity.\n",
        "\n",
        "Also, samples with age less than 20 is very less."
      ],
      "metadata": {
        "id": "0jEkcQGLn1NN"
      }
    },
    {
      "cell_type": "markdown",
      "source": [
        "Out of curiosity, let us check how the rate of marriage changes with age."
      ],
      "metadata": {
        "id": "5JM29dnhoauX"
      }
    },
    {
      "cell_type": "code",
      "source": [
        "sns.pointplot(x=X_train['age'], y=X_train['rate_marriage'], color='violet')\n",
        "plt.show()"
      ],
      "metadata": {
        "colab": {
          "base_uri": "https://localhost:8080/",
          "height": 279
        },
        "id": "Ask23dBWok0c",
        "outputId": "cffccbf3-0e84-41ee-a6ee-035fc1548f23"
      },
      "execution_count": null,
      "outputs": [
        {
          "output_type": "display_data",
          "data": {
            "image/png": "[encoded data removed]",
            "text/plain": [
              "<Figure size 432x288 with 1 Axes>"
            ]
          },
          "metadata": {}
        }
      ]
    },
    {
      "cell_type": "markdown",
      "source": [
        "The rate of marriage is declining by age as shown in the graph."
      ],
      "metadata": {
        "id": "bSMbykQ2pVO1"
      }
    },
    {
      "cell_type": "markdown",
      "source": [
        "For curiosity, let us also see the relationship between education and occupation."
      ],
      "metadata": {
        "id": "NrHdhdsQpw_P"
      }
    },
    {
      "cell_type": "code",
      "source": [
        "sns.pointplot(x=X_train['educ'], y=X_train['occupation'], color='violet')\n",
        "plt.show"
      ],
      "metadata": {
        "colab": {
          "base_uri": "https://localhost:8080/",
          "height": 297
        },
        "id": "xAr7vdgXoYeS",
        "outputId": "2927fe8b-0526-43f8-c7b6-d908a3238da7"
      },
      "execution_count": null,
      "outputs": [
        {
          "output_type": "execute_result",
          "data": {
            "text/plain": [
              "<function matplotlib.pyplot.show>"
            ]
          },
          "metadata": {},
          "execution_count": 333
        },
        {
          "output_type": "display_data",
          "data": {
            "image/png": "[encoded data removed]",
            "text/plain": [
              "<Figure size 432x288 with 1 Axes>"
            ]
          },
          "metadata": {}
        }
      ]
    },
    {
      "cell_type": "markdown",
      "source": [
        "This is obvious."
      ],
      "metadata": {
        "id": "sedkyH32qHSn"
      }
    },
    {
      "cell_type": "markdown",
      "source": [
        "Occupation, Education, and occupation of husband are features that has shown less correlation here. Let us visualize them."
      ],
      "metadata": {
        "id": "KdfO4znrqKut"
      }
    },
    {
      "cell_type": "code",
      "source": [
        "fig, axis = plt.subplots(2, 3, figsize=(20, 8))\n",
        "sns.pointplot(x=X_train['occupation'], y=Y_train, color='violet', ax=axis[0, 0])\n",
        "sns.pointplot(x=X_train['occupation_husb'], y=Y_train, color='violet', ax=axis[0, 1])\n",
        "sns.pointplot(x=X_train['educ'], y=Y_train, color='violet', ax=axis[0, 2])\n",
        "sns.histplot(X_train['occupation'], ax=axis[1, 0], color='red')\n",
        "sns.histplot(X_train['occupation_husb'], ax=axis[1, 1], color='red')\n",
        "sns.histplot(X_train['educ'], ax=axis[1, 2], color='red')\n",
        "plt.show()"
      ],
      "metadata": {
        "colab": {
          "base_uri": "https://localhost:8080/",
          "height": 491
        },
        "id": "rJ-W-i5qqZzG",
        "outputId": "acb01fa2-0d14-4c3a-a312-4f32f4036c5a"
      },
      "execution_count": null,
      "outputs": [
        {
          "output_type": "display_data",
          "data": {
            "image/png": "[encoded data removed]",
            "text/plain": [
              "<Figure size 1440x576 with 6 Axes>"
            ]
          },
          "metadata": {}
        }
      ]
    },
    {
      "cell_type": "markdown",
      "source": [
        "Like shown in the correlation. They have very less significance in effect on affair rates. "
      ],
      "metadata": {
        "id": "7R1Ko2XXrOde"
      }
    },
    {
      "cell_type": "markdown",
      "source": [
        "## **Data Cleaning**"
      ],
      "metadata": {
        "id": "oWqG-H7FHBuX"
      }
    },
    {
      "cell_type": "markdown",
      "source": [
        "These are what we observed from the visualization:\n",
        "\n",
        "* The number of samples with rate_marriage as 1 is very less\n",
        "\n",
        "* Here the number of samples with children more than 3 is very less and they don't follow linearity.\n",
        "\n",
        "* Also, samples with age less than 20 is very less as well.\n",
        "\n",
        "* occupation, occupation_husb and educ provides very less information"
      ],
      "metadata": {
        "id": "ALvLGKVJHFzH"
      }
    },
    {
      "cell_type": "code",
      "source": [
        "# Removing outliers\n",
        "indices_to_drop = []\n",
        "indices_to_drop.extend(X_train[X_train['children'] > 3].index.values)\n",
        "\n",
        "X_train.drop(indices_to_drop, inplace=True)\n",
        "Y_train.drop(indices_to_drop, inplace=True)"
      ],
      "metadata": {
        "id": "-rMqx02PHKH6"
      },
      "execution_count": null,
      "outputs": []
    },
    {
      "cell_type": "markdown",
      "source": [
        "Before going ahead with this, there is a need to make dummy columns. This is because most of the features are identified on the basis of numeric values. This might confuse the regression model as it might valuate the values with greater magnitude with the same value."
      ],
      "metadata": {
        "id": "dtl7QUvcO6ge"
      }
    },
    {
      "cell_type": "code",
      "source": [
        "# Removing less significant columns\n",
        "X_train.drop(['occupation', 'occupation_husb', 'educ'], axis=1, inplace=True)\n",
        "\n",
        "# Creating dummy columns\n",
        "X_train_withDummy =  X_train.astype({'children': 'category', 'religious': 'category', 'rate_marriage': 'category'})\n",
        "X_train_withDummy = pd.get_dummies(X_train_withDummy, drop_first=True)\n",
        "X_train_withDummy.head()"
      ],
      "metadata": {
        "colab": {
          "base_uri": "https://localhost:8080/",
          "height": 270
        },
        "id": "X6O79tc6iRh1",
        "outputId": "a78cc3df-722b-4e5b-e56f-d69fd1795c9e"
      },
      "execution_count": null,
      "outputs": [
        {
          "output_type": "execute_result",
          "data": {
            "text/html": [
              "\n",
              "  <div id=\"df-e88b6062-086b-457b-a194-c60f12e43ced\">\n",
              "    <div class=\"colab-df-container\">\n",
              "      <div>\n",
              "<style scoped>\n",
              "    .dataframe tbody tr th:only-of-type {\n",
              "        vertical-align: middle;\n",
              "    }\n",
              "\n",
              "    .dataframe tbody tr th {\n",
              "        vertical-align: top;\n",
              "    }\n",
              "\n",
              "    .dataframe thead th {\n",
              "        text-align: right;\n",
              "    }\n",
              "</style>\n",
              "<table border=\"1\" class=\"dataframe\">\n",
              "  <thead>\n",
              "    <tr style=\"text-align: right;\">\n",
              "      <th></th>\n",
              "      <th>age</th>\n",
              "      <th>yrs_married</th>\n",
              "      <th>rate_marriage_2.0</th>\n",
              "      <th>rate_marriage_3.0</th>\n",
              "      <th>rate_marriage_4.0</th>\n",
              "      <th>rate_marriage_5.0</th>\n",
              "      <th>children_1.0</th>\n",
              "      <th>children_2.0</th>\n",
              "      <th>children_3.0</th>\n",
              "      <th>religious_2.0</th>\n",
              "      <th>religious_3.0</th>\n",
              "      <th>religious_4.0</th>\n",
              "    </tr>\n",
              "  </thead>\n",
              "  <tbody>\n",
              "    <tr>\n",
              "      <th>2406</th>\n",
              "      <td>27.0</td>\n",
              "      <td>6.0</td>\n",
              "      <td>0</td>\n",
              "      <td>1</td>\n",
              "      <td>0</td>\n",
              "      <td>0</td>\n",
              "      <td>0</td>\n",
              "      <td>1</td>\n",
              "      <td>0</td>\n",
              "      <td>0</td>\n",
              "      <td>1</td>\n",
              "      <td>0</td>\n",
              "    </tr>\n",
              "    <tr>\n",
              "      <th>417</th>\n",
              "      <td>27.0</td>\n",
              "      <td>9.0</td>\n",
              "      <td>0</td>\n",
              "      <td>0</td>\n",
              "      <td>1</td>\n",
              "      <td>0</td>\n",
              "      <td>0</td>\n",
              "      <td>0</td>\n",
              "      <td>1</td>\n",
              "      <td>0</td>\n",
              "      <td>1</td>\n",
              "      <td>0</td>\n",
              "    </tr>\n",
              "    <tr>\n",
              "      <th>2323</th>\n",
              "      <td>22.0</td>\n",
              "      <td>2.5</td>\n",
              "      <td>0</td>\n",
              "      <td>0</td>\n",
              "      <td>1</td>\n",
              "      <td>0</td>\n",
              "      <td>0</td>\n",
              "      <td>0</td>\n",
              "      <td>0</td>\n",
              "      <td>0</td>\n",
              "      <td>1</td>\n",
              "      <td>0</td>\n",
              "    </tr>\n",
              "    <tr>\n",
              "      <th>4867</th>\n",
              "      <td>22.0</td>\n",
              "      <td>6.0</td>\n",
              "      <td>0</td>\n",
              "      <td>0</td>\n",
              "      <td>0</td>\n",
              "      <td>1</td>\n",
              "      <td>1</td>\n",
              "      <td>0</td>\n",
              "      <td>0</td>\n",
              "      <td>1</td>\n",
              "      <td>0</td>\n",
              "      <td>0</td>\n",
              "    </tr>\n",
              "    <tr>\n",
              "      <th>4448</th>\n",
              "      <td>22.0</td>\n",
              "      <td>2.5</td>\n",
              "      <td>0</td>\n",
              "      <td>0</td>\n",
              "      <td>0</td>\n",
              "      <td>1</td>\n",
              "      <td>0</td>\n",
              "      <td>0</td>\n",
              "      <td>0</td>\n",
              "      <td>0</td>\n",
              "      <td>1</td>\n",
              "      <td>0</td>\n",
              "    </tr>\n",
              "  </tbody>\n",
              "</table>\n",
              "</div>\n",
              "      <button class=\"colab-df-convert\" onclick=\"convertToInteractive('df-e88b6062-086b-457b-a194-c60f12e43ced')\"\n",
              "              title=\"Convert this dataframe to an interactive table.\"\n",
              "              style=\"display:none;\">\n",
              "        \n",
              "  <svg xmlns=\"http://www.w3.org/2000/svg\" height=\"24px\"viewBox=\"0 0 24 24\"\n",
              "       width=\"24px\">\n",
              "    <path d=\"M0 0h24v24H0V0z\" fill=\"none\"/>\n",
              "    <path d=\"M18.56 5.44l.94 2.06.94-2.06 2.06-.94-2.06-.94-.94-2.06-.94 2.06-2.06.94zm-11 1L8.5 8.5l.94-2.06 2.06-.94-2.06-.94L8.5 2.5l-.94 2.06-2.06.94zm10 10l.94 2.06.94-2.06 2.06-.94-2.06-.94-.94-2.06-.94 2.06-2.06.94z\"/><path d=\"M17.41 7.96l-1.37-1.37c-.4-.4-.92-.59-1.43-.59-.52 0-1.04.2-1.43.59L10.3 9.45l-7.72 7.72c-.78.78-.78 2.05 0 2.83L4 21.41c.39.39.9.59 1.41.59.51 0 1.02-.2 1.41-.59l7.78-7.78 2.81-2.81c.8-.78.8-2.07 0-2.86zM5.41 20L4 18.59l7.72-7.72 1.47 1.35L5.41 20z\"/>\n",
              "  </svg>\n",
              "      </button>\n",
              "      \n",
              "  <style>\n",
              "    .colab-df-container {\n",
              "      display:flex;\n",
              "      flex-wrap:wrap;\n",
              "      gap: 12px;\n",
              "    }\n",
              "\n",
              "    .colab-df-convert {\n",
              "      background-color: #E8F0FE;\n",
              "      border: none;\n",
              "      border-radius: 50%;\n",
              "      cursor: pointer;\n",
              "      display: none;\n",
              "      fill: #1967D2;\n",
              "      height: 32px;\n",
              "      padding: 0 0 0 0;\n",
              "      width: 32px;\n",
              "    }\n",
              "\n",
              "    .colab-df-convert:hover {\n",
              "      background-color: #E2EBFA;\n",
              "      box-shadow: 0px 1px 2px rgba(60, 64, 67, 0.3), 0px 1px 3px 1px rgba(60, 64, 67, 0.15);\n",
              "      fill: #174EA6;\n",
              "    }\n",
              "\n",
              "    [theme=dark] .colab-df-convert {\n",
              "      background-color: #3B4455;\n",
              "      fill: #D2E3FC;\n",
              "    }\n",
              "\n",
              "    [theme=dark] .colab-df-convert:hover {\n",
              "      background-color: #434B5C;\n",
              "      box-shadow: 0px 1px 3px 1px rgba(0, 0, 0, 0.15);\n",
              "      filter: drop-shadow(0px 1px 2px rgba(0, 0, 0, 0.3));\n",
              "      fill: #FFFFFF;\n",
              "    }\n",
              "  </style>\n",
              "\n",
              "      <script>\n",
              "        const buttonEl =\n",
              "          document.querySelector('#df-e88b6062-086b-457b-a194-c60f12e43ced button.colab-df-convert');\n",
              "        buttonEl.style.display =\n",
              "          google.colab.kernel.accessAllowed ? 'block' : 'none';\n",
              "\n",
              "        async function convertToInteractive(key) {\n",
              "          const element = document.querySelector('#df-e88b6062-086b-457b-a194-c60f12e43ced');\n",
              "          const dataTable =\n",
              "            await google.colab.kernel.invokeFunction('convertToInteractive',\n",
              "                                                     [key], {});\n",
              "          if (!dataTable) return;\n",
              "\n",
              "          const docLinkHtml = 'Like what you see? Visit the ' +\n",
              "            '<a target=\"_blank\" href=https://colab.research.google.com/notebooks/data_table.ipynb>data table notebook</a>'\n",
              "            + ' to learn more about interactive tables.';\n",
              "          element.innerHTML = '';\n",
              "          dataTable['output_type'] = 'display_data';\n",
              "          await google.colab.output.renderOutput(dataTable, element);\n",
              "          const docLink = document.createElement('div');\n",
              "          docLink.innerHTML = docLinkHtml;\n",
              "          element.appendChild(docLink);\n",
              "        }\n",
              "      </script>\n",
              "    </div>\n",
              "  </div>\n",
              "  "
            ],
            "text/plain": [
              "       age  yrs_married  ...  religious_3.0  religious_4.0\n",
              "2406  27.0          6.0  ...              1              0\n",
              "417   27.0          9.0  ...              1              0\n",
              "2323  22.0          2.5  ...              1              0\n",
              "4867  22.0          6.0  ...              0              0\n",
              "4448  22.0          2.5  ...              1              0\n",
              "\n",
              "[5 rows x 12 columns]"
            ]
          },
          "metadata": {},
          "execution_count": 336
        }
      ]
    },
    {
      "cell_type": "markdown",
      "source": [
        "## **Logistic Regression**\n",
        "\n",
        "In statistics, the logistic model (or logit model) is used to model the probability of a certain class or event existing such as pass/fail, win/lose, alive/dead or healthy/sick.\n",
        "\n",
        "p = e^y/ 1 + e^y"
      ],
      "metadata": {
        "id": "1uOl4KnVTn3Y"
      }
    },
    {
      "cell_type": "code",
      "source": [
        "lr_withDummy = LogisticRegression(max_iter=1000, random_state=687)"
      ],
      "metadata": {
        "id": "MSkkv20-o3eO"
      },
      "execution_count": null,
      "outputs": []
    },
    {
      "cell_type": "code",
      "source": [
        "# Fitting the model\n",
        "lr_withDummy.fit(X_train_withDummy, Y_train)"
      ],
      "metadata": {
        "colab": {
          "base_uri": "https://localhost:8080/"
        },
        "id": "2eqaQWyClC-M",
        "outputId": "ce5974a3-8b63-4363-854f-a78dd8e6308a"
      },
      "execution_count": null,
      "outputs": [
        {
          "output_type": "execute_result",
          "data": {
            "text/plain": [
              "LogisticRegression(max_iter=1000, random_state=687)"
            ]
          },
          "metadata": {},
          "execution_count": 338
        }
      ]
    },
    {
      "cell_type": "code",
      "source": [
        "# Changing the test input for prediction\n",
        "X_test_withDummy =  X_test.astype({'children': 'category', 'religious': 'category', 'rate_marriage': 'category'})\n",
        "X_test_withDummy = pd.get_dummies(X_test_withDummy, drop_first=True)\n",
        "\n",
        "#  Selecting columns\n",
        "X_test_withDummy = X_test_withDummy[X_train_withDummy.columns]"
      ],
      "metadata": {
        "id": "BozkPijXMZby"
      },
      "execution_count": null,
      "outputs": []
    },
    {
      "cell_type": "code",
      "source": [
        "# prediction\n",
        "pred_withDummy = lr_withDummy.predict(X_test_withDummy)"
      ],
      "metadata": {
        "id": "pvPyvB6eMw3d"
      },
      "execution_count": null,
      "outputs": []
    },
    {
      "cell_type": "code",
      "source": [
        "# accuracy score\n",
        "accuracy_score(pred_withDummy, Y_test)"
      ],
      "metadata": {
        "colab": {
          "base_uri": "https://localhost:8080/"
        },
        "id": "hQOfSsFjM2ix",
        "outputId": "f123ed58-2ad3-4e10-8fe5-efe2e4894732"
      },
      "execution_count": null,
      "outputs": [
        {
          "output_type": "execute_result",
          "data": {
            "text/plain": [
              "0.725130890052356"
            ]
          },
          "metadata": {},
          "execution_count": 341
        }
      ]
    },
    {
      "cell_type": "markdown",
      "source": [
        "### **Without dummy**"
      ],
      "metadata": {
        "id": "BHvlhNwHN_AV"
      }
    },
    {
      "cell_type": "code",
      "source": [
        "lr = LogisticRegression(max_iter=1000, random_state=687)"
      ],
      "metadata": {
        "id": "byV5TTxSOHUe"
      },
      "execution_count": null,
      "outputs": []
    },
    {
      "cell_type": "code",
      "source": [
        "# Fitting the model\n",
        "lr.fit(X_train, Y_train)"
      ],
      "metadata": {
        "colab": {
          "base_uri": "https://localhost:8080/"
        },
        "outputId": "e11ee6b1-e71b-4f31-a0c2-3ca2a908b65e",
        "id": "DDTimRFqOHUf"
      },
      "execution_count": null,
      "outputs": [
        {
          "output_type": "execute_result",
          "data": {
            "text/plain": [
              "LogisticRegression(max_iter=1000, random_state=687)"
            ]
          },
          "metadata": {},
          "execution_count": 343
        }
      ]
    },
    {
      "cell_type": "code",
      "source": [
        "# Selcting columns\n",
        "X_test = X_test[X_train.columns]"
      ],
      "metadata": {
        "id": "rUB_x3lSPONh"
      },
      "execution_count": null,
      "outputs": []
    },
    {
      "cell_type": "code",
      "source": [
        "# prediction\n",
        "pred_withDummy = lr.predict(X_test)"
      ],
      "metadata": {
        "id": "p55ZhttgOHUg"
      },
      "execution_count": null,
      "outputs": []
    },
    {
      "cell_type": "code",
      "source": [
        "# accuracy score\n",
        "accuracy_score(pred_withDummy, Y_test)"
      ],
      "metadata": {
        "colab": {
          "base_uri": "https://localhost:8080/"
        },
        "outputId": "64b18bfe-9ffb-4e27-96ce-2ec399f92007",
        "id": "7RW0z3bCOHUh"
      },
      "execution_count": null,
      "outputs": [
        {
          "output_type": "execute_result",
          "data": {
            "text/plain": [
              "0.7158495954307472"
            ]
          },
          "metadata": {},
          "execution_count": 346
        }
      ]
    }
  ]
}