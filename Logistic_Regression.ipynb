{
  "nbformat": 4,
  "nbformat_minor": 0,
  "metadata": {
    "colab": {
      "name": "Logistic_Regression.ipynb",
      "provenance": [],
      "authorship_tag": "ABX9TyPreNRTOGr2B87Nxu5W/5ZN"
    },
    "kernelspec": {
      "name": "python3",
      "display_name": "Python 3"
    },
    "language_info": {
      "name": "python"
    }
  },
  "cells": [
    {
      "cell_type": "markdown",
      "source": [
        "First of all, let us start by importing the necessory packages."
      ],
      "metadata": {
        "id": "yxHZFTFBRk-i"
      }
    },
    {
      "cell_type": "code",
      "execution_count": 356,
      "metadata": {
        "id": "vWKyhDAHRBcL"
      },
      "outputs": [],
      "source": [
        "import pandas as pd\n",
        "import numpy as np"
      ]
    },
    {
      "cell_type": "code",
      "source": [
        "import matplotlib.pyplot as plt\n",
        "import seaborn as sns\n",
        "%matplotlib inline"
      ],
      "metadata": {
        "id": "A88SbYxiR0mT"
      },
      "execution_count": 357,
      "outputs": []
    },
    {
      "cell_type": "code",
      "source": [
        "sns.set_style('whitegrid')"
      ],
      "metadata": {
        "id": "cWY5xWDsR_6t"
      },
      "execution_count": 358,
      "outputs": []
    },
    {
      "cell_type": "code",
      "source": [
        "from sklearn.linear_model import LogisticRegression\n",
        "from sklearn.metrics import accuracy_score\n",
        "from sklearn.model_selection import train_test_split"
      ],
      "metadata": {
        "id": "z2DveZ7kSDkO"
      },
      "execution_count": 359,
      "outputs": []
    },
    {
      "cell_type": "markdown",
      "source": [
        "## **Logistic Regression**\n",
        "\n",
        "In statistics, the logistic model (or logit model) is used to model the probability of a certain class or event existing such as pass/fail, win/lose, alive/dead or healthy/sick.\n",
        "\n",
        "p = e^y/ 1 + e^y"
      ],
      "metadata": {
        "id": "1uOl4KnVTn3Y"
      }
    },
    {
      "cell_type": "markdown",
      "source": [
        "Let us first retrieve the dataset from the statsmodels"
      ],
      "metadata": {
        "id": "U9UO04nS0dQj"
      }
    },
    {
      "cell_type": "code",
      "source": [
        "import statsmodels.api as sm"
      ],
      "metadata": {
        "id": "i0J1r1JB0am6"
      },
      "execution_count": 360,
      "outputs": []
    },
    {
      "cell_type": "code",
      "source": [
        "df = sm.datasets.fair.load_pandas().data"
      ],
      "metadata": {
        "id": "Vf5kV-J603sJ"
      },
      "execution_count": 361,
      "outputs": []
    },
    {
      "cell_type": "code",
      "source": [
        "df.head()"
      ],
      "metadata": {
        "colab": {
          "base_uri": "https://localhost:8080/",
          "height": 206
        },
        "id": "CoPUyylk1Bte",
        "outputId": "82f264e9-b119-4949-ec3f-e7860ff3b209"
      },
      "execution_count": 362,
      "outputs": [
        {
          "output_type": "execute_result",
          "data": {
            "text/html": [
              "\n",
              "  <div id=\"df-27beae0f-cdb9-4644-b9d3-f7902aed12d2\">\n",
              "    <div class=\"colab-df-container\">\n",
              "      <div>\n",
              "<style scoped>\n",
              "    .dataframe tbody tr th:only-of-type {\n",
              "        vertical-align: middle;\n",
              "    }\n",
              "\n",
              "    .dataframe tbody tr th {\n",
              "        vertical-align: top;\n",
              "    }\n",
              "\n",
              "    .dataframe thead th {\n",
              "        text-align: right;\n",
              "    }\n",
              "</style>\n",
              "<table border=\"1\" class=\"dataframe\">\n",
              "  <thead>\n",
              "    <tr style=\"text-align: right;\">\n",
              "      <th></th>\n",
              "      <th>rate_marriage</th>\n",
              "      <th>age</th>\n",
              "      <th>yrs_married</th>\n",
              "      <th>children</th>\n",
              "      <th>religious</th>\n",
              "      <th>educ</th>\n",
              "      <th>occupation</th>\n",
              "      <th>occupation_husb</th>\n",
              "      <th>affairs</th>\n",
              "    </tr>\n",
              "  </thead>\n",
              "  <tbody>\n",
              "    <tr>\n",
              "      <th>0</th>\n",
              "      <td>3.0</td>\n",
              "      <td>32.0</td>\n",
              "      <td>9.0</td>\n",
              "      <td>3.0</td>\n",
              "      <td>3.0</td>\n",
              "      <td>17.0</td>\n",
              "      <td>2.0</td>\n",
              "      <td>5.0</td>\n",
              "      <td>0.111111</td>\n",
              "    </tr>\n",
              "    <tr>\n",
              "      <th>1</th>\n",
              "      <td>3.0</td>\n",
              "      <td>27.0</td>\n",
              "      <td>13.0</td>\n",
              "      <td>3.0</td>\n",
              "      <td>1.0</td>\n",
              "      <td>14.0</td>\n",
              "      <td>3.0</td>\n",
              "      <td>4.0</td>\n",
              "      <td>3.230769</td>\n",
              "    </tr>\n",
              "    <tr>\n",
              "      <th>2</th>\n",
              "      <td>4.0</td>\n",
              "      <td>22.0</td>\n",
              "      <td>2.5</td>\n",
              "      <td>0.0</td>\n",
              "      <td>1.0</td>\n",
              "      <td>16.0</td>\n",
              "      <td>3.0</td>\n",
              "      <td>5.0</td>\n",
              "      <td>1.400000</td>\n",
              "    </tr>\n",
              "    <tr>\n",
              "      <th>3</th>\n",
              "      <td>4.0</td>\n",
              "      <td>37.0</td>\n",
              "      <td>16.5</td>\n",
              "      <td>4.0</td>\n",
              "      <td>3.0</td>\n",
              "      <td>16.0</td>\n",
              "      <td>5.0</td>\n",
              "      <td>5.0</td>\n",
              "      <td>0.727273</td>\n",
              "    </tr>\n",
              "    <tr>\n",
              "      <th>4</th>\n",
              "      <td>5.0</td>\n",
              "      <td>27.0</td>\n",
              "      <td>9.0</td>\n",
              "      <td>1.0</td>\n",
              "      <td>1.0</td>\n",
              "      <td>14.0</td>\n",
              "      <td>3.0</td>\n",
              "      <td>4.0</td>\n",
              "      <td>4.666666</td>\n",
              "    </tr>\n",
              "  </tbody>\n",
              "</table>\n",
              "</div>\n",
              "      <button class=\"colab-df-convert\" onclick=\"convertToInteractive('df-27beae0f-cdb9-4644-b9d3-f7902aed12d2')\"\n",
              "              title=\"Convert this dataframe to an interactive table.\"\n",
              "              style=\"display:none;\">\n",
              "        \n",
              "  <svg xmlns=\"http://www.w3.org/2000/svg\" height=\"24px\"viewBox=\"0 0 24 24\"\n",
              "       width=\"24px\">\n",
              "    <path d=\"M0 0h24v24H0V0z\" fill=\"none\"/>\n",
              "    <path d=\"M18.56 5.44l.94 2.06.94-2.06 2.06-.94-2.06-.94-.94-2.06-.94 2.06-2.06.94zm-11 1L8.5 8.5l.94-2.06 2.06-.94-2.06-.94L8.5 2.5l-.94 2.06-2.06.94zm10 10l.94 2.06.94-2.06 2.06-.94-2.06-.94-.94-2.06-.94 2.06-2.06.94z\"/><path d=\"M17.41 7.96l-1.37-1.37c-.4-.4-.92-.59-1.43-.59-.52 0-1.04.2-1.43.59L10.3 9.45l-7.72 7.72c-.78.78-.78 2.05 0 2.83L4 21.41c.39.39.9.59 1.41.59.51 0 1.02-.2 1.41-.59l7.78-7.78 2.81-2.81c.8-.78.8-2.07 0-2.86zM5.41 20L4 18.59l7.72-7.72 1.47 1.35L5.41 20z\"/>\n",
              "  </svg>\n",
              "      </button>\n",
              "      \n",
              "  <style>\n",
              "    .colab-df-container {\n",
              "      display:flex;\n",
              "      flex-wrap:wrap;\n",
              "      gap: 12px;\n",
              "    }\n",
              "\n",
              "    .colab-df-convert {\n",
              "      background-color: #E8F0FE;\n",
              "      border: none;\n",
              "      border-radius: 50%;\n",
              "      cursor: pointer;\n",
              "      display: none;\n",
              "      fill: #1967D2;\n",
              "      height: 32px;\n",
              "      padding: 0 0 0 0;\n",
              "      width: 32px;\n",
              "    }\n",
              "\n",
              "    .colab-df-convert:hover {\n",
              "      background-color: #E2EBFA;\n",
              "      box-shadow: 0px 1px 2px rgba(60, 64, 67, 0.3), 0px 1px 3px 1px rgba(60, 64, 67, 0.15);\n",
              "      fill: #174EA6;\n",
              "    }\n",
              "\n",
              "    [theme=dark] .colab-df-convert {\n",
              "      background-color: #3B4455;\n",
              "      fill: #D2E3FC;\n",
              "    }\n",
              "\n",
              "    [theme=dark] .colab-df-convert:hover {\n",
              "      background-color: #434B5C;\n",
              "      box-shadow: 0px 1px 3px 1px rgba(0, 0, 0, 0.15);\n",
              "      filter: drop-shadow(0px 1px 2px rgba(0, 0, 0, 0.3));\n",
              "      fill: #FFFFFF;\n",
              "    }\n",
              "  </style>\n",
              "\n",
              "      <script>\n",
              "        const buttonEl =\n",
              "          document.querySelector('#df-27beae0f-cdb9-4644-b9d3-f7902aed12d2 button.colab-df-convert');\n",
              "        buttonEl.style.display =\n",
              "          google.colab.kernel.accessAllowed ? 'block' : 'none';\n",
              "\n",
              "        async function convertToInteractive(key) {\n",
              "          const element = document.querySelector('#df-27beae0f-cdb9-4644-b9d3-f7902aed12d2');\n",
              "          const dataTable =\n",
              "            await google.colab.kernel.invokeFunction('convertToInteractive',\n",
              "                                                     [key], {});\n",
              "          if (!dataTable) return;\n",
              "\n",
              "          const docLinkHtml = 'Like what you see? Visit the ' +\n",
              "            '<a target=\"_blank\" href=https://colab.research.google.com/notebooks/data_table.ipynb>data table notebook</a>'\n",
              "            + ' to learn more about interactive tables.';\n",
              "          element.innerHTML = '';\n",
              "          dataTable['output_type'] = 'display_data';\n",
              "          await google.colab.output.renderOutput(dataTable, element);\n",
              "          const docLink = document.createElement('div');\n",
              "          docLink.innerHTML = docLinkHtml;\n",
              "          element.appendChild(docLink);\n",
              "        }\n",
              "      </script>\n",
              "    </div>\n",
              "  </div>\n",
              "  "
            ],
            "text/plain": [
              "   rate_marriage   age  yrs_married  ...  occupation  occupation_husb   affairs\n",
              "0            3.0  32.0          9.0  ...         2.0              5.0  0.111111\n",
              "1            3.0  27.0         13.0  ...         3.0              4.0  3.230769\n",
              "2            4.0  22.0          2.5  ...         3.0              5.0  1.400000\n",
              "3            4.0  37.0         16.5  ...         5.0              5.0  0.727273\n",
              "4            5.0  27.0          9.0  ...         3.0              4.0  4.666666\n",
              "\n",
              "[5 rows x 9 columns]"
            ]
          },
          "metadata": {},
          "execution_count": 362
        }
      ]
    },
    {
      "cell_type": "markdown",
      "source": [
        "## **Data Visualization**"
      ],
      "metadata": {
        "id": "URUB4MUM11Ko"
      }
    },
    {
      "cell_type": "code",
      "source": [
        "# let us see the details of this dataset\n",
        "df.info()"
      ],
      "metadata": {
        "colab": {
          "base_uri": "https://localhost:8080/"
        },
        "id": "nYjPFerC14Uz",
        "outputId": "8713d521-9863-46d6-e217-de846e2fbe7c"
      },
      "execution_count": 363,
      "outputs": [
        {
          "output_type": "stream",
          "name": "stdout",
          "text": [
            "<class 'pandas.core.frame.DataFrame'>\n",
            "RangeIndex: 6366 entries, 0 to 6365\n",
            "Data columns (total 9 columns):\n",
            " #   Column           Non-Null Count  Dtype  \n",
            "---  ------           --------------  -----  \n",
            " 0   rate_marriage    6366 non-null   float64\n",
            " 1   age              6366 non-null   float64\n",
            " 2   yrs_married      6366 non-null   float64\n",
            " 3   children         6366 non-null   float64\n",
            " 4   religious        6366 non-null   float64\n",
            " 5   educ             6366 non-null   float64\n",
            " 6   occupation       6366 non-null   float64\n",
            " 7   occupation_husb  6366 non-null   float64\n",
            " 8   affairs          6366 non-null   float64\n",
            "dtypes: float64(9)\n",
            "memory usage: 447.7 KB\n"
          ]
        }
      ]
    },
    {
      "cell_type": "code",
      "source": [
        "# Let us see the distribution of marriage type throughout the dataset\n",
        "sns.histplot(data=df, x='rate_marriage', color='red')"
      ],
      "metadata": {
        "colab": {
          "base_uri": "https://localhost:8080/",
          "height": 297
        },
        "id": "ZecuIbuz2Hsw",
        "outputId": "a6607c0c-a2a2-4818-f04e-f768dde5fc7f"
      },
      "execution_count": 364,
      "outputs": [
        {
          "output_type": "execute_result",
          "data": {
            "text/plain": [
              "<matplotlib.axes._subplots.AxesSubplot at 0x7fc6c40ec290>"
            ]
          },
          "metadata": {},
          "execution_count": 364
        },
        {
          "output_type": "display_data",
          "data": {
            "image/png": "[encoded data removed]",
            "text/plain": [
              "<Figure size 432x288 with 1 Axes>"
            ]
          },
          "metadata": {}
        }
      ]
    },
    {
      "cell_type": "markdown",
      "source": [
        "Most of the couples had very good marriage life"
      ],
      "metadata": {
        "id": "EGIlST6i2cWI"
      }
    },
    {
      "cell_type": "markdown",
      "source": [
        "Now let us make the affair column such a way that it is binomial"
      ],
      "metadata": {
        "id": "z7IrpuNf_QiF"
      }
    },
    {
      "cell_type": "code",
      "source": [
        "def change_affair_value(val):\n",
        "  if val == 0:\n",
        "    return 0\n",
        "  else:\n",
        "    return 1"
      ],
      "metadata": {
        "id": "gZFP36BP_V9c"
      },
      "execution_count": 365,
      "outputs": []
    },
    {
      "cell_type": "code",
      "source": [
        "df['affairs'] = df['affairs'].apply(change_affair_value)"
      ],
      "metadata": {
        "id": "QuZsJh9M_edw"
      },
      "execution_count": 366,
      "outputs": []
    },
    {
      "cell_type": "code",
      "source": [
        "df.head()"
      ],
      "metadata": {
        "colab": {
          "base_uri": "https://localhost:8080/",
          "height": 206
        },
        "id": "9c2nxfA4_qnM",
        "outputId": "5f8f98e8-50e5-4b8e-a8e8-2acad56880a0"
      },
      "execution_count": 367,
      "outputs": [
        {
          "output_type": "execute_result",
          "data": {
            "text/html": [
              "\n",
              "  <div id=\"df-1e799619-f179-416e-84f1-20821d866708\">\n",
              "    <div class=\"colab-df-container\">\n",
              "      <div>\n",
              "<style scoped>\n",
              "    .dataframe tbody tr th:only-of-type {\n",
              "        vertical-align: middle;\n",
              "    }\n",
              "\n",
              "    .dataframe tbody tr th {\n",
              "        vertical-align: top;\n",
              "    }\n",
              "\n",
              "    .dataframe thead th {\n",
              "        text-align: right;\n",
              "    }\n",
              "</style>\n",
              "<table border=\"1\" class=\"dataframe\">\n",
              "  <thead>\n",
              "    <tr style=\"text-align: right;\">\n",
              "      <th></th>\n",
              "      <th>rate_marriage</th>\n",
              "      <th>age</th>\n",
              "      <th>yrs_married</th>\n",
              "      <th>children</th>\n",
              "      <th>religious</th>\n",
              "      <th>educ</th>\n",
              "      <th>occupation</th>\n",
              "      <th>occupation_husb</th>\n",
              "      <th>affairs</th>\n",
              "    </tr>\n",
              "  </thead>\n",
              "  <tbody>\n",
              "    <tr>\n",
              "      <th>0</th>\n",
              "      <td>3.0</td>\n",
              "      <td>32.0</td>\n",
              "      <td>9.0</td>\n",
              "      <td>3.0</td>\n",
              "      <td>3.0</td>\n",
              "      <td>17.0</td>\n",
              "      <td>2.0</td>\n",
              "      <td>5.0</td>\n",
              "      <td>1</td>\n",
              "    </tr>\n",
              "    <tr>\n",
              "      <th>1</th>\n",
              "      <td>3.0</td>\n",
              "      <td>27.0</td>\n",
              "      <td>13.0</td>\n",
              "      <td>3.0</td>\n",
              "      <td>1.0</td>\n",
              "      <td>14.0</td>\n",
              "      <td>3.0</td>\n",
              "      <td>4.0</td>\n",
              "      <td>1</td>\n",
              "    </tr>\n",
              "    <tr>\n",
              "      <th>2</th>\n",
              "      <td>4.0</td>\n",
              "      <td>22.0</td>\n",
              "      <td>2.5</td>\n",
              "      <td>0.0</td>\n",
              "      <td>1.0</td>\n",
              "      <td>16.0</td>\n",
              "      <td>3.0</td>\n",
              "      <td>5.0</td>\n",
              "      <td>1</td>\n",
              "    </tr>\n",
              "    <tr>\n",
              "      <th>3</th>\n",
              "      <td>4.0</td>\n",
              "      <td>37.0</td>\n",
              "      <td>16.5</td>\n",
              "      <td>4.0</td>\n",
              "      <td>3.0</td>\n",
              "      <td>16.0</td>\n",
              "      <td>5.0</td>\n",
              "      <td>5.0</td>\n",
              "      <td>1</td>\n",
              "    </tr>\n",
              "    <tr>\n",
              "      <th>4</th>\n",
              "      <td>5.0</td>\n",
              "      <td>27.0</td>\n",
              "      <td>9.0</td>\n",
              "      <td>1.0</td>\n",
              "      <td>1.0</td>\n",
              "      <td>14.0</td>\n",
              "      <td>3.0</td>\n",
              "      <td>4.0</td>\n",
              "      <td>1</td>\n",
              "    </tr>\n",
              "  </tbody>\n",
              "</table>\n",
              "</div>\n",
              "      <button class=\"colab-df-convert\" onclick=\"convertToInteractive('df-1e799619-f179-416e-84f1-20821d866708')\"\n",
              "              title=\"Convert this dataframe to an interactive table.\"\n",
              "              style=\"display:none;\">\n",
              "        \n",
              "  <svg xmlns=\"http://www.w3.org/2000/svg\" height=\"24px\"viewBox=\"0 0 24 24\"\n",
              "       width=\"24px\">\n",
              "    <path d=\"M0 0h24v24H0V0z\" fill=\"none\"/>\n",
              "    <path d=\"M18.56 5.44l.94 2.06.94-2.06 2.06-.94-2.06-.94-.94-2.06-.94 2.06-2.06.94zm-11 1L8.5 8.5l.94-2.06 2.06-.94-2.06-.94L8.5 2.5l-.94 2.06-2.06.94zm10 10l.94 2.06.94-2.06 2.06-.94-2.06-.94-.94-2.06-.94 2.06-2.06.94z\"/><path d=\"M17.41 7.96l-1.37-1.37c-.4-.4-.92-.59-1.43-.59-.52 0-1.04.2-1.43.59L10.3 9.45l-7.72 7.72c-.78.78-.78 2.05 0 2.83L4 21.41c.39.39.9.59 1.41.59.51 0 1.02-.2 1.41-.59l7.78-7.78 2.81-2.81c.8-.78.8-2.07 0-2.86zM5.41 20L4 18.59l7.72-7.72 1.47 1.35L5.41 20z\"/>\n",
              "  </svg>\n",
              "      </button>\n",
              "      \n",
              "  <style>\n",
              "    .colab-df-container {\n",
              "      display:flex;\n",
              "      flex-wrap:wrap;\n",
              "      gap: 12px;\n",
              "    }\n",
              "\n",
              "    .colab-df-convert {\n",
              "      background-color: #E8F0FE;\n",
              "      border: none;\n",
              "      border-radius: 50%;\n",
              "      cursor: pointer;\n",
              "      display: none;\n",
              "      fill: #1967D2;\n",
              "      height: 32px;\n",
              "      padding: 0 0 0 0;\n",
              "      width: 32px;\n",
              "    }\n",
              "\n",
              "    .colab-df-convert:hover {\n",
              "      background-color: #E2EBFA;\n",
              "      box-shadow: 0px 1px 2px rgba(60, 64, 67, 0.3), 0px 1px 3px 1px rgba(60, 64, 67, 0.15);\n",
              "      fill: #174EA6;\n",
              "    }\n",
              "\n",
              "    [theme=dark] .colab-df-convert {\n",
              "      background-color: #3B4455;\n",
              "      fill: #D2E3FC;\n",
              "    }\n",
              "\n",
              "    [theme=dark] .colab-df-convert:hover {\n",
              "      background-color: #434B5C;\n",
              "      box-shadow: 0px 1px 3px 1px rgba(0, 0, 0, 0.15);\n",
              "      filter: drop-shadow(0px 1px 2px rgba(0, 0, 0, 0.3));\n",
              "      fill: #FFFFFF;\n",
              "    }\n",
              "  </style>\n",
              "\n",
              "      <script>\n",
              "        const buttonEl =\n",
              "          document.querySelector('#df-1e799619-f179-416e-84f1-20821d866708 button.colab-df-convert');\n",
              "        buttonEl.style.display =\n",
              "          google.colab.kernel.accessAllowed ? 'block' : 'none';\n",
              "\n",
              "        async function convertToInteractive(key) {\n",
              "          const element = document.querySelector('#df-1e799619-f179-416e-84f1-20821d866708');\n",
              "          const dataTable =\n",
              "            await google.colab.kernel.invokeFunction('convertToInteractive',\n",
              "                                                     [key], {});\n",
              "          if (!dataTable) return;\n",
              "\n",
              "          const docLinkHtml = 'Like what you see? Visit the ' +\n",
              "            '<a target=\"_blank\" href=https://colab.research.google.com/notebooks/data_table.ipynb>data table notebook</a>'\n",
              "            + ' to learn more about interactive tables.';\n",
              "          element.innerHTML = '';\n",
              "          dataTable['output_type'] = 'display_data';\n",
              "          await google.colab.output.renderOutput(dataTable, element);\n",
              "          const docLink = document.createElement('div');\n",
              "          docLink.innerHTML = docLinkHtml;\n",
              "          element.appendChild(docLink);\n",
              "        }\n",
              "      </script>\n",
              "    </div>\n",
              "  </div>\n",
              "  "
            ],
            "text/plain": [
              "   rate_marriage   age  yrs_married  ...  occupation  occupation_husb  affairs\n",
              "0            3.0  32.0          9.0  ...         2.0              5.0        1\n",
              "1            3.0  27.0         13.0  ...         3.0              4.0        1\n",
              "2            4.0  22.0          2.5  ...         3.0              5.0        1\n",
              "3            4.0  37.0         16.5  ...         5.0              5.0        1\n",
              "4            5.0  27.0          9.0  ...         3.0              4.0        1\n",
              "\n",
              "[5 rows x 9 columns]"
            ]
          },
          "metadata": {},
          "execution_count": 367
        }
      ]
    },
    {
      "cell_type": "code",
      "source": [
        "df.corr()"
      ],
      "metadata": {
        "colab": {
          "base_uri": "https://localhost:8080/",
          "height": 331
        },
        "id": "hAUHGOJqBQXl",
        "outputId": "9811c928-3ccd-4d77-ea74-ec65be87d24e"
      },
      "execution_count": 368,
      "outputs": [
        {
          "output_type": "execute_result",
          "data": {
            "text/html": [
              "\n",
              "  <div id=\"df-effd2650-b991-4dbe-95c8-6932a70f4f9c\">\n",
              "    <div class=\"colab-df-container\">\n",
              "      <div>\n",
              "<style scoped>\n",
              "    .dataframe tbody tr th:only-of-type {\n",
              "        vertical-align: middle;\n",
              "    }\n",
              "\n",
              "    .dataframe tbody tr th {\n",
              "        vertical-align: top;\n",
              "    }\n",
              "\n",
              "    .dataframe thead th {\n",
              "        text-align: right;\n",
              "    }\n",
              "</style>\n",
              "<table border=\"1\" class=\"dataframe\">\n",
              "  <thead>\n",
              "    <tr style=\"text-align: right;\">\n",
              "      <th></th>\n",
              "      <th>rate_marriage</th>\n",
              "      <th>age</th>\n",
              "      <th>yrs_married</th>\n",
              "      <th>children</th>\n",
              "      <th>religious</th>\n",
              "      <th>educ</th>\n",
              "      <th>occupation</th>\n",
              "      <th>occupation_husb</th>\n",
              "      <th>affairs</th>\n",
              "    </tr>\n",
              "  </thead>\n",
              "  <tbody>\n",
              "    <tr>\n",
              "      <th>rate_marriage</th>\n",
              "      <td>1.000000</td>\n",
              "      <td>-0.111127</td>\n",
              "      <td>-0.128978</td>\n",
              "      <td>-0.129161</td>\n",
              "      <td>0.078794</td>\n",
              "      <td>0.079869</td>\n",
              "      <td>0.039528</td>\n",
              "      <td>0.027745</td>\n",
              "      <td>-0.331776</td>\n",
              "    </tr>\n",
              "    <tr>\n",
              "      <th>age</th>\n",
              "      <td>-0.111127</td>\n",
              "      <td>1.000000</td>\n",
              "      <td>0.894082</td>\n",
              "      <td>0.673902</td>\n",
              "      <td>0.136598</td>\n",
              "      <td>0.027960</td>\n",
              "      <td>0.106127</td>\n",
              "      <td>0.162567</td>\n",
              "      <td>0.146519</td>\n",
              "    </tr>\n",
              "    <tr>\n",
              "      <th>yrs_married</th>\n",
              "      <td>-0.128978</td>\n",
              "      <td>0.894082</td>\n",
              "      <td>1.000000</td>\n",
              "      <td>0.772806</td>\n",
              "      <td>0.132683</td>\n",
              "      <td>-0.109058</td>\n",
              "      <td>0.041782</td>\n",
              "      <td>0.128135</td>\n",
              "      <td>0.203109</td>\n",
              "    </tr>\n",
              "    <tr>\n",
              "      <th>children</th>\n",
              "      <td>-0.129161</td>\n",
              "      <td>0.673902</td>\n",
              "      <td>0.772806</td>\n",
              "      <td>1.000000</td>\n",
              "      <td>0.141845</td>\n",
              "      <td>-0.141918</td>\n",
              "      <td>-0.015068</td>\n",
              "      <td>0.086660</td>\n",
              "      <td>0.159833</td>\n",
              "    </tr>\n",
              "    <tr>\n",
              "      <th>religious</th>\n",
              "      <td>0.078794</td>\n",
              "      <td>0.136598</td>\n",
              "      <td>0.132683</td>\n",
              "      <td>0.141845</td>\n",
              "      <td>1.000000</td>\n",
              "      <td>0.032245</td>\n",
              "      <td>0.035746</td>\n",
              "      <td>0.004061</td>\n",
              "      <td>-0.129299</td>\n",
              "    </tr>\n",
              "    <tr>\n",
              "      <th>educ</th>\n",
              "      <td>0.079869</td>\n",
              "      <td>0.027960</td>\n",
              "      <td>-0.109058</td>\n",
              "      <td>-0.141918</td>\n",
              "      <td>0.032245</td>\n",
              "      <td>1.000000</td>\n",
              "      <td>0.382286</td>\n",
              "      <td>0.183932</td>\n",
              "      <td>-0.075280</td>\n",
              "    </tr>\n",
              "    <tr>\n",
              "      <th>occupation</th>\n",
              "      <td>0.039528</td>\n",
              "      <td>0.106127</td>\n",
              "      <td>0.041782</td>\n",
              "      <td>-0.015068</td>\n",
              "      <td>0.035746</td>\n",
              "      <td>0.382286</td>\n",
              "      <td>1.000000</td>\n",
              "      <td>0.201156</td>\n",
              "      <td>0.028981</td>\n",
              "    </tr>\n",
              "    <tr>\n",
              "      <th>occupation_husb</th>\n",
              "      <td>0.027745</td>\n",
              "      <td>0.162567</td>\n",
              "      <td>0.128135</td>\n",
              "      <td>0.086660</td>\n",
              "      <td>0.004061</td>\n",
              "      <td>0.183932</td>\n",
              "      <td>0.201156</td>\n",
              "      <td>1.000000</td>\n",
              "      <td>0.017637</td>\n",
              "    </tr>\n",
              "    <tr>\n",
              "      <th>affairs</th>\n",
              "      <td>-0.331776</td>\n",
              "      <td>0.146519</td>\n",
              "      <td>0.203109</td>\n",
              "      <td>0.159833</td>\n",
              "      <td>-0.129299</td>\n",
              "      <td>-0.075280</td>\n",
              "      <td>0.028981</td>\n",
              "      <td>0.017637</td>\n",
              "      <td>1.000000</td>\n",
              "    </tr>\n",
              "  </tbody>\n",
              "</table>\n",
              "</div>\n",
              "      <button class=\"colab-df-convert\" onclick=\"convertToInteractive('df-effd2650-b991-4dbe-95c8-6932a70f4f9c')\"\n",
              "              title=\"Convert this dataframe to an interactive table.\"\n",
              "              style=\"display:none;\">\n",
              "        \n",
              "  <svg xmlns=\"http://www.w3.org/2000/svg\" height=\"24px\"viewBox=\"0 0 24 24\"\n",
              "       width=\"24px\">\n",
              "    <path d=\"M0 0h24v24H0V0z\" fill=\"none\"/>\n",
              "    <path d=\"M18.56 5.44l.94 2.06.94-2.06 2.06-.94-2.06-.94-.94-2.06-.94 2.06-2.06.94zm-11 1L8.5 8.5l.94-2.06 2.06-.94-2.06-.94L8.5 2.5l-.94 2.06-2.06.94zm10 10l.94 2.06.94-2.06 2.06-.94-2.06-.94-.94-2.06-.94 2.06-2.06.94z\"/><path d=\"M17.41 7.96l-1.37-1.37c-.4-.4-.92-.59-1.43-.59-.52 0-1.04.2-1.43.59L10.3 9.45l-7.72 7.72c-.78.78-.78 2.05 0 2.83L4 21.41c.39.39.9.59 1.41.59.51 0 1.02-.2 1.41-.59l7.78-7.78 2.81-2.81c.8-.78.8-2.07 0-2.86zM5.41 20L4 18.59l7.72-7.72 1.47 1.35L5.41 20z\"/>\n",
              "  </svg>\n",
              "      </button>\n",
              "      \n",
              "  <style>\n",
              "    .colab-df-container {\n",
              "      display:flex;\n",
              "      flex-wrap:wrap;\n",
              "      gap: 12px;\n",
              "    }\n",
              "\n",
              "    .colab-df-convert {\n",
              "      background-color: #E8F0FE;\n",
              "      border: none;\n",
              "      border-radius: 50%;\n",
              "      cursor: pointer;\n",
              "      display: none;\n",
              "      fill: #1967D2;\n",
              "      height: 32px;\n",
              "      padding: 0 0 0 0;\n",
              "      width: 32px;\n",
              "    }\n",
              "\n",
              "    .colab-df-convert:hover {\n",
              "      background-color: #E2EBFA;\n",
              "      box-shadow: 0px 1px 2px rgba(60, 64, 67, 0.3), 0px 1px 3px 1px rgba(60, 64, 67, 0.15);\n",
              "      fill: #174EA6;\n",
              "    }\n",
              "\n",
              "    [theme=dark] .colab-df-convert {\n",
              "      background-color: #3B4455;\n",
              "      fill: #D2E3FC;\n",
              "    }\n",
              "\n",
              "    [theme=dark] .colab-df-convert:hover {\n",
              "      background-color: #434B5C;\n",
              "      box-shadow: 0px 1px 3px 1px rgba(0, 0, 0, 0.15);\n",
              "      filter: drop-shadow(0px 1px 2px rgba(0, 0, 0, 0.3));\n",
              "      fill: #FFFFFF;\n",
              "    }\n",
              "  </style>\n",
              "\n",
              "      <script>\n",
              "        const buttonEl =\n",
              "          document.querySelector('#df-effd2650-b991-4dbe-95c8-6932a70f4f9c button.colab-df-convert');\n",
              "        buttonEl.style.display =\n",
              "          google.colab.kernel.accessAllowed ? 'block' : 'none';\n",
              "\n",
              "        async function convertToInteractive(key) {\n",
              "          const element = document.querySelector('#df-effd2650-b991-4dbe-95c8-6932a70f4f9c');\n",
              "          const dataTable =\n",
              "            await google.colab.kernel.invokeFunction('convertToInteractive',\n",
              "                                                     [key], {});\n",
              "          if (!dataTable) return;\n",
              "\n",
              "          const docLinkHtml = 'Like what you see? Visit the ' +\n",
              "            '<a target=\"_blank\" href=https://colab.research.google.com/notebooks/data_table.ipynb>data table notebook</a>'\n",
              "            + ' to learn more about interactive tables.';\n",
              "          element.innerHTML = '';\n",
              "          dataTable['output_type'] = 'display_data';\n",
              "          await google.colab.output.renderOutput(dataTable, element);\n",
              "          const docLink = document.createElement('div');\n",
              "          docLink.innerHTML = docLinkHtml;\n",
              "          element.appendChild(docLink);\n",
              "        }\n",
              "      </script>\n",
              "    </div>\n",
              "  </div>\n",
              "  "
            ],
            "text/plain": [
              "                 rate_marriage       age  ...  occupation_husb   affairs\n",
              "rate_marriage         1.000000 -0.111127  ...         0.027745 -0.331776\n",
              "age                  -0.111127  1.000000  ...         0.162567  0.146519\n",
              "yrs_married          -0.128978  0.894082  ...         0.128135  0.203109\n",
              "children             -0.129161  0.673902  ...         0.086660  0.159833\n",
              "religious             0.078794  0.136598  ...         0.004061 -0.129299\n",
              "educ                  0.079869  0.027960  ...         0.183932 -0.075280\n",
              "occupation            0.039528  0.106127  ...         0.201156  0.028981\n",
              "occupation_husb       0.027745  0.162567  ...         1.000000  0.017637\n",
              "affairs              -0.331776  0.146519  ...         0.017637  1.000000\n",
              "\n",
              "[9 rows x 9 columns]"
            ]
          },
          "metadata": {},
          "execution_count": 368
        }
      ]
    },
    {
      "cell_type": "markdown",
      "source": [
        "Now let  us see the rate of couples that had affairs and that hadn't and compare it with rate of marriage."
      ],
      "metadata": {
        "id": "Sn6wqj39_vQF"
      }
    },
    {
      "cell_type": "code",
      "source": [
        "sns.catplot(data=df, x='rate_marriage', kind='point', y='affairs', color='violet', legend=False)\n",
        "plt.show()"
      ],
      "metadata": {
        "colab": {
          "base_uri": "https://localhost:8080/",
          "height": 369
        },
        "id": "rHUzoNK7_4Sv",
        "outputId": "4be10a26-e0b4-493f-9c17-26a5f397043c"
      },
      "execution_count": 369,
      "outputs": [
        {
          "output_type": "display_data",
          "data": {
            "image/png": "[encoded data removed]",
            "text/plain": [
              "<Figure size 360x360 with 1 Axes>"
            ]
          },
          "metadata": {}
        }
      ]
    },
    {
      "cell_type": "markdown",
      "source": [
        "Marriage that rates 3 and below had higher rates of affairs."
      ],
      "metadata": {
        "id": "_56YHKoMAg57"
      }
    },
    {
      "cell_type": "markdown",
      "source": [
        "Now let us see the same for number of years after marriage"
      ],
      "metadata": {
        "id": "K3w22PCDBMQW"
      }
    },
    {
      "cell_type": "code",
      "source": [
        "sns.catplot(data=df, x='yrs_married', y='affairs', color='violet', kind='point')\n",
        "plt.show()"
      ],
      "metadata": {
        "colab": {
          "base_uri": "https://localhost:8080/",
          "height": 369
        },
        "id": "qWKWmWo7BfTG",
        "outputId": "380c0a0a-8b56-4c94-804d-398e31766d29"
      },
      "execution_count": 370,
      "outputs": [
        {
          "output_type": "display_data",
          "data": {
            "image/png": "[encoded data removed]",
            "text/plain": [
              "<Figure size 360x360 with 1 Axes>"
            ]
          },
          "metadata": {}
        }
      ]
    },
    {
      "cell_type": "markdown",
      "source": [
        "It can be viewed that with increasing number of years married, the rate of affairs increase."
      ],
      "metadata": {
        "id": "pdWleKd_Qz70"
      }
    },
    {
      "cell_type": "markdown",
      "source": [
        "Number of children, age, and religion are the other factors that had higher correlation with the affair rate."
      ],
      "metadata": {
        "id": "AUnSSmwhlNiT"
      }
    },
    {
      "cell_type": "code",
      "source": [
        "fig, axis = plt.subplots(1, 3, sharey=True, figsize=(15, 5))\n",
        "sns.pointplot(data=df, x='children', y='affairs', color='violet', ax=axis[0])\n",
        "sns.pointplot(data=df, x='age', y='affairs', color='violet', ax=axis[1])\n",
        "sns.pointplot(data=df, x='religious', y='affairs', color='violet', ax=axis[2])\n",
        "plt.show()"
      ],
      "metadata": {
        "colab": {
          "base_uri": "https://localhost:8080/",
          "height": 334
        },
        "id": "fSaFfG2alhUm",
        "outputId": "7283b156-1937-4f23-e6a4-641988be5fea"
      },
      "execution_count": 371,
      "outputs": [
        {
          "output_type": "display_data",
          "data": {
            "image/png": "[encoded data removed]",
            "text/plain": [
              "<Figure size 1080x360 with 3 Axes>"
            ]
          },
          "metadata": {}
        }
      ]
    },
    {
      "cell_type": "markdown",
      "source": [
        "All these features seem to show the character of a logistic regression graph. Higher the age and the number of children, more likely to have affairs. But there is a slight depth after some time. \n",
        "\n",
        "Affairs are less in case of religious couples."
      ],
      "metadata": {
        "id": "0jEkcQGLn1NN"
      }
    },
    {
      "cell_type": "markdown",
      "source": [
        "Out of curiosity, let us check how the rate of marriage changes with age."
      ],
      "metadata": {
        "id": "5JM29dnhoauX"
      }
    },
    {
      "cell_type": "code",
      "source": [
        "sns.catplot(data=df, x='age', y='rate_marriage', color='violet', kind='point')\n",
        "plt.show()"
      ],
      "metadata": {
        "colab": {
          "base_uri": "https://localhost:8080/",
          "height": 369
        },
        "id": "Ask23dBWok0c",
        "outputId": "39200259-55ac-40fe-fd11-cd048ab9e67b"
      },
      "execution_count": 372,
      "outputs": [
        {
          "output_type": "display_data",
          "data": {
            "image/png": "[encoded data removed]",
            "text/plain": [
              "<Figure size 360x360 with 1 Axes>"
            ]
          },
          "metadata": {}
        }
      ]
    },
    {
      "cell_type": "markdown",
      "source": [
        "The rate of marriage is declining by age as shown in the graph."
      ],
      "metadata": {
        "id": "bSMbykQ2pVO1"
      }
    },
    {
      "cell_type": "markdown",
      "source": [
        "For curiosity, let us also see the relationship between education and occupation."
      ],
      "metadata": {
        "id": "NrHdhdsQpw_P"
      }
    },
    {
      "cell_type": "code",
      "source": [
        "sns.pointplot(data=df, x='educ', y='occupation', color='violet')"
      ],
      "metadata": {
        "colab": {
          "base_uri": "https://localhost:8080/",
          "height": 297
        },
        "id": "xAr7vdgXoYeS",
        "outputId": "fc6c3428-8eb0-4649-e94d-63fafd099c23"
      },
      "execution_count": 373,
      "outputs": [
        {
          "output_type": "execute_result",
          "data": {
            "text/plain": [
              "<matplotlib.axes._subplots.AxesSubplot at 0x7fc6c3b35a50>"
            ]
          },
          "metadata": {},
          "execution_count": 373
        },
        {
          "output_type": "display_data",
          "data": {
            "image/png": "[encoded data removed]",
            "text/plain": [
              "<Figure size 432x288 with 1 Axes>"
            ]
          },
          "metadata": {}
        }
      ]
    },
    {
      "cell_type": "markdown",
      "source": [
        "This is obvious."
      ],
      "metadata": {
        "id": "sedkyH32qHSn"
      }
    },
    {
      "cell_type": "markdown",
      "source": [
        "Occupation, Education, and occupation of husband are features that has shown less correlation here. Let us visualize them."
      ],
      "metadata": {
        "id": "KdfO4znrqKut"
      }
    },
    {
      "cell_type": "code",
      "source": [
        "fig, axis = plt.subplots(1, 3, sharey=True, figsize=(15, 5))\n",
        "sns.pointplot(data=df, x='educ', y='affairs', color='purple', ax=axis[0])\n",
        "sns.pointplot(data=df, x='occupation', y='affairs', color='purple', ax=axis[1])\n",
        "sns.pointplot(data=df, x='occupation_husb', y='affairs', ax=axis[2], color='purple')\n",
        "plt.show()"
      ],
      "metadata": {
        "colab": {
          "base_uri": "https://localhost:8080/",
          "height": 335
        },
        "id": "rJ-W-i5qqZzG",
        "outputId": "785ebab7-8efc-49db-bdb4-f38dd2bc11e8"
      },
      "execution_count": 374,
      "outputs": [
        {
          "output_type": "display_data",
          "data": {
            "image/png": "[encoded data removed]",
            "text/plain": [
              "<Figure size 1080x360 with 3 Axes>"
            ]
          },
          "metadata": {}
        }
      ]
    },
    {
      "cell_type": "markdown",
      "source": [
        "Even though correlation value was less. They really have influence over the rate of affairs. It can be observed from the graph that couples with least education and good occupation are more likely to have affairs."
      ],
      "metadata": {
        "id": "7R1Ko2XXrOde"
      }
    },
    {
      "cell_type": "markdown",
      "source": [
        "All of these data visualizations has helped us understand that a logistic regression model would be apt for the dataset we are dealing with."
      ],
      "metadata": {
        "id": "bJhjy5-5MJAH"
      }
    },
    {
      "cell_type": "markdown",
      "source": [
        "## **Logistic Regression**"
      ],
      "metadata": {
        "id": "S32e5kwXO3VH"
      }
    },
    {
      "cell_type": "markdown",
      "source": [
        "Before going ahead with this, there is a need to make dummy columns. This is because most of the features are identified on the basis of numeric values. This might confuse the regression model as it might valuate the values with greater magnitude with the same value."
      ],
      "metadata": {
        "id": "dtl7QUvcO6ge"
      }
    },
    {
      "cell_type": "markdown",
      "source": [
        "### Train Test Split"
      ],
      "metadata": {
        "id": "r3es4zjIZfhp"
      }
    },
    {
      "cell_type": "code",
      "source": [
        "# Defining the input and output\n",
        "X = df.drop(['affairs'], axis=1)\n",
        "Y = df['affairs'].values"
      ],
      "metadata": {
        "id": "xu7YZw5uZiez"
      },
      "execution_count": 375,
      "outputs": []
    },
    {
      "cell_type": "code",
      "source": [
        "# Splitting the data\n",
        "X_train, X_test, Y_train, Y_test = train_test_split(X, Y, test_size=0.8, random_state=687)"
      ],
      "metadata": {
        "id": "ghzB1VLEZ0Xs"
      },
      "execution_count": 376,
      "outputs": []
    },
    {
      "cell_type": "markdown",
      "source": [
        "### **Data Preperation**"
      ],
      "metadata": {
        "id": "VzWML8FRRJoc"
      }
    },
    {
      "cell_type": "markdown",
      "source": [
        "children, religious, occupation, occupation_husb and rate_marriage are categorical features and needs to be dummied."
      ],
      "metadata": {
        "id": "SY1qisnmXVh0"
      }
    },
    {
      "cell_type": "code",
      "source": [
        "X_train_withDummy =  X_train.astype({'children': 'category', 'religious': 'category', 'occupation': 'category', 'occupation_husb': 'category', 'rate_marriage': 'category' })\n",
        "X_train_withDummy = pd.get_dummies(X_train_withDummy, drop_first=True)\n",
        "X_train_withDummy.head()"
      ],
      "metadata": {
        "colab": {
          "base_uri": "https://localhost:8080/",
          "height": 270
        },
        "id": "X6O79tc6iRh1",
        "outputId": "520cff30-f77a-411a-f9ad-8ced2a2896e5"
      },
      "execution_count": 377,
      "outputs": [
        {
          "output_type": "execute_result",
          "data": {
            "text/html": [
              "\n",
              "  <div id=\"df-02a57afb-3684-494a-a2ec-729b30970903\">\n",
              "    <div class=\"colab-df-container\">\n",
              "      <div>\n",
              "<style scoped>\n",
              "    .dataframe tbody tr th:only-of-type {\n",
              "        vertical-align: middle;\n",
              "    }\n",
              "\n",
              "    .dataframe tbody tr th {\n",
              "        vertical-align: top;\n",
              "    }\n",
              "\n",
              "    .dataframe thead th {\n",
              "        text-align: right;\n",
              "    }\n",
              "</style>\n",
              "<table border=\"1\" class=\"dataframe\">\n",
              "  <thead>\n",
              "    <tr style=\"text-align: right;\">\n",
              "      <th></th>\n",
              "      <th>age</th>\n",
              "      <th>yrs_married</th>\n",
              "      <th>educ</th>\n",
              "      <th>rate_marriage_2.0</th>\n",
              "      <th>rate_marriage_3.0</th>\n",
              "      <th>rate_marriage_4.0</th>\n",
              "      <th>rate_marriage_5.0</th>\n",
              "      <th>children_1.0</th>\n",
              "      <th>children_2.0</th>\n",
              "      <th>children_3.0</th>\n",
              "      <th>children_4.0</th>\n",
              "      <th>children_5.5</th>\n",
              "      <th>religious_2.0</th>\n",
              "      <th>religious_3.0</th>\n",
              "      <th>religious_4.0</th>\n",
              "      <th>occupation_2.0</th>\n",
              "      <th>occupation_3.0</th>\n",
              "      <th>occupation_4.0</th>\n",
              "      <th>occupation_5.0</th>\n",
              "      <th>occupation_6.0</th>\n",
              "      <th>occupation_husb_2.0</th>\n",
              "      <th>occupation_husb_3.0</th>\n",
              "      <th>occupation_husb_4.0</th>\n",
              "      <th>occupation_husb_5.0</th>\n",
              "      <th>occupation_husb_6.0</th>\n",
              "    </tr>\n",
              "  </thead>\n",
              "  <tbody>\n",
              "    <tr>\n",
              "      <th>2313</th>\n",
              "      <td>27.0</td>\n",
              "      <td>13.0</td>\n",
              "      <td>16.0</td>\n",
              "      <td>0</td>\n",
              "      <td>0</td>\n",
              "      <td>0</td>\n",
              "      <td>1</td>\n",
              "      <td>0</td>\n",
              "      <td>1</td>\n",
              "      <td>0</td>\n",
              "      <td>0</td>\n",
              "      <td>0</td>\n",
              "      <td>1</td>\n",
              "      <td>0</td>\n",
              "      <td>0</td>\n",
              "      <td>0</td>\n",
              "      <td>0</td>\n",
              "      <td>1</td>\n",
              "      <td>0</td>\n",
              "      <td>0</td>\n",
              "      <td>0</td>\n",
              "      <td>0</td>\n",
              "      <td>1</td>\n",
              "      <td>0</td>\n",
              "      <td>0</td>\n",
              "    </tr>\n",
              "    <tr>\n",
              "      <th>2469</th>\n",
              "      <td>27.0</td>\n",
              "      <td>9.0</td>\n",
              "      <td>12.0</td>\n",
              "      <td>0</td>\n",
              "      <td>0</td>\n",
              "      <td>1</td>\n",
              "      <td>0</td>\n",
              "      <td>0</td>\n",
              "      <td>0</td>\n",
              "      <td>0</td>\n",
              "      <td>0</td>\n",
              "      <td>0</td>\n",
              "      <td>1</td>\n",
              "      <td>0</td>\n",
              "      <td>0</td>\n",
              "      <td>0</td>\n",
              "      <td>1</td>\n",
              "      <td>0</td>\n",
              "      <td>0</td>\n",
              "      <td>0</td>\n",
              "      <td>0</td>\n",
              "      <td>0</td>\n",
              "      <td>0</td>\n",
              "      <td>1</td>\n",
              "      <td>0</td>\n",
              "    </tr>\n",
              "    <tr>\n",
              "      <th>3057</th>\n",
              "      <td>22.0</td>\n",
              "      <td>2.5</td>\n",
              "      <td>16.0</td>\n",
              "      <td>0</td>\n",
              "      <td>1</td>\n",
              "      <td>0</td>\n",
              "      <td>0</td>\n",
              "      <td>0</td>\n",
              "      <td>0</td>\n",
              "      <td>0</td>\n",
              "      <td>0</td>\n",
              "      <td>0</td>\n",
              "      <td>1</td>\n",
              "      <td>0</td>\n",
              "      <td>0</td>\n",
              "      <td>0</td>\n",
              "      <td>0</td>\n",
              "      <td>1</td>\n",
              "      <td>0</td>\n",
              "      <td>0</td>\n",
              "      <td>0</td>\n",
              "      <td>0</td>\n",
              "      <td>0</td>\n",
              "      <td>0</td>\n",
              "      <td>1</td>\n",
              "    </tr>\n",
              "    <tr>\n",
              "      <th>6300</th>\n",
              "      <td>27.0</td>\n",
              "      <td>13.0</td>\n",
              "      <td>12.0</td>\n",
              "      <td>0</td>\n",
              "      <td>0</td>\n",
              "      <td>1</td>\n",
              "      <td>0</td>\n",
              "      <td>0</td>\n",
              "      <td>1</td>\n",
              "      <td>0</td>\n",
              "      <td>0</td>\n",
              "      <td>0</td>\n",
              "      <td>1</td>\n",
              "      <td>0</td>\n",
              "      <td>0</td>\n",
              "      <td>1</td>\n",
              "      <td>0</td>\n",
              "      <td>0</td>\n",
              "      <td>0</td>\n",
              "      <td>0</td>\n",
              "      <td>1</td>\n",
              "      <td>0</td>\n",
              "      <td>0</td>\n",
              "      <td>0</td>\n",
              "      <td>0</td>\n",
              "    </tr>\n",
              "    <tr>\n",
              "      <th>1778</th>\n",
              "      <td>27.0</td>\n",
              "      <td>6.0</td>\n",
              "      <td>12.0</td>\n",
              "      <td>0</td>\n",
              "      <td>0</td>\n",
              "      <td>1</td>\n",
              "      <td>0</td>\n",
              "      <td>0</td>\n",
              "      <td>0</td>\n",
              "      <td>0</td>\n",
              "      <td>0</td>\n",
              "      <td>0</td>\n",
              "      <td>1</td>\n",
              "      <td>0</td>\n",
              "      <td>0</td>\n",
              "      <td>0</td>\n",
              "      <td>1</td>\n",
              "      <td>0</td>\n",
              "      <td>0</td>\n",
              "      <td>0</td>\n",
              "      <td>0</td>\n",
              "      <td>0</td>\n",
              "      <td>1</td>\n",
              "      <td>0</td>\n",
              "      <td>0</td>\n",
              "    </tr>\n",
              "  </tbody>\n",
              "</table>\n",
              "</div>\n",
              "      <button class=\"colab-df-convert\" onclick=\"convertToInteractive('df-02a57afb-3684-494a-a2ec-729b30970903')\"\n",
              "              title=\"Convert this dataframe to an interactive table.\"\n",
              "              style=\"display:none;\">\n",
              "        \n",
              "  <svg xmlns=\"http://www.w3.org/2000/svg\" height=\"24px\"viewBox=\"0 0 24 24\"\n",
              "       width=\"24px\">\n",
              "    <path d=\"M0 0h24v24H0V0z\" fill=\"none\"/>\n",
              "    <path d=\"M18.56 5.44l.94 2.06.94-2.06 2.06-.94-2.06-.94-.94-2.06-.94 2.06-2.06.94zm-11 1L8.5 8.5l.94-2.06 2.06-.94-2.06-.94L8.5 2.5l-.94 2.06-2.06.94zm10 10l.94 2.06.94-2.06 2.06-.94-2.06-.94-.94-2.06-.94 2.06-2.06.94z\"/><path d=\"M17.41 7.96l-1.37-1.37c-.4-.4-.92-.59-1.43-.59-.52 0-1.04.2-1.43.59L10.3 9.45l-7.72 7.72c-.78.78-.78 2.05 0 2.83L4 21.41c.39.39.9.59 1.41.59.51 0 1.02-.2 1.41-.59l7.78-7.78 2.81-2.81c.8-.78.8-2.07 0-2.86zM5.41 20L4 18.59l7.72-7.72 1.47 1.35L5.41 20z\"/>\n",
              "  </svg>\n",
              "      </button>\n",
              "      \n",
              "  <style>\n",
              "    .colab-df-container {\n",
              "      display:flex;\n",
              "      flex-wrap:wrap;\n",
              "      gap: 12px;\n",
              "    }\n",
              "\n",
              "    .colab-df-convert {\n",
              "      background-color: #E8F0FE;\n",
              "      border: none;\n",
              "      border-radius: 50%;\n",
              "      cursor: pointer;\n",
              "      display: none;\n",
              "      fill: #1967D2;\n",
              "      height: 32px;\n",
              "      padding: 0 0 0 0;\n",
              "      width: 32px;\n",
              "    }\n",
              "\n",
              "    .colab-df-convert:hover {\n",
              "      background-color: #E2EBFA;\n",
              "      box-shadow: 0px 1px 2px rgba(60, 64, 67, 0.3), 0px 1px 3px 1px rgba(60, 64, 67, 0.15);\n",
              "      fill: #174EA6;\n",
              "    }\n",
              "\n",
              "    [theme=dark] .colab-df-convert {\n",
              "      background-color: #3B4455;\n",
              "      fill: #D2E3FC;\n",
              "    }\n",
              "\n",
              "    [theme=dark] .colab-df-convert:hover {\n",
              "      background-color: #434B5C;\n",
              "      box-shadow: 0px 1px 3px 1px rgba(0, 0, 0, 0.15);\n",
              "      filter: drop-shadow(0px 1px 2px rgba(0, 0, 0, 0.3));\n",
              "      fill: #FFFFFF;\n",
              "    }\n",
              "  </style>\n",
              "\n",
              "      <script>\n",
              "        const buttonEl =\n",
              "          document.querySelector('#df-02a57afb-3684-494a-a2ec-729b30970903 button.colab-df-convert');\n",
              "        buttonEl.style.display =\n",
              "          google.colab.kernel.accessAllowed ? 'block' : 'none';\n",
              "\n",
              "        async function convertToInteractive(key) {\n",
              "          const element = document.querySelector('#df-02a57afb-3684-494a-a2ec-729b30970903');\n",
              "          const dataTable =\n",
              "            await google.colab.kernel.invokeFunction('convertToInteractive',\n",
              "                                                     [key], {});\n",
              "          if (!dataTable) return;\n",
              "\n",
              "          const docLinkHtml = 'Like what you see? Visit the ' +\n",
              "            '<a target=\"_blank\" href=https://colab.research.google.com/notebooks/data_table.ipynb>data table notebook</a>'\n",
              "            + ' to learn more about interactive tables.';\n",
              "          element.innerHTML = '';\n",
              "          dataTable['output_type'] = 'display_data';\n",
              "          await google.colab.output.renderOutput(dataTable, element);\n",
              "          const docLink = document.createElement('div');\n",
              "          docLink.innerHTML = docLinkHtml;\n",
              "          element.appendChild(docLink);\n",
              "        }\n",
              "      </script>\n",
              "    </div>\n",
              "  </div>\n",
              "  "
            ],
            "text/plain": [
              "       age  yrs_married  ...  occupation_husb_5.0  occupation_husb_6.0\n",
              "2313  27.0         13.0  ...                    0                    0\n",
              "2469  27.0          9.0  ...                    1                    0\n",
              "3057  22.0          2.5  ...                    0                    1\n",
              "6300  27.0         13.0  ...                    0                    0\n",
              "1778  27.0          6.0  ...                    0                    0\n",
              "\n",
              "[5 rows x 25 columns]"
            ]
          },
          "metadata": {},
          "execution_count": 377
        }
      ]
    },
    {
      "cell_type": "markdown",
      "source": [
        "We are dropping first dummy column to reduce multi collinearity between the features."
      ],
      "metadata": {
        "id": "K5qGwT3jauFT"
      }
    },
    {
      "cell_type": "markdown",
      "source": [
        "## **Modeling**"
      ],
      "metadata": {
        "id": "FeBjWMQAjWOC"
      }
    },
    {
      "cell_type": "code",
      "source": [
        "lr = LogisticRegression(max_iter=1000, random_state=687)"
      ],
      "metadata": {
        "id": "jwbxEyvvjjLB"
      },
      "execution_count": 378,
      "outputs": []
    },
    {
      "cell_type": "markdown",
      "source": [
        "### **Without Dummies**"
      ],
      "metadata": {
        "id": "mPZiocIujcAZ"
      }
    },
    {
      "cell_type": "code",
      "source": [
        "# Fitting the model\n",
        "lr.fit(X_train, Y_train)"
      ],
      "metadata": {
        "colab": {
          "base_uri": "https://localhost:8080/"
        },
        "id": "hbn2saE7jnKu",
        "outputId": "a23425b2-1054-46d7-b17f-2958def6f84a"
      },
      "execution_count": 379,
      "outputs": [
        {
          "output_type": "execute_result",
          "data": {
            "text/plain": [
              "LogisticRegression(max_iter=1000, random_state=687)"
            ]
          },
          "metadata": {},
          "execution_count": 379
        }
      ]
    },
    {
      "cell_type": "code",
      "source": [
        "# prediction\n",
        "pred = lr.predict(X_test)"
      ],
      "metadata": {
        "id": "hyv0qD8CkuPP"
      },
      "execution_count": 380,
      "outputs": []
    },
    {
      "cell_type": "code",
      "source": [
        "# accuracy score\n",
        "accuracy_score(pred, Y_test)"
      ],
      "metadata": {
        "colab": {
          "base_uri": "https://localhost:8080/"
        },
        "id": "P9RITFTok3CL",
        "outputId": "e76b30c2-1fdc-4dfa-f9ad-ce6c70eeb2e0"
      },
      "execution_count": 381,
      "outputs": [
        {
          "output_type": "execute_result",
          "data": {
            "text/plain": [
              "0.7192224622030238"
            ]
          },
          "metadata": {},
          "execution_count": 381
        }
      ]
    },
    {
      "cell_type": "markdown",
      "source": [
        "### **With Dummies**"
      ],
      "metadata": {
        "id": "VpMpi5lak_HO"
      }
    },
    {
      "cell_type": "code",
      "source": [
        "lr_withDummy = LogisticRegression(max_iter=1000, random_state=687)"
      ],
      "metadata": {
        "id": "MSkkv20-o3eO"
      },
      "execution_count": 382,
      "outputs": []
    },
    {
      "cell_type": "code",
      "source": [
        "# Fitting the model\n",
        "lr_withDummy.fit(X_train_withDummy, Y_train)"
      ],
      "metadata": {
        "colab": {
          "base_uri": "https://localhost:8080/"
        },
        "id": "2eqaQWyClC-M",
        "outputId": "218e2223-f645-49f7-b387-3d2687cd7693"
      },
      "execution_count": 383,
      "outputs": [
        {
          "output_type": "execute_result",
          "data": {
            "text/plain": [
              "LogisticRegression(max_iter=1000, random_state=687)"
            ]
          },
          "metadata": {},
          "execution_count": 383
        }
      ]
    },
    {
      "cell_type": "code",
      "source": [
        "X_test_withDummy =  X_test.astype({'children': 'category', 'religious': 'category', 'occupation': 'category', 'occupation_husb': 'category', 'rate_marriage': 'category' })\n",
        "X_test_withDummy = pd.get_dummies(X_test_withDummy, drop_first=True)"
      ],
      "metadata": {
        "id": "uvXnCq-MigDY"
      },
      "execution_count": 384,
      "outputs": []
    },
    {
      "cell_type": "code",
      "source": [
        "# prediction\n",
        "pred_withDummy = lr_withDummy.predict(X_test_withDummy)"
      ],
      "metadata": {
        "id": "yVrbkKRdl3wg"
      },
      "execution_count": 385,
      "outputs": []
    },
    {
      "cell_type": "code",
      "source": [
        "# accuracy score\n",
        "accuracy_score(pred_withDummy, Y_test)"
      ],
      "metadata": {
        "colab": {
          "base_uri": "https://localhost:8080/"
        },
        "id": "fJpeKUarmEoD",
        "outputId": "b0636abb-4043-4340-cf6f-c064790d0a2b"
      },
      "execution_count": 386,
      "outputs": [
        {
          "output_type": "execute_result",
          "data": {
            "text/plain": [
              "0.721578637345376"
            ]
          },
          "metadata": {},
          "execution_count": 386
        }
      ]
    },
    {
      "cell_type": "markdown",
      "source": [
        "Difference between doing by using dummies and not doing dummies is 0.20%."
      ],
      "metadata": {
        "id": "RZxv0xUpmPRu"
      }
    },
    {
      "cell_type": "markdown",
      "source": [
        "Let us visualize the coefficients now"
      ],
      "metadata": {
        "id": "KKEoOYewoaLk"
      }
    },
    {
      "cell_type": "code",
      "source": [
        "fig, axis = plt.subplots(1, 2, figsize=(20, 5), sharey=True)\n",
        "sns.barplot(x=X_train.columns, y=lr.coef_.reshape(8), ax=axis[0])\n",
        "sns.barplot(x=X_train_withDummy.columns, y=lr_withDummy.coef_.reshape(25), ax=axis[1])\n",
        "plt.xticks(rotation=90)\n",
        "plt.show()"
      ],
      "metadata": {
        "colab": {
          "base_uri": "https://localhost:8080/",
          "height": 414
        },
        "id": "jYbUTilFccS5",
        "outputId": "328a6952-c6af-4b46-f981-8a75bf3779fb"
      },
      "execution_count": 387,
      "outputs": [
        {
          "output_type": "display_data",
          "data": {
            "image/png": "[encoded data removed]",
            "text/plain": [
              "<Figure size 1440x360 with 2 Axes>"
            ]
          },
          "metadata": {}
        }
      ]
    },
    {
      "cell_type": "markdown",
      "source": [
        "Here we could see for both the models, occupation which didn't follow a proper linear relationship with the rate of affairs is given more priority over age ad years married. Solving this might improve the accuracy."
      ],
      "metadata": {
        "id": "vjuwWijypvej"
      }
    },
    {
      "cell_type": "markdown",
      "source": [
        "### **Removing the occupation and occupation_husb and then trying**"
      ],
      "metadata": {
        "id": "PiGO_FL6qB6D"
      }
    },
    {
      "cell_type": "code",
      "source": [
        "lr_1 = LogisticRegression(max_iter=1000, random_state=687)"
      ],
      "metadata": {
        "id": "Z2iTCYWyqQMW"
      },
      "execution_count": 388,
      "outputs": []
    },
    {
      "cell_type": "code",
      "source": [
        "# Fitting the model\n",
        "lr_1.fit(X_train.drop(['occupation', 'occupation_husb'], axis=1), Y_train)"
      ],
      "metadata": {
        "colab": {
          "base_uri": "https://localhost:8080/"
        },
        "outputId": "543a1883-3b63-4795-a1f1-cb2e9edf529d",
        "id": "0bvzm4DCqazU"
      },
      "execution_count": 389,
      "outputs": [
        {
          "output_type": "execute_result",
          "data": {
            "text/plain": [
              "LogisticRegression(max_iter=1000, random_state=687)"
            ]
          },
          "metadata": {},
          "execution_count": 389
        }
      ]
    },
    {
      "cell_type": "code",
      "source": [
        "# prediction\n",
        "pred_1 = lr_1.predict(X_test.drop(['occupation', 'occupation_husb'], axis=1))"
      ],
      "metadata": {
        "id": "Qzew2CgtqazU"
      },
      "execution_count": 390,
      "outputs": []
    },
    {
      "cell_type": "code",
      "source": [
        "# accuracy score\n",
        "accuracy_score(pred_1, Y_test)"
      ],
      "metadata": {
        "colab": {
          "base_uri": "https://localhost:8080/"
        },
        "outputId": "0e7c6a5e-9089-4805-e1bc-e4190e18cb29",
        "id": "0eXA5Nc1qazU"
      },
      "execution_count": 391,
      "outputs": [
        {
          "output_type": "execute_result",
          "data": {
            "text/plain": [
              "0.7168662870606715"
            ]
          },
          "metadata": {},
          "execution_count": 391
        }
      ]
    },
    {
      "cell_type": "markdown",
      "source": [
        "This really didn't help. This gives us the idea that the coefficients are assigned not on the basis of other features. It is truly independent. Removing one feature won't help in changing the coefficients of other features. It would only reduce the complexity of the model if the prediction is as accurate as before which is not true here."
      ],
      "metadata": {
        "id": "BZsB8b8_rSr9"
      }
    },
    {
      "cell_type": "markdown",
      "source": [
        "### **Regularization**"
      ],
      "metadata": {
        "id": "2xTPrwOQlYk6"
      }
    },
    {
      "cell_type": "markdown",
      "source": [
        "*regularization can be used to train models that generalize better on unseen data, by preventing the algorithm from overfitting the training dataset.*\n",
        "\n",
        "*But why should we penalize high coefficients? If a feature occurs only in one class it will be assigned a very high coefficient by the logistic regression algorithm. In this case the model will learn all details about the training set, probably too perfectly.*\n",
        "\n",
        "---"
      ],
      "metadata": {
        "id": "l31LxvX4ldyb"
      }
    },
    {
      "cell_type": "markdown",
      "source": [
        "Regularization is a technique used to reduce the errors by fitting the function appropriately on the given training set and avoid overfitting. \n",
        "\n",
        "The commonly used regularization techniques are : \n",
        "*   L1 regularization\n",
        "*   L2 regularization\n",
        "*   Dropout regularization\n",
        "\n",
        "A regression model which uses L1 Regularization technique is called LASSO(Least Absolute Shrinkage and Selection Operator) regression. \n",
        "\n",
        "A regression model that uses L2 regularization technique is called Ridge regression. \n",
        "\n",
        "Lasso Regression adds “absolute value of magnitude” of coefficient as penalty term to the loss function(L). \n",
        "\n",
        "Ridge regression adds “squared magnitude” of coefficient as penalty term to the loss function(L)."
      ],
      "metadata": {
        "id": "LBs4a3EVnZ9k"
      }
    },
    {
      "cell_type": "code",
      "source": [
        "from sklearn.linear_model import Ridge"
      ],
      "metadata": {
        "id": "BzSS_gQKnYKW"
      },
      "execution_count": 392,
      "outputs": []
    },
    {
      "cell_type": "code",
      "source": [
        "# Creating the model\n",
        "ridge = Ridge(alpha=0.71, random_state=687)\n",
        "ridge.fit(X_train_withDummy, Y_train)"
      ],
      "metadata": {
        "colab": {
          "base_uri": "https://localhost:8080/"
        },
        "id": "p1t25YXmlthG",
        "outputId": "b2313366-ae7f-4545-992f-77f32b9f6c5e"
      },
      "execution_count": 393,
      "outputs": [
        {
          "output_type": "execute_result",
          "data": {
            "text/plain": [
              "Ridge(alpha=0.71, random_state=687)"
            ]
          },
          "metadata": {},
          "execution_count": 393
        }
      ]
    },
    {
      "cell_type": "code",
      "source": [
        "# Predicting the values\n",
        "ridge_prediction = ridge.predict(X_test_withDummy)"
      ],
      "metadata": {
        "id": "HCDZFGbepi8Y"
      },
      "execution_count": 394,
      "outputs": []
    },
    {
      "cell_type": "code",
      "source": [
        "# Checking the accuracy\n",
        "accuracy_score(np.round(ridge_prediction), Y_test)"
      ],
      "metadata": {
        "colab": {
          "base_uri": "https://localhost:8080/"
        },
        "id": "7opjdzxPprqa",
        "outputId": "7c53471f-1964-4173-ac58-341f5c229069"
      },
      "execution_count": 395,
      "outputs": [
        {
          "output_type": "execute_result",
          "data": {
            "text/plain": [
              "0.7239348124877283"
            ]
          },
          "metadata": {},
          "execution_count": 395
        }
      ]
    },
    {
      "cell_type": "markdown",
      "source": [
        "Adding regularization has only helped in impoving the accuracy by 0.20%"
      ],
      "metadata": {
        "id": "vIGT-DGItPBd"
      }
    },
    {
      "cell_type": "code",
      "source": [
        "plt.subplots(figsize=(10, 5))\n",
        "sns.barplot(x=X_train_withDummy.columns, y=ridge.coef_.reshape(25), alpha=1, color='red')\n",
        "sns.barplot(x=X_train_withDummy.columns, y=lr_withDummy.coef_.reshape(25), alpha=0.5, color='green')\n",
        "plt.xticks(rotation=90)\n",
        "plt.show()"
      ],
      "metadata": {
        "colab": {
          "base_uri": "https://localhost:8080/",
          "height": 415
        },
        "id": "DkNNUWmIxTyJ",
        "outputId": "596c9ad1-e5f6-4abc-86b0-d0eebae35e86"
      },
      "execution_count": 396,
      "outputs": [
        {
          "output_type": "display_data",
          "data": {
            "image/png": "[encoded data removed]",
            "text/plain": [
              "<Figure size 720x360 with 1 Axes>"
            ]
          },
          "metadata": {}
        }
      ]
    },
    {
      "cell_type": "markdown",
      "source": [
        "Clearly evident that the coefficient values have reduced. For some of them they have grown from negative to positive value."
      ],
      "metadata": {
        "id": "Pu7y4m1eyQDf"
      }
    }
  ]
}