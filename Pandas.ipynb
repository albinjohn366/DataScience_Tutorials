{
  "nbformat": 4,
  "nbformat_minor": 0,
  "metadata": {
    "colab": {
      "name": "Pandas.ipynb",
      "provenance": [],
      "authorship_tag": "ABX9TyMU1Hu97/ZkQoZcnVgmCCYQ"
    },
    "kernelspec": {
      "name": "python3",
      "display_name": "Python 3"
    },
    "language_info": {
      "name": "python"
    }
  },
  "cells": [
    {
      "cell_type": "code",
      "metadata": {
        "id": "CubUDWwQkQgf"
      },
      "source": [
        "import pandas as pd\n",
        "import numpy as np"
      ],
      "execution_count": 1,
      "outputs": []
    },
    {
      "cell_type": "markdown",
      "metadata": {
        "id": "9_gP0d-cD1xK"
      },
      "source": [
        "# Series"
      ]
    },
    {
      "cell_type": "markdown",
      "metadata": {
        "id": "UBhGcFeJBtDA"
      },
      "source": [
        "Series is a collection of data that has particular position."
      ]
    },
    {
      "cell_type": "code",
      "metadata": {
        "colab": {
          "base_uri": "https://localhost:8080/"
        },
        "id": "8UftzXfnBY0H",
        "outputId": "c486b4c4-3d70-49f3-bbca-ade560f9257f"
      },
      "source": [
        "a = pd.Series([1, 2, 3, 4, 5])\n",
        "a"
      ],
      "execution_count": 2,
      "outputs": [
        {
          "output_type": "execute_result",
          "data": {
            "text/plain": [
              "0    1\n",
              "1    2\n",
              "2    3\n",
              "3    4\n",
              "4    5\n",
              "dtype: int64"
            ]
          },
          "metadata": {
            "tags": []
          },
          "execution_count": 2
        }
      ]
    },
    {
      "cell_type": "code",
      "metadata": {
        "colab": {
          "base_uri": "https://localhost:8080/"
        },
        "id": "HTl7Amm5BgjX",
        "outputId": "9ec045c3-9f4d-46f4-9bee-bf3bae95661f"
      },
      "source": [
        "print(a.values)\n",
        "print(a.index)"
      ],
      "execution_count": 3,
      "outputs": [
        {
          "output_type": "stream",
          "text": [
            "[1 2 3 4 5]\n",
            "RangeIndex(start=0, stop=5, step=1)\n"
          ],
          "name": "stdout"
        }
      ]
    },
    {
      "cell_type": "code",
      "metadata": {
        "colab": {
          "base_uri": "https://localhost:8080/"
        },
        "id": "GhXr9z5uB0RN",
        "outputId": "6895bdc4-526d-4435-bf1e-125d08afb199"
      },
      "source": [
        "# Lets create a series of marks of dofferent students\n",
        "marks = pd.Series([9, 8, 9, 7, 5], index=['Clarke', 'John', 'Mathew', \n",
        "                                          'Lily', 'Rose'])\n",
        "marks"
      ],
      "execution_count": 4,
      "outputs": [
        {
          "output_type": "execute_result",
          "data": {
            "text/plain": [
              "Clarke    9\n",
              "John      8\n",
              "Mathew    9\n",
              "Lily      7\n",
              "Rose      5\n",
              "dtype: int64"
            ]
          },
          "metadata": {
            "tags": []
          },
          "execution_count": 4
        }
      ]
    },
    {
      "cell_type": "code",
      "metadata": {
        "colab": {
          "base_uri": "https://localhost:8080/"
        },
        "id": "uB1_1VF9CKYV",
        "outputId": "feff1f39-9ce7-40d7-b935-2cf4db611abc"
      },
      "source": [
        "marks['Lily']"
      ],
      "execution_count": 5,
      "outputs": [
        {
          "output_type": "execute_result",
          "data": {
            "text/plain": [
              "7"
            ]
          },
          "metadata": {
            "tags": []
          },
          "execution_count": 5
        }
      ]
    },
    {
      "cell_type": "markdown",
      "metadata": {
        "id": "YmTiT3PHCNwJ"
      },
      "source": [
        "Series acts like a dictionary"
      ]
    },
    {
      "cell_type": "code",
      "metadata": {
        "colab": {
          "base_uri": "https://localhost:8080/"
        },
        "id": "eDfH5H7RCMAk",
        "outputId": "845ccbea-ffaa-4c70-8460-ae5b5b6003e7"
      },
      "source": [
        "# Conditions on series\n",
        "marks[marks > 7]"
      ],
      "execution_count": 6,
      "outputs": [
        {
          "output_type": "execute_result",
          "data": {
            "text/plain": [
              "Clarke    9\n",
              "John      8\n",
              "Mathew    9\n",
              "dtype: int64"
            ]
          },
          "metadata": {
            "tags": []
          },
          "execution_count": 6
        }
      ]
    },
    {
      "cell_type": "code",
      "metadata": {
        "colab": {
          "base_uri": "https://localhost:8080/"
        },
        "id": "zIMWCU_kChMN",
        "outputId": "278be5af-57d5-471f-984b-0e5a336a4ac7"
      },
      "source": [
        "# Converting a series into dictionary\n",
        "dictt = marks.to_dict()\n",
        "dictt"
      ],
      "execution_count": 7,
      "outputs": [
        {
          "output_type": "execute_result",
          "data": {
            "text/plain": [
              "{'Clarke': 9, 'John': 8, 'Lily': 7, 'Mathew': 9, 'Rose': 5}"
            ]
          },
          "metadata": {
            "tags": []
          },
          "execution_count": 7
        }
      ]
    },
    {
      "cell_type": "code",
      "metadata": {
        "colab": {
          "base_uri": "https://localhost:8080/"
        },
        "id": "RqWWaUcFCqyF",
        "outputId": "f2eff886-6d60-4ce0-e79d-701fc9fc98b0"
      },
      "source": [
        "# Converting a dictionary into Series\n",
        "dictt = pd.Series(dictt)\n",
        "dictt"
      ],
      "execution_count": 8,
      "outputs": [
        {
          "output_type": "execute_result",
          "data": {
            "text/plain": [
              "Clarke    9\n",
              "John      8\n",
              "Mathew    9\n",
              "Lily      7\n",
              "Rose      5\n",
              "dtype: int64"
            ]
          },
          "metadata": {
            "tags": []
          },
          "execution_count": 8
        }
      ]
    },
    {
      "cell_type": "code",
      "metadata": {
        "colab": {
          "base_uri": "https://localhost:8080/"
        },
        "id": "NMIrLnSnDHTC",
        "outputId": "b50f823e-e02f-4df0-f1e5-3e756ca46be9"
      },
      "source": [
        "# Finding Nan value\n",
        "marks_2 = pd.Series([9, 8, 9, 7, 5, np.nan], index=['Clarke', 'John', 'Mathew', \n",
        "                                          'Lily', 'Rose', 'James'])\n",
        "pd.isna(marks_2)"
      ],
      "execution_count": 9,
      "outputs": [
        {
          "output_type": "execute_result",
          "data": {
            "text/plain": [
              "Clarke    False\n",
              "John      False\n",
              "Mathew    False\n",
              "Lily      False\n",
              "Rose      False\n",
              "James      True\n",
              "dtype: bool"
            ]
          },
          "metadata": {
            "tags": []
          },
          "execution_count": 9
        }
      ]
    },
    {
      "cell_type": "code",
      "metadata": {
        "colab": {
          "base_uri": "https://localhost:8080/"
        },
        "id": "0Iwbwss9DbXT",
        "outputId": "f5896e66-9e4b-4aa6-9ca3-4f9daf9e1c7b"
      },
      "source": [
        "marks_2[marks_2.isna() == True]"
      ],
      "execution_count": 10,
      "outputs": [
        {
          "output_type": "execute_result",
          "data": {
            "text/plain": [
              "James   NaN\n",
              "dtype: float64"
            ]
          },
          "metadata": {
            "tags": []
          },
          "execution_count": 10
        }
      ]
    },
    {
      "cell_type": "code",
      "metadata": {
        "colab": {
          "base_uri": "https://localhost:8080/"
        },
        "id": "gPYFFEfXDoYa",
        "outputId": "e4e64b68-b817-4211-fdfb-28798ce873b8"
      },
      "source": [
        "# We can label index\n",
        "marks.index.name = \"Name\"\n",
        "marks"
      ],
      "execution_count": 11,
      "outputs": [
        {
          "output_type": "execute_result",
          "data": {
            "text/plain": [
              "Name\n",
              "Clarke    9\n",
              "John      8\n",
              "Mathew    9\n",
              "Lily      7\n",
              "Rose      5\n",
              "dtype: int64"
            ]
          },
          "metadata": {
            "tags": []
          },
          "execution_count": 11
        }
      ]
    },
    {
      "cell_type": "markdown",
      "metadata": {
        "id": "JeJtk14pFfxg"
      },
      "source": [
        "# DataFrame"
      ]
    },
    {
      "cell_type": "code",
      "metadata": {
        "colab": {
          "base_uri": "https://localhost:8080/",
          "height": 173
        },
        "id": "87_gHKPMFj2z",
        "outputId": "0e0828ed-4a74-4753-a95f-3ce50192028a"
      },
      "source": [
        "df = pd.DataFrame({'Marks': [12, 34, 56 ,13],\n",
        "                  'Total Mark': [70, 70, 70, 70]},\n",
        "                  index=['George', 'Hanna', 'Lissy', 'John'])\n",
        "df"
      ],
      "execution_count": 12,
      "outputs": [
        {
          "output_type": "execute_result",
          "data": {
            "text/html": [
              "<div>\n",
              "<style scoped>\n",
              "    .dataframe tbody tr th:only-of-type {\n",
              "        vertical-align: middle;\n",
              "    }\n",
              "\n",
              "    .dataframe tbody tr th {\n",
              "        vertical-align: top;\n",
              "    }\n",
              "\n",
              "    .dataframe thead th {\n",
              "        text-align: right;\n",
              "    }\n",
              "</style>\n",
              "<table border=\"1\" class=\"dataframe\">\n",
              "  <thead>\n",
              "    <tr style=\"text-align: right;\">\n",
              "      <th></th>\n",
              "      <th>Marks</th>\n",
              "      <th>Total Mark</th>\n",
              "    </tr>\n",
              "  </thead>\n",
              "  <tbody>\n",
              "    <tr>\n",
              "      <th>George</th>\n",
              "      <td>12</td>\n",
              "      <td>70</td>\n",
              "    </tr>\n",
              "    <tr>\n",
              "      <th>Hanna</th>\n",
              "      <td>34</td>\n",
              "      <td>70</td>\n",
              "    </tr>\n",
              "    <tr>\n",
              "      <th>Lissy</th>\n",
              "      <td>56</td>\n",
              "      <td>70</td>\n",
              "    </tr>\n",
              "    <tr>\n",
              "      <th>John</th>\n",
              "      <td>13</td>\n",
              "      <td>70</td>\n",
              "    </tr>\n",
              "  </tbody>\n",
              "</table>\n",
              "</div>"
            ],
            "text/plain": [
              "        Marks  Total Mark\n",
              "George     12          70\n",
              "Hanna      34          70\n",
              "Lissy      56          70\n",
              "John       13          70"
            ]
          },
          "metadata": {
            "tags": []
          },
          "execution_count": 12
        }
      ]
    },
    {
      "cell_type": "code",
      "metadata": {
        "colab": {
          "base_uri": "https://localhost:8080/"
        },
        "id": "ljGdYf3ZHPqa",
        "outputId": "8c83ef71-cad9-4adf-a4ab-26b0ff246189"
      },
      "source": [
        "# To get the column names\n",
        "df.columns"
      ],
      "execution_count": 13,
      "outputs": [
        {
          "output_type": "execute_result",
          "data": {
            "text/plain": [
              "Index(['Marks', 'Total Mark'], dtype='object')"
            ]
          },
          "metadata": {
            "tags": []
          },
          "execution_count": 13
        }
      ]
    },
    {
      "cell_type": "code",
      "metadata": {
        "colab": {
          "base_uri": "https://localhost:8080/"
        },
        "id": "N9Mo0nk_HUGC",
        "outputId": "f8ebe890-037d-4bc0-9854-82b2ee035e54"
      },
      "source": [
        "# To get the element in a particula row and column\n",
        "df['Marks']"
      ],
      "execution_count": 14,
      "outputs": [
        {
          "output_type": "execute_result",
          "data": {
            "text/plain": [
              "George    12\n",
              "Hanna     34\n",
              "Lissy     56\n",
              "John      13\n",
              "Name: Marks, dtype: int64"
            ]
          },
          "metadata": {
            "tags": []
          },
          "execution_count": 14
        }
      ]
    },
    {
      "cell_type": "code",
      "metadata": {
        "colab": {
          "base_uri": "https://localhost:8080/"
        },
        "id": "BxNzpIfpHc3U",
        "outputId": "e3bfa985-a595-49e8-de17-e8d139065118"
      },
      "source": [
        "df.loc['John', 'Marks']"
      ],
      "execution_count": 15,
      "outputs": [
        {
          "output_type": "execute_result",
          "data": {
            "text/plain": [
              "13"
            ]
          },
          "metadata": {
            "tags": []
          },
          "execution_count": 15
        }
      ]
    },
    {
      "cell_type": "code",
      "metadata": {
        "colab": {
          "base_uri": "https://localhost:8080/"
        },
        "id": "3elm3NgTHjia",
        "outputId": "4adf9c53-4833-4d12-ee77-b6ef06f8d152"
      },
      "source": [
        "df.iloc[2, 1]"
      ],
      "execution_count": 16,
      "outputs": [
        {
          "output_type": "execute_result",
          "data": {
            "text/plain": [
              "70"
            ]
          },
          "metadata": {
            "tags": []
          },
          "execution_count": 16
        }
      ]
    },
    {
      "cell_type": "code",
      "metadata": {
        "colab": {
          "base_uri": "https://localhost:8080/",
          "height": 111
        },
        "id": "GpxYFPFjMacr",
        "outputId": "8befbad6-00ef-4c00-e9c5-6c78c3bed47f"
      },
      "source": [
        "# Head\n",
        "df.head(2)"
      ],
      "execution_count": 17,
      "outputs": [
        {
          "output_type": "execute_result",
          "data": {
            "text/html": [
              "<div>\n",
              "<style scoped>\n",
              "    .dataframe tbody tr th:only-of-type {\n",
              "        vertical-align: middle;\n",
              "    }\n",
              "\n",
              "    .dataframe tbody tr th {\n",
              "        vertical-align: top;\n",
              "    }\n",
              "\n",
              "    .dataframe thead th {\n",
              "        text-align: right;\n",
              "    }\n",
              "</style>\n",
              "<table border=\"1\" class=\"dataframe\">\n",
              "  <thead>\n",
              "    <tr style=\"text-align: right;\">\n",
              "      <th></th>\n",
              "      <th>Marks</th>\n",
              "      <th>Total Mark</th>\n",
              "    </tr>\n",
              "  </thead>\n",
              "  <tbody>\n",
              "    <tr>\n",
              "      <th>George</th>\n",
              "      <td>12</td>\n",
              "      <td>70</td>\n",
              "    </tr>\n",
              "    <tr>\n",
              "      <th>Hanna</th>\n",
              "      <td>34</td>\n",
              "      <td>70</td>\n",
              "    </tr>\n",
              "  </tbody>\n",
              "</table>\n",
              "</div>"
            ],
            "text/plain": [
              "        Marks  Total Mark\n",
              "George     12          70\n",
              "Hanna      34          70"
            ]
          },
          "metadata": {
            "tags": []
          },
          "execution_count": 17
        }
      ]
    },
    {
      "cell_type": "code",
      "metadata": {
        "colab": {
          "base_uri": "https://localhost:8080/",
          "height": 111
        },
        "id": "kXpShg8aMcvG",
        "outputId": "6f4d161d-71e3-4741-a4da-d665ce31befd"
      },
      "source": [
        "# Tail\n",
        "df.tail(2)"
      ],
      "execution_count": 18,
      "outputs": [
        {
          "output_type": "execute_result",
          "data": {
            "text/html": [
              "<div>\n",
              "<style scoped>\n",
              "    .dataframe tbody tr th:only-of-type {\n",
              "        vertical-align: middle;\n",
              "    }\n",
              "\n",
              "    .dataframe tbody tr th {\n",
              "        vertical-align: top;\n",
              "    }\n",
              "\n",
              "    .dataframe thead th {\n",
              "        text-align: right;\n",
              "    }\n",
              "</style>\n",
              "<table border=\"1\" class=\"dataframe\">\n",
              "  <thead>\n",
              "    <tr style=\"text-align: right;\">\n",
              "      <th></th>\n",
              "      <th>Marks</th>\n",
              "      <th>Total Mark</th>\n",
              "    </tr>\n",
              "  </thead>\n",
              "  <tbody>\n",
              "    <tr>\n",
              "      <th>Lissy</th>\n",
              "      <td>56</td>\n",
              "      <td>70</td>\n",
              "    </tr>\n",
              "    <tr>\n",
              "      <th>John</th>\n",
              "      <td>13</td>\n",
              "      <td>70</td>\n",
              "    </tr>\n",
              "  </tbody>\n",
              "</table>\n",
              "</div>"
            ],
            "text/plain": [
              "       Marks  Total Mark\n",
              "Lissy     56          70\n",
              "John      13          70"
            ]
          },
          "metadata": {
            "tags": []
          },
          "execution_count": 18
        }
      ]
    },
    {
      "cell_type": "code",
      "metadata": {
        "colab": {
          "base_uri": "https://localhost:8080/",
          "height": 173
        },
        "id": "kUAS_8trMf5G",
        "outputId": "2cca3072-cd78-4a05-e95b-bf2d26be45bd"
      },
      "source": [
        "# This is how we access elements of only some particular columns\n",
        "df[['Marks', 'Total Mark']]"
      ],
      "execution_count": 19,
      "outputs": [
        {
          "output_type": "execute_result",
          "data": {
            "text/html": [
              "<div>\n",
              "<style scoped>\n",
              "    .dataframe tbody tr th:only-of-type {\n",
              "        vertical-align: middle;\n",
              "    }\n",
              "\n",
              "    .dataframe tbody tr th {\n",
              "        vertical-align: top;\n",
              "    }\n",
              "\n",
              "    .dataframe thead th {\n",
              "        text-align: right;\n",
              "    }\n",
              "</style>\n",
              "<table border=\"1\" class=\"dataframe\">\n",
              "  <thead>\n",
              "    <tr style=\"text-align: right;\">\n",
              "      <th></th>\n",
              "      <th>Marks</th>\n",
              "      <th>Total Mark</th>\n",
              "    </tr>\n",
              "  </thead>\n",
              "  <tbody>\n",
              "    <tr>\n",
              "      <th>George</th>\n",
              "      <td>12</td>\n",
              "      <td>70</td>\n",
              "    </tr>\n",
              "    <tr>\n",
              "      <th>Hanna</th>\n",
              "      <td>34</td>\n",
              "      <td>70</td>\n",
              "    </tr>\n",
              "    <tr>\n",
              "      <th>Lissy</th>\n",
              "      <td>56</td>\n",
              "      <td>70</td>\n",
              "    </tr>\n",
              "    <tr>\n",
              "      <th>John</th>\n",
              "      <td>13</td>\n",
              "      <td>70</td>\n",
              "    </tr>\n",
              "  </tbody>\n",
              "</table>\n",
              "</div>"
            ],
            "text/plain": [
              "        Marks  Total Mark\n",
              "George     12          70\n",
              "Hanna      34          70\n",
              "Lissy      56          70\n",
              "John       13          70"
            ]
          },
          "metadata": {
            "tags": []
          },
          "execution_count": 19
        }
      ]
    },
    {
      "cell_type": "code",
      "metadata": {
        "colab": {
          "base_uri": "https://localhost:8080/",
          "height": 173
        },
        "id": "s5ZLfxl5NP8j",
        "outputId": "fdae37df-3ccc-4a91-ad24-f1da8f69c41d"
      },
      "source": [
        "# Adding a column\n",
        "df['Student ID'] = np.arange(4)\n",
        "df"
      ],
      "execution_count": 20,
      "outputs": [
        {
          "output_type": "execute_result",
          "data": {
            "text/html": [
              "<div>\n",
              "<style scoped>\n",
              "    .dataframe tbody tr th:only-of-type {\n",
              "        vertical-align: middle;\n",
              "    }\n",
              "\n",
              "    .dataframe tbody tr th {\n",
              "        vertical-align: top;\n",
              "    }\n",
              "\n",
              "    .dataframe thead th {\n",
              "        text-align: right;\n",
              "    }\n",
              "</style>\n",
              "<table border=\"1\" class=\"dataframe\">\n",
              "  <thead>\n",
              "    <tr style=\"text-align: right;\">\n",
              "      <th></th>\n",
              "      <th>Marks</th>\n",
              "      <th>Total Mark</th>\n",
              "      <th>Student ID</th>\n",
              "    </tr>\n",
              "  </thead>\n",
              "  <tbody>\n",
              "    <tr>\n",
              "      <th>George</th>\n",
              "      <td>12</td>\n",
              "      <td>70</td>\n",
              "      <td>0</td>\n",
              "    </tr>\n",
              "    <tr>\n",
              "      <th>Hanna</th>\n",
              "      <td>34</td>\n",
              "      <td>70</td>\n",
              "      <td>1</td>\n",
              "    </tr>\n",
              "    <tr>\n",
              "      <th>Lissy</th>\n",
              "      <td>56</td>\n",
              "      <td>70</td>\n",
              "      <td>2</td>\n",
              "    </tr>\n",
              "    <tr>\n",
              "      <th>John</th>\n",
              "      <td>13</td>\n",
              "      <td>70</td>\n",
              "      <td>3</td>\n",
              "    </tr>\n",
              "  </tbody>\n",
              "</table>\n",
              "</div>"
            ],
            "text/plain": [
              "        Marks  Total Mark  Student ID\n",
              "George     12          70           0\n",
              "Hanna      34          70           1\n",
              "Lissy      56          70           2\n",
              "John       13          70           3"
            ]
          },
          "metadata": {
            "tags": []
          },
          "execution_count": 20
        }
      ]
    },
    {
      "cell_type": "code",
      "metadata": {
        "colab": {
          "base_uri": "https://localhost:8080/",
          "height": 173
        },
        "id": "xjj7CPj5Nx4N",
        "outputId": "e29d6a61-a4d6-4f2d-a0d8-d821ecdeeadf"
      },
      "source": [
        "# To find indices and replace\n",
        "indices = df[df['Marks'] < 15]['Marks'].index\n",
        "df.loc[indices, 'Marks'] = 'Failed'\n",
        "df"
      ],
      "execution_count": 21,
      "outputs": [
        {
          "output_type": "execute_result",
          "data": {
            "text/html": [
              "<div>\n",
              "<style scoped>\n",
              "    .dataframe tbody tr th:only-of-type {\n",
              "        vertical-align: middle;\n",
              "    }\n",
              "\n",
              "    .dataframe tbody tr th {\n",
              "        vertical-align: top;\n",
              "    }\n",
              "\n",
              "    .dataframe thead th {\n",
              "        text-align: right;\n",
              "    }\n",
              "</style>\n",
              "<table border=\"1\" class=\"dataframe\">\n",
              "  <thead>\n",
              "    <tr style=\"text-align: right;\">\n",
              "      <th></th>\n",
              "      <th>Marks</th>\n",
              "      <th>Total Mark</th>\n",
              "      <th>Student ID</th>\n",
              "    </tr>\n",
              "  </thead>\n",
              "  <tbody>\n",
              "    <tr>\n",
              "      <th>George</th>\n",
              "      <td>Failed</td>\n",
              "      <td>70</td>\n",
              "      <td>0</td>\n",
              "    </tr>\n",
              "    <tr>\n",
              "      <th>Hanna</th>\n",
              "      <td>34</td>\n",
              "      <td>70</td>\n",
              "      <td>1</td>\n",
              "    </tr>\n",
              "    <tr>\n",
              "      <th>Lissy</th>\n",
              "      <td>56</td>\n",
              "      <td>70</td>\n",
              "      <td>2</td>\n",
              "    </tr>\n",
              "    <tr>\n",
              "      <th>John</th>\n",
              "      <td>Failed</td>\n",
              "      <td>70</td>\n",
              "      <td>3</td>\n",
              "    </tr>\n",
              "  </tbody>\n",
              "</table>\n",
              "</div>"
            ],
            "text/plain": [
              "         Marks  Total Mark  Student ID\n",
              "George  Failed          70           0\n",
              "Hanna       34          70           1\n",
              "Lissy       56          70           2\n",
              "John    Failed          70           3"
            ]
          },
          "metadata": {
            "tags": []
          },
          "execution_count": 21
        }
      ]
    },
    {
      "cell_type": "markdown",
      "metadata": {
        "id": "E4KE_kH-vHRK"
      },
      "source": [
        "# Reindexing"
      ]
    },
    {
      "cell_type": "code",
      "metadata": {
        "colab": {
          "base_uri": "https://localhost:8080/"
        },
        "id": "JK8FWBnkvJxX",
        "outputId": "4b853554-c763-4100-c3b0-bcdbc999ab0e"
      },
      "source": [
        "# Reindexing can be used to reindex values\n",
        "ser = pd.Series(['Neem', 'Banian', 'Bamboo'], index=[0, 5, 10])\n",
        "ser"
      ],
      "execution_count": 22,
      "outputs": [
        {
          "output_type": "execute_result",
          "data": {
            "text/plain": [
              "0       Neem\n",
              "5     Banian\n",
              "10    Bamboo\n",
              "dtype: object"
            ]
          },
          "metadata": {
            "tags": []
          },
          "execution_count": 22
        }
      ]
    },
    {
      "cell_type": "code",
      "metadata": {
        "colab": {
          "base_uri": "https://localhost:8080/"
        },
        "id": "ClsNUprEvwcG",
        "outputId": "670b7a24-849c-487b-a5e6-5a385c37ff95"
      },
      "source": [
        "ser = ser.reindex(range(15), method='ffill')\n",
        "ser"
      ],
      "execution_count": 23,
      "outputs": [
        {
          "output_type": "execute_result",
          "data": {
            "text/plain": [
              "0       Neem\n",
              "1       Neem\n",
              "2       Neem\n",
              "3       Neem\n",
              "4       Neem\n",
              "5     Banian\n",
              "6     Banian\n",
              "7     Banian\n",
              "8     Banian\n",
              "9     Banian\n",
              "10    Bamboo\n",
              "11    Bamboo\n",
              "12    Bamboo\n",
              "13    Bamboo\n",
              "14    Bamboo\n",
              "dtype: object"
            ]
          },
          "metadata": {
            "tags": []
          },
          "execution_count": 23
        }
      ]
    },
    {
      "cell_type": "code",
      "metadata": {
        "colab": {
          "base_uri": "https://localhost:8080/",
          "height": 203
        },
        "id": "tAaGJC2zyi9M",
        "outputId": "03bc7556-80db-4928-ce82-618abac1a510"
      },
      "source": [
        "# Using reindex to create index\n",
        "df = pd.DataFrame(np.random.randn(25).reshape(5, 5), \n",
        "                  index=['A', 'B', 'C', 'D', 'E'], \n",
        "                  columns=['col1', 'col2', 'col3', 'col4', 'col5'])\n",
        "df"
      ],
      "execution_count": 24,
      "outputs": [
        {
          "output_type": "execute_result",
          "data": {
            "text/html": [
              "<div>\n",
              "<style scoped>\n",
              "    .dataframe tbody tr th:only-of-type {\n",
              "        vertical-align: middle;\n",
              "    }\n",
              "\n",
              "    .dataframe tbody tr th {\n",
              "        vertical-align: top;\n",
              "    }\n",
              "\n",
              "    .dataframe thead th {\n",
              "        text-align: right;\n",
              "    }\n",
              "</style>\n",
              "<table border=\"1\" class=\"dataframe\">\n",
              "  <thead>\n",
              "    <tr style=\"text-align: right;\">\n",
              "      <th></th>\n",
              "      <th>col1</th>\n",
              "      <th>col2</th>\n",
              "      <th>col3</th>\n",
              "      <th>col4</th>\n",
              "      <th>col5</th>\n",
              "    </tr>\n",
              "  </thead>\n",
              "  <tbody>\n",
              "    <tr>\n",
              "      <th>A</th>\n",
              "      <td>0.021384</td>\n",
              "      <td>-0.024308</td>\n",
              "      <td>1.198022</td>\n",
              "      <td>-1.916806</td>\n",
              "      <td>-0.244474</td>\n",
              "    </tr>\n",
              "    <tr>\n",
              "      <th>B</th>\n",
              "      <td>0.380885</td>\n",
              "      <td>2.372523</td>\n",
              "      <td>-0.994825</td>\n",
              "      <td>0.271113</td>\n",
              "      <td>0.809122</td>\n",
              "    </tr>\n",
              "    <tr>\n",
              "      <th>C</th>\n",
              "      <td>1.497605</td>\n",
              "      <td>-0.546738</td>\n",
              "      <td>0.018805</td>\n",
              "      <td>1.592502</td>\n",
              "      <td>-0.324294</td>\n",
              "    </tr>\n",
              "    <tr>\n",
              "      <th>D</th>\n",
              "      <td>-1.120581</td>\n",
              "      <td>0.359149</td>\n",
              "      <td>0.258692</td>\n",
              "      <td>1.238302</td>\n",
              "      <td>-0.619531</td>\n",
              "    </tr>\n",
              "    <tr>\n",
              "      <th>E</th>\n",
              "      <td>-0.974558</td>\n",
              "      <td>0.706108</td>\n",
              "      <td>-0.671427</td>\n",
              "      <td>0.090273</td>\n",
              "      <td>-0.810843</td>\n",
              "    </tr>\n",
              "  </tbody>\n",
              "</table>\n",
              "</div>"
            ],
            "text/plain": [
              "       col1      col2      col3      col4      col5\n",
              "A  0.021384 -0.024308  1.198022 -1.916806 -0.244474\n",
              "B  0.380885  2.372523 -0.994825  0.271113  0.809122\n",
              "C  1.497605 -0.546738  0.018805  1.592502 -0.324294\n",
              "D -1.120581  0.359149  0.258692  1.238302 -0.619531\n",
              "E -0.974558  0.706108 -0.671427  0.090273 -0.810843"
            ]
          },
          "metadata": {
            "tags": []
          },
          "execution_count": 24
        }
      ]
    },
    {
      "cell_type": "code",
      "metadata": {
        "colab": {
          "base_uri": "https://localhost:8080/",
          "height": 234
        },
        "id": "Zp0d_r6wzTiP",
        "outputId": "9eb2718e-33fe-4e74-f814-faa33d793718"
      },
      "source": [
        "df = df.reindex(['A', 'B', 'C', 'D', 'E', 'F'])\n",
        "df      # this is how we create an additional index"
      ],
      "execution_count": 25,
      "outputs": [
        {
          "output_type": "execute_result",
          "data": {
            "text/html": [
              "<div>\n",
              "<style scoped>\n",
              "    .dataframe tbody tr th:only-of-type {\n",
              "        vertical-align: middle;\n",
              "    }\n",
              "\n",
              "    .dataframe tbody tr th {\n",
              "        vertical-align: top;\n",
              "    }\n",
              "\n",
              "    .dataframe thead th {\n",
              "        text-align: right;\n",
              "    }\n",
              "</style>\n",
              "<table border=\"1\" class=\"dataframe\">\n",
              "  <thead>\n",
              "    <tr style=\"text-align: right;\">\n",
              "      <th></th>\n",
              "      <th>col1</th>\n",
              "      <th>col2</th>\n",
              "      <th>col3</th>\n",
              "      <th>col4</th>\n",
              "      <th>col5</th>\n",
              "    </tr>\n",
              "  </thead>\n",
              "  <tbody>\n",
              "    <tr>\n",
              "      <th>A</th>\n",
              "      <td>0.021384</td>\n",
              "      <td>-0.024308</td>\n",
              "      <td>1.198022</td>\n",
              "      <td>-1.916806</td>\n",
              "      <td>-0.244474</td>\n",
              "    </tr>\n",
              "    <tr>\n",
              "      <th>B</th>\n",
              "      <td>0.380885</td>\n",
              "      <td>2.372523</td>\n",
              "      <td>-0.994825</td>\n",
              "      <td>0.271113</td>\n",
              "      <td>0.809122</td>\n",
              "    </tr>\n",
              "    <tr>\n",
              "      <th>C</th>\n",
              "      <td>1.497605</td>\n",
              "      <td>-0.546738</td>\n",
              "      <td>0.018805</td>\n",
              "      <td>1.592502</td>\n",
              "      <td>-0.324294</td>\n",
              "    </tr>\n",
              "    <tr>\n",
              "      <th>D</th>\n",
              "      <td>-1.120581</td>\n",
              "      <td>0.359149</td>\n",
              "      <td>0.258692</td>\n",
              "      <td>1.238302</td>\n",
              "      <td>-0.619531</td>\n",
              "    </tr>\n",
              "    <tr>\n",
              "      <th>E</th>\n",
              "      <td>-0.974558</td>\n",
              "      <td>0.706108</td>\n",
              "      <td>-0.671427</td>\n",
              "      <td>0.090273</td>\n",
              "      <td>-0.810843</td>\n",
              "    </tr>\n",
              "    <tr>\n",
              "      <th>F</th>\n",
              "      <td>NaN</td>\n",
              "      <td>NaN</td>\n",
              "      <td>NaN</td>\n",
              "      <td>NaN</td>\n",
              "      <td>NaN</td>\n",
              "    </tr>\n",
              "  </tbody>\n",
              "</table>\n",
              "</div>"
            ],
            "text/plain": [
              "       col1      col2      col3      col4      col5\n",
              "A  0.021384 -0.024308  1.198022 -1.916806 -0.244474\n",
              "B  0.380885  2.372523 -0.994825  0.271113  0.809122\n",
              "C  1.497605 -0.546738  0.018805  1.592502 -0.324294\n",
              "D -1.120581  0.359149  0.258692  1.238302 -0.619531\n",
              "E -0.974558  0.706108 -0.671427  0.090273 -0.810843\n",
              "F       NaN       NaN       NaN       NaN       NaN"
            ]
          },
          "metadata": {
            "tags": []
          },
          "execution_count": 25
        }
      ]
    },
    {
      "cell_type": "markdown",
      "metadata": {
        "id": "qUhbz_sgPhIY"
      },
      "source": [
        "# Droping Values"
      ]
    },
    {
      "cell_type": "code",
      "metadata": {
        "colab": {
          "base_uri": "https://localhost:8080/"
        },
        "id": "owWOe7Y-Pj3N",
        "outputId": "402a11ea-cfe1-40b3-cd9e-1a2300749b83"
      },
      "source": [
        "ser = pd.Series([1, 2, 3, 4], index=['a', 'b', 'c', 'd'])\n",
        "ser"
      ],
      "execution_count": 26,
      "outputs": [
        {
          "output_type": "execute_result",
          "data": {
            "text/plain": [
              "a    1\n",
              "b    2\n",
              "c    3\n",
              "d    4\n",
              "dtype: int64"
            ]
          },
          "metadata": {
            "tags": []
          },
          "execution_count": 26
        }
      ]
    },
    {
      "cell_type": "code",
      "metadata": {
        "colab": {
          "base_uri": "https://localhost:8080/"
        },
        "id": "AQT7783PPx9n",
        "outputId": "f47d5bb9-0204-422f-8512-d1757d3ff5d3"
      },
      "source": [
        "# This is how we will drop values in a particular array\n",
        "ser.drop('a')"
      ],
      "execution_count": 27,
      "outputs": [
        {
          "output_type": "execute_result",
          "data": {
            "text/plain": [
              "b    2\n",
              "c    3\n",
              "d    4\n",
              "dtype: int64"
            ]
          },
          "metadata": {
            "tags": []
          },
          "execution_count": 27
        }
      ]
    },
    {
      "cell_type": "code",
      "metadata": {
        "colab": {
          "base_uri": "https://localhost:8080/"
        },
        "id": "TXq8t0mYP4yO",
        "outputId": "45dc064b-586c-49a5-da4a-55f4a5c4e662"
      },
      "source": [
        "ser"
      ],
      "execution_count": 28,
      "outputs": [
        {
          "output_type": "execute_result",
          "data": {
            "text/plain": [
              "a    1\n",
              "b    2\n",
              "c    3\n",
              "d    4\n",
              "dtype: int64"
            ]
          },
          "metadata": {
            "tags": []
          },
          "execution_count": 28
        }
      ]
    },
    {
      "cell_type": "code",
      "metadata": {
        "colab": {
          "base_uri": "https://localhost:8080/",
          "height": 203
        },
        "id": "YgsNIc4PQHSi",
        "outputId": "74a74ce6-3854-4204-b7da-f7efff382ccc"
      },
      "source": [
        "# Dropping columns in DataFrame\n",
        "df = pd.DataFrame(np.random.randn(25).reshape(5, 5), \n",
        "                  index=['A', 'B', 'C', 'D', 'E'], \n",
        "                  columns=['col1', 'col2', 'col3', 'col4', 'col5'])\n",
        "df"
      ],
      "execution_count": 29,
      "outputs": [
        {
          "output_type": "execute_result",
          "data": {
            "text/html": [
              "<div>\n",
              "<style scoped>\n",
              "    .dataframe tbody tr th:only-of-type {\n",
              "        vertical-align: middle;\n",
              "    }\n",
              "\n",
              "    .dataframe tbody tr th {\n",
              "        vertical-align: top;\n",
              "    }\n",
              "\n",
              "    .dataframe thead th {\n",
              "        text-align: right;\n",
              "    }\n",
              "</style>\n",
              "<table border=\"1\" class=\"dataframe\">\n",
              "  <thead>\n",
              "    <tr style=\"text-align: right;\">\n",
              "      <th></th>\n",
              "      <th>col1</th>\n",
              "      <th>col2</th>\n",
              "      <th>col3</th>\n",
              "      <th>col4</th>\n",
              "      <th>col5</th>\n",
              "    </tr>\n",
              "  </thead>\n",
              "  <tbody>\n",
              "    <tr>\n",
              "      <th>A</th>\n",
              "      <td>-0.997305</td>\n",
              "      <td>-1.053092</td>\n",
              "      <td>0.509525</td>\n",
              "      <td>-0.836985</td>\n",
              "      <td>-0.996390</td>\n",
              "    </tr>\n",
              "    <tr>\n",
              "      <th>B</th>\n",
              "      <td>2.191992</td>\n",
              "      <td>-0.701763</td>\n",
              "      <td>-0.903795</td>\n",
              "      <td>-0.284347</td>\n",
              "      <td>0.976579</td>\n",
              "    </tr>\n",
              "    <tr>\n",
              "      <th>C</th>\n",
              "      <td>-2.065797</td>\n",
              "      <td>0.499444</td>\n",
              "      <td>-1.129099</td>\n",
              "      <td>1.287114</td>\n",
              "      <td>0.992394</td>\n",
              "    </tr>\n",
              "    <tr>\n",
              "      <th>D</th>\n",
              "      <td>-0.186913</td>\n",
              "      <td>-0.895196</td>\n",
              "      <td>-0.095326</td>\n",
              "      <td>0.880349</td>\n",
              "      <td>0.662752</td>\n",
              "    </tr>\n",
              "    <tr>\n",
              "      <th>E</th>\n",
              "      <td>0.030440</td>\n",
              "      <td>-0.629143</td>\n",
              "      <td>-0.284755</td>\n",
              "      <td>1.261394</td>\n",
              "      <td>0.628227</td>\n",
              "    </tr>\n",
              "  </tbody>\n",
              "</table>\n",
              "</div>"
            ],
            "text/plain": [
              "       col1      col2      col3      col4      col5\n",
              "A -0.997305 -1.053092  0.509525 -0.836985 -0.996390\n",
              "B  2.191992 -0.701763 -0.903795 -0.284347  0.976579\n",
              "C -2.065797  0.499444 -1.129099  1.287114  0.992394\n",
              "D -0.186913 -0.895196 -0.095326  0.880349  0.662752\n",
              "E  0.030440 -0.629143 -0.284755  1.261394  0.628227"
            ]
          },
          "metadata": {
            "tags": []
          },
          "execution_count": 29
        }
      ]
    },
    {
      "cell_type": "code",
      "metadata": {
        "colab": {
          "base_uri": "https://localhost:8080/",
          "height": 203
        },
        "id": "GwXEqTQAQQa7",
        "outputId": "c54bf9f3-3882-4417-d9a9-23b3cf4c1246"
      },
      "source": [
        "df.drop('col1', axis=1)"
      ],
      "execution_count": 30,
      "outputs": [
        {
          "output_type": "execute_result",
          "data": {
            "text/html": [
              "<div>\n",
              "<style scoped>\n",
              "    .dataframe tbody tr th:only-of-type {\n",
              "        vertical-align: middle;\n",
              "    }\n",
              "\n",
              "    .dataframe tbody tr th {\n",
              "        vertical-align: top;\n",
              "    }\n",
              "\n",
              "    .dataframe thead th {\n",
              "        text-align: right;\n",
              "    }\n",
              "</style>\n",
              "<table border=\"1\" class=\"dataframe\">\n",
              "  <thead>\n",
              "    <tr style=\"text-align: right;\">\n",
              "      <th></th>\n",
              "      <th>col2</th>\n",
              "      <th>col3</th>\n",
              "      <th>col4</th>\n",
              "      <th>col5</th>\n",
              "    </tr>\n",
              "  </thead>\n",
              "  <tbody>\n",
              "    <tr>\n",
              "      <th>A</th>\n",
              "      <td>-1.053092</td>\n",
              "      <td>0.509525</td>\n",
              "      <td>-0.836985</td>\n",
              "      <td>-0.996390</td>\n",
              "    </tr>\n",
              "    <tr>\n",
              "      <th>B</th>\n",
              "      <td>-0.701763</td>\n",
              "      <td>-0.903795</td>\n",
              "      <td>-0.284347</td>\n",
              "      <td>0.976579</td>\n",
              "    </tr>\n",
              "    <tr>\n",
              "      <th>C</th>\n",
              "      <td>0.499444</td>\n",
              "      <td>-1.129099</td>\n",
              "      <td>1.287114</td>\n",
              "      <td>0.992394</td>\n",
              "    </tr>\n",
              "    <tr>\n",
              "      <th>D</th>\n",
              "      <td>-0.895196</td>\n",
              "      <td>-0.095326</td>\n",
              "      <td>0.880349</td>\n",
              "      <td>0.662752</td>\n",
              "    </tr>\n",
              "    <tr>\n",
              "      <th>E</th>\n",
              "      <td>-0.629143</td>\n",
              "      <td>-0.284755</td>\n",
              "      <td>1.261394</td>\n",
              "      <td>0.628227</td>\n",
              "    </tr>\n",
              "  </tbody>\n",
              "</table>\n",
              "</div>"
            ],
            "text/plain": [
              "       col2      col3      col4      col5\n",
              "A -1.053092  0.509525 -0.836985 -0.996390\n",
              "B -0.701763 -0.903795 -0.284347  0.976579\n",
              "C  0.499444 -1.129099  1.287114  0.992394\n",
              "D -0.895196 -0.095326  0.880349  0.662752\n",
              "E -0.629143 -0.284755  1.261394  0.628227"
            ]
          },
          "metadata": {
            "tags": []
          },
          "execution_count": 30
        }
      ]
    },
    {
      "cell_type": "markdown",
      "metadata": {
        "id": "V0ib7GGBVtJY"
      },
      "source": [
        "# Selecting Entries"
      ]
    },
    {
      "cell_type": "code",
      "metadata": {
        "colab": {
          "base_uri": "https://localhost:8080/"
        },
        "id": "SGwZSZrOVwlN",
        "outputId": "de391e88-a35c-4db1-c22e-c62906767599"
      },
      "source": [
        "# We can select multiple rows of a Series by defining the multiple indices\n",
        "ser[['a','b']]"
      ],
      "execution_count": 31,
      "outputs": [
        {
          "output_type": "execute_result",
          "data": {
            "text/plain": [
              "a    1\n",
              "b    2\n",
              "dtype: int64"
            ]
          },
          "metadata": {
            "tags": []
          },
          "execution_count": 31
        }
      ]
    },
    {
      "cell_type": "code",
      "metadata": {
        "colab": {
          "base_uri": "https://localhost:8080/"
        },
        "id": "YkNSul2AV-6A",
        "outputId": "ff8411de-bf96-4726-a829-13e66822a1e1"
      },
      "source": [
        "ser['a']"
      ],
      "execution_count": 32,
      "outputs": [
        {
          "output_type": "execute_result",
          "data": {
            "text/plain": [
              "1"
            ]
          },
          "metadata": {
            "tags": []
          },
          "execution_count": 32
        }
      ]
    },
    {
      "cell_type": "code",
      "metadata": {
        "colab": {
          "base_uri": "https://localhost:8080/"
        },
        "id": "pl_H2hA4WF31",
        "outputId": "10e347e3-31a4-4407-993b-2261c3c33575"
      },
      "source": [
        "ser[ser > 3]"
      ],
      "execution_count": 33,
      "outputs": [
        {
          "output_type": "execute_result",
          "data": {
            "text/plain": [
              "d    4\n",
              "dtype: int64"
            ]
          },
          "metadata": {
            "tags": []
          },
          "execution_count": 33
        }
      ]
    },
    {
      "cell_type": "code",
      "metadata": {
        "colab": {
          "base_uri": "https://localhost:8080/"
        },
        "id": "UgkEUxeTWJ47",
        "outputId": "d65555a4-0c13-4c7c-c2a9-e96417e35a66"
      },
      "source": [
        "ser[ser > 3] = 10\n",
        "ser"
      ],
      "execution_count": 34,
      "outputs": [
        {
          "output_type": "execute_result",
          "data": {
            "text/plain": [
              "a     1\n",
              "b     2\n",
              "c     3\n",
              "d    10\n",
              "dtype: int64"
            ]
          },
          "metadata": {
            "tags": []
          },
          "execution_count": 34
        }
      ]
    },
    {
      "cell_type": "code",
      "metadata": {
        "colab": {
          "base_uri": "https://localhost:8080/",
          "height": 203
        },
        "id": "lgDVhcoOWXEu",
        "outputId": "4b6176f9-8325-4858-8c3b-bcfbdfa9fd32"
      },
      "source": [
        "# With DataFrames for accessing columns\n",
        "df[['col1', 'col2']]"
      ],
      "execution_count": 35,
      "outputs": [
        {
          "output_type": "execute_result",
          "data": {
            "text/html": [
              "<div>\n",
              "<style scoped>\n",
              "    .dataframe tbody tr th:only-of-type {\n",
              "        vertical-align: middle;\n",
              "    }\n",
              "\n",
              "    .dataframe tbody tr th {\n",
              "        vertical-align: top;\n",
              "    }\n",
              "\n",
              "    .dataframe thead th {\n",
              "        text-align: right;\n",
              "    }\n",
              "</style>\n",
              "<table border=\"1\" class=\"dataframe\">\n",
              "  <thead>\n",
              "    <tr style=\"text-align: right;\">\n",
              "      <th></th>\n",
              "      <th>col1</th>\n",
              "      <th>col2</th>\n",
              "    </tr>\n",
              "  </thead>\n",
              "  <tbody>\n",
              "    <tr>\n",
              "      <th>A</th>\n",
              "      <td>-0.997305</td>\n",
              "      <td>-1.053092</td>\n",
              "    </tr>\n",
              "    <tr>\n",
              "      <th>B</th>\n",
              "      <td>2.191992</td>\n",
              "      <td>-0.701763</td>\n",
              "    </tr>\n",
              "    <tr>\n",
              "      <th>C</th>\n",
              "      <td>-2.065797</td>\n",
              "      <td>0.499444</td>\n",
              "    </tr>\n",
              "    <tr>\n",
              "      <th>D</th>\n",
              "      <td>-0.186913</td>\n",
              "      <td>-0.895196</td>\n",
              "    </tr>\n",
              "    <tr>\n",
              "      <th>E</th>\n",
              "      <td>0.030440</td>\n",
              "      <td>-0.629143</td>\n",
              "    </tr>\n",
              "  </tbody>\n",
              "</table>\n",
              "</div>"
            ],
            "text/plain": [
              "       col1      col2\n",
              "A -0.997305 -1.053092\n",
              "B  2.191992 -0.701763\n",
              "C -2.065797  0.499444\n",
              "D -0.186913 -0.895196\n",
              "E  0.030440 -0.629143"
            ]
          },
          "metadata": {
            "tags": []
          },
          "execution_count": 35
        }
      ]
    },
    {
      "cell_type": "code",
      "metadata": {
        "colab": {
          "base_uri": "https://localhost:8080/",
          "height": 203
        },
        "id": "ZhM9C1dUW1qn",
        "outputId": "0596876d-4570-4bab-8479-94a66472458b"
      },
      "source": [
        "df[['col1', 'col2']] = 3\n",
        "df"
      ],
      "execution_count": 36,
      "outputs": [
        {
          "output_type": "execute_result",
          "data": {
            "text/html": [
              "<div>\n",
              "<style scoped>\n",
              "    .dataframe tbody tr th:only-of-type {\n",
              "        vertical-align: middle;\n",
              "    }\n",
              "\n",
              "    .dataframe tbody tr th {\n",
              "        vertical-align: top;\n",
              "    }\n",
              "\n",
              "    .dataframe thead th {\n",
              "        text-align: right;\n",
              "    }\n",
              "</style>\n",
              "<table border=\"1\" class=\"dataframe\">\n",
              "  <thead>\n",
              "    <tr style=\"text-align: right;\">\n",
              "      <th></th>\n",
              "      <th>col1</th>\n",
              "      <th>col2</th>\n",
              "      <th>col3</th>\n",
              "      <th>col4</th>\n",
              "      <th>col5</th>\n",
              "    </tr>\n",
              "  </thead>\n",
              "  <tbody>\n",
              "    <tr>\n",
              "      <th>A</th>\n",
              "      <td>3.0</td>\n",
              "      <td>3.0</td>\n",
              "      <td>0.509525</td>\n",
              "      <td>-0.836985</td>\n",
              "      <td>-0.996390</td>\n",
              "    </tr>\n",
              "    <tr>\n",
              "      <th>B</th>\n",
              "      <td>3.0</td>\n",
              "      <td>3.0</td>\n",
              "      <td>-0.903795</td>\n",
              "      <td>-0.284347</td>\n",
              "      <td>0.976579</td>\n",
              "    </tr>\n",
              "    <tr>\n",
              "      <th>C</th>\n",
              "      <td>3.0</td>\n",
              "      <td>3.0</td>\n",
              "      <td>-1.129099</td>\n",
              "      <td>1.287114</td>\n",
              "      <td>0.992394</td>\n",
              "    </tr>\n",
              "    <tr>\n",
              "      <th>D</th>\n",
              "      <td>3.0</td>\n",
              "      <td>3.0</td>\n",
              "      <td>-0.095326</td>\n",
              "      <td>0.880349</td>\n",
              "      <td>0.662752</td>\n",
              "    </tr>\n",
              "    <tr>\n",
              "      <th>E</th>\n",
              "      <td>3.0</td>\n",
              "      <td>3.0</td>\n",
              "      <td>-0.284755</td>\n",
              "      <td>1.261394</td>\n",
              "      <td>0.628227</td>\n",
              "    </tr>\n",
              "  </tbody>\n",
              "</table>\n",
              "</div>"
            ],
            "text/plain": [
              "   col1  col2      col3      col4      col5\n",
              "A   3.0   3.0  0.509525 -0.836985 -0.996390\n",
              "B   3.0   3.0 -0.903795 -0.284347  0.976579\n",
              "C   3.0   3.0 -1.129099  1.287114  0.992394\n",
              "D   3.0   3.0 -0.095326  0.880349  0.662752\n",
              "E   3.0   3.0 -0.284755  1.261394  0.628227"
            ]
          },
          "metadata": {
            "tags": []
          },
          "execution_count": 36
        }
      ]
    },
    {
      "cell_type": "code",
      "metadata": {
        "colab": {
          "base_uri": "https://localhost:8080/",
          "height": 203
        },
        "id": "kdmB0S2iXB78",
        "outputId": "d2ddd69a-cb93-4fb4-a6c5-3106e8fbf180"
      },
      "source": [
        "df[df > 0]"
      ],
      "execution_count": 37,
      "outputs": [
        {
          "output_type": "execute_result",
          "data": {
            "text/html": [
              "<div>\n",
              "<style scoped>\n",
              "    .dataframe tbody tr th:only-of-type {\n",
              "        vertical-align: middle;\n",
              "    }\n",
              "\n",
              "    .dataframe tbody tr th {\n",
              "        vertical-align: top;\n",
              "    }\n",
              "\n",
              "    .dataframe thead th {\n",
              "        text-align: right;\n",
              "    }\n",
              "</style>\n",
              "<table border=\"1\" class=\"dataframe\">\n",
              "  <thead>\n",
              "    <tr style=\"text-align: right;\">\n",
              "      <th></th>\n",
              "      <th>col1</th>\n",
              "      <th>col2</th>\n",
              "      <th>col3</th>\n",
              "      <th>col4</th>\n",
              "      <th>col5</th>\n",
              "    </tr>\n",
              "  </thead>\n",
              "  <tbody>\n",
              "    <tr>\n",
              "      <th>A</th>\n",
              "      <td>3.0</td>\n",
              "      <td>3.0</td>\n",
              "      <td>0.509525</td>\n",
              "      <td>NaN</td>\n",
              "      <td>NaN</td>\n",
              "    </tr>\n",
              "    <tr>\n",
              "      <th>B</th>\n",
              "      <td>3.0</td>\n",
              "      <td>3.0</td>\n",
              "      <td>NaN</td>\n",
              "      <td>NaN</td>\n",
              "      <td>0.976579</td>\n",
              "    </tr>\n",
              "    <tr>\n",
              "      <th>C</th>\n",
              "      <td>3.0</td>\n",
              "      <td>3.0</td>\n",
              "      <td>NaN</td>\n",
              "      <td>1.287114</td>\n",
              "      <td>0.992394</td>\n",
              "    </tr>\n",
              "    <tr>\n",
              "      <th>D</th>\n",
              "      <td>3.0</td>\n",
              "      <td>3.0</td>\n",
              "      <td>NaN</td>\n",
              "      <td>0.880349</td>\n",
              "      <td>0.662752</td>\n",
              "    </tr>\n",
              "    <tr>\n",
              "      <th>E</th>\n",
              "      <td>3.0</td>\n",
              "      <td>3.0</td>\n",
              "      <td>NaN</td>\n",
              "      <td>1.261394</td>\n",
              "      <td>0.628227</td>\n",
              "    </tr>\n",
              "  </tbody>\n",
              "</table>\n",
              "</div>"
            ],
            "text/plain": [
              "   col1  col2      col3      col4      col5\n",
              "A   3.0   3.0  0.509525       NaN       NaN\n",
              "B   3.0   3.0       NaN       NaN  0.976579\n",
              "C   3.0   3.0       NaN  1.287114  0.992394\n",
              "D   3.0   3.0       NaN  0.880349  0.662752\n",
              "E   3.0   3.0       NaN  1.261394  0.628227"
            ]
          },
          "metadata": {
            "tags": []
          },
          "execution_count": 37
        }
      ]
    },
    {
      "cell_type": "markdown",
      "metadata": {
        "id": "I1rrUG4cR143"
      },
      "source": [
        "# Rank and Sort"
      ]
    },
    {
      "cell_type": "code",
      "metadata": {
        "colab": {
          "base_uri": "https://localhost:8080/"
        },
        "id": "oo4voHN-R4xd",
        "outputId": "d7847dea-53f7-47c9-9fb7-85c2b1ecbea8"
      },
      "source": [
        "ser_2 = pd.Series(np.random.randn(10), index=range(10))\n",
        "ser_2"
      ],
      "execution_count": 38,
      "outputs": [
        {
          "output_type": "execute_result",
          "data": {
            "text/plain": [
              "0    0.758496\n",
              "1   -1.267116\n",
              "2   -0.308777\n",
              "3   -0.262511\n",
              "4    1.960871\n",
              "5    0.434932\n",
              "6   -0.837638\n",
              "7    0.763463\n",
              "8    1.319084\n",
              "9    0.342013\n",
              "dtype: float64"
            ]
          },
          "metadata": {
            "tags": []
          },
          "execution_count": 38
        }
      ]
    },
    {
      "cell_type": "code",
      "metadata": {
        "colab": {
          "base_uri": "https://localhost:8080/"
        },
        "id": "cMqCb9upSHzy",
        "outputId": "618996ad-40f8-46c3-b547-43cd56659661"
      },
      "source": [
        "# Finding the rank\n",
        "ser_2.rank()"
      ],
      "execution_count": 39,
      "outputs": [
        {
          "output_type": "execute_result",
          "data": {
            "text/plain": [
              "0     7.0\n",
              "1     1.0\n",
              "2     3.0\n",
              "3     4.0\n",
              "4    10.0\n",
              "5     6.0\n",
              "6     2.0\n",
              "7     8.0\n",
              "8     9.0\n",
              "9     5.0\n",
              "dtype: float64"
            ]
          },
          "metadata": {
            "tags": []
          },
          "execution_count": 39
        }
      ]
    },
    {
      "cell_type": "code",
      "metadata": {
        "colab": {
          "base_uri": "https://localhost:8080/"
        },
        "id": "LuV7W-jESL00",
        "outputId": "7fa905b0-c421-46a0-f1fd-02a2d7e55367"
      },
      "source": [
        "# Sorting\n",
        "ser_2.sort_values()"
      ],
      "execution_count": 40,
      "outputs": [
        {
          "output_type": "execute_result",
          "data": {
            "text/plain": [
              "1   -1.267116\n",
              "6   -0.837638\n",
              "2   -0.308777\n",
              "3   -0.262511\n",
              "9    0.342013\n",
              "5    0.434932\n",
              "0    0.758496\n",
              "7    0.763463\n",
              "8    1.319084\n",
              "4    1.960871\n",
              "dtype: float64"
            ]
          },
          "metadata": {
            "tags": []
          },
          "execution_count": 40
        }
      ]
    },
    {
      "cell_type": "markdown",
      "metadata": {
        "id": "Bo5oFm2yV4vj"
      },
      "source": [
        "# Youtube Videos in Colab for Statuistics"
      ]
    },
    {
      "cell_type": "code",
      "metadata": {
        "id": "qXscJbmDWMuN"
      },
      "source": [
        "from IPython.display import YouTubeVideo"
      ],
      "execution_count": 41,
      "outputs": []
    },
    {
      "cell_type": "code",
      "metadata": {
        "colab": {
          "base_uri": "https://localhost:8080/",
          "height": 320
        },
        "id": "OnuB-10oWRND",
        "outputId": "fc3c2cbc-5d8c-4ce7-bacb-2b35c895963f"
      },
      "source": [
        "YouTubeVideo('qtaqvPAeEJY')"
      ],
      "execution_count": 42,
      "outputs": [
        {
          "output_type": "execute_result",
          "data": {
            "text/html": [
              "\n",
              "        <iframe\n",
              "            width=\"400\"\n",
              "            height=\"300\"\n",
              "            src=\"https://www.youtube.com/embed/qtaqvPAeEJY\"\n",
              "            frameborder=\"0\"\n",
              "            allowfullscreen\n",
              "        ></iframe>\n",
              "        "
            ],
            "text/plain": [
              "<IPython.lib.display.YouTubeVideo at 0x7f71f1c382d0>"
            ],
            "image/jpeg": "[encoded data removed]"
          },
          "metadata": {
            "tags": []
          },
          "execution_count": 42
        }
      ]
    },
    {
      "cell_type": "markdown",
      "metadata": {
        "id": "L9p9q0nSZ7DX"
      },
      "source": [
        "# Missing values in DatFrame and Series"
      ]
    },
    {
      "cell_type": "code",
      "metadata": {
        "id": "R-VRYEqhaB50"
      },
      "source": [
        "series = pd.Series([1, 2, 4, 5, np.nan])\n",
        "df = pd.DataFrame([[1, 2, 3], [34, np.nan, 89], [np.nan, np.nan, np.nan]])"
      ],
      "execution_count": 43,
      "outputs": []
    },
    {
      "cell_type": "code",
      "metadata": {
        "colab": {
          "base_uri": "https://localhost:8080/"
        },
        "id": "UyxJZqvWaVNK",
        "outputId": "efd8a909-37d9-4aec-bf07-fd357c454dc6"
      },
      "source": [
        "series"
      ],
      "execution_count": 44,
      "outputs": [
        {
          "output_type": "execute_result",
          "data": {
            "text/plain": [
              "0    1.0\n",
              "1    2.0\n",
              "2    4.0\n",
              "3    5.0\n",
              "4    NaN\n",
              "dtype: float64"
            ]
          },
          "metadata": {
            "tags": []
          },
          "execution_count": 44
        }
      ]
    },
    {
      "cell_type": "code",
      "metadata": {
        "colab": {
          "base_uri": "https://localhost:8080/"
        },
        "id": "vXOl4w4sakfV",
        "outputId": "9538c04c-b975-49dd-8d81-995d0ebec134"
      },
      "source": [
        "# Dropping the missing values using the pandas inbuilt method\n",
        "series.dropna()"
      ],
      "execution_count": 45,
      "outputs": [
        {
          "output_type": "execute_result",
          "data": {
            "text/plain": [
              "0    1.0\n",
              "1    2.0\n",
              "2    4.0\n",
              "3    5.0\n",
              "dtype: float64"
            ]
          },
          "metadata": {
            "tags": []
          },
          "execution_count": 45
        }
      ]
    },
    {
      "cell_type": "code",
      "metadata": {
        "colab": {
          "base_uri": "https://localhost:8080/",
          "height": 142
        },
        "id": "jljypFm-azR0",
        "outputId": "647855ac-39b9-4047-f815-d62f4be8c183"
      },
      "source": [
        "df"
      ],
      "execution_count": 46,
      "outputs": [
        {
          "output_type": "execute_result",
          "data": {
            "text/html": [
              "<div>\n",
              "<style scoped>\n",
              "    .dataframe tbody tr th:only-of-type {\n",
              "        vertical-align: middle;\n",
              "    }\n",
              "\n",
              "    .dataframe tbody tr th {\n",
              "        vertical-align: top;\n",
              "    }\n",
              "\n",
              "    .dataframe thead th {\n",
              "        text-align: right;\n",
              "    }\n",
              "</style>\n",
              "<table border=\"1\" class=\"dataframe\">\n",
              "  <thead>\n",
              "    <tr style=\"text-align: right;\">\n",
              "      <th></th>\n",
              "      <th>0</th>\n",
              "      <th>1</th>\n",
              "      <th>2</th>\n",
              "    </tr>\n",
              "  </thead>\n",
              "  <tbody>\n",
              "    <tr>\n",
              "      <th>0</th>\n",
              "      <td>1.0</td>\n",
              "      <td>2.0</td>\n",
              "      <td>3.0</td>\n",
              "    </tr>\n",
              "    <tr>\n",
              "      <th>1</th>\n",
              "      <td>34.0</td>\n",
              "      <td>NaN</td>\n",
              "      <td>89.0</td>\n",
              "    </tr>\n",
              "    <tr>\n",
              "      <th>2</th>\n",
              "      <td>NaN</td>\n",
              "      <td>NaN</td>\n",
              "      <td>NaN</td>\n",
              "    </tr>\n",
              "  </tbody>\n",
              "</table>\n",
              "</div>"
            ],
            "text/plain": [
              "      0    1     2\n",
              "0   1.0  2.0   3.0\n",
              "1  34.0  NaN  89.0\n",
              "2   NaN  NaN   NaN"
            ]
          },
          "metadata": {
            "tags": []
          },
          "execution_count": 46
        }
      ]
    },
    {
      "cell_type": "code",
      "metadata": {
        "colab": {
          "base_uri": "https://localhost:8080/",
          "height": 80
        },
        "id": "FPR3aTPca01c",
        "outputId": "e8d4933f-70a3-40aa-8eb3-5813c61b9076"
      },
      "source": [
        "# Dropping the missing values using inbuilt method\n",
        "df.dropna()"
      ],
      "execution_count": 47,
      "outputs": [
        {
          "output_type": "execute_result",
          "data": {
            "text/html": [
              "<div>\n",
              "<style scoped>\n",
              "    .dataframe tbody tr th:only-of-type {\n",
              "        vertical-align: middle;\n",
              "    }\n",
              "\n",
              "    .dataframe tbody tr th {\n",
              "        vertical-align: top;\n",
              "    }\n",
              "\n",
              "    .dataframe thead th {\n",
              "        text-align: right;\n",
              "    }\n",
              "</style>\n",
              "<table border=\"1\" class=\"dataframe\">\n",
              "  <thead>\n",
              "    <tr style=\"text-align: right;\">\n",
              "      <th></th>\n",
              "      <th>0</th>\n",
              "      <th>1</th>\n",
              "      <th>2</th>\n",
              "    </tr>\n",
              "  </thead>\n",
              "  <tbody>\n",
              "    <tr>\n",
              "      <th>0</th>\n",
              "      <td>1.0</td>\n",
              "      <td>2.0</td>\n",
              "      <td>3.0</td>\n",
              "    </tr>\n",
              "  </tbody>\n",
              "</table>\n",
              "</div>"
            ],
            "text/plain": [
              "     0    1    2\n",
              "0  1.0  2.0  3.0"
            ]
          },
          "metadata": {
            "tags": []
          },
          "execution_count": 47
        }
      ]
    },
    {
      "cell_type": "code",
      "metadata": {
        "colab": {
          "base_uri": "https://localhost:8080/",
          "height": 111
        },
        "id": "m6rGKBPwbWZI",
        "outputId": "24b8bb93-9c63-4d86-fae6-011bb4ddb7e4"
      },
      "source": [
        "# Choosing the dropping method\n",
        "df.dropna(how='all')"
      ],
      "execution_count": 48,
      "outputs": [
        {
          "output_type": "execute_result",
          "data": {
            "text/html": [
              "<div>\n",
              "<style scoped>\n",
              "    .dataframe tbody tr th:only-of-type {\n",
              "        vertical-align: middle;\n",
              "    }\n",
              "\n",
              "    .dataframe tbody tr th {\n",
              "        vertical-align: top;\n",
              "    }\n",
              "\n",
              "    .dataframe thead th {\n",
              "        text-align: right;\n",
              "    }\n",
              "</style>\n",
              "<table border=\"1\" class=\"dataframe\">\n",
              "  <thead>\n",
              "    <tr style=\"text-align: right;\">\n",
              "      <th></th>\n",
              "      <th>0</th>\n",
              "      <th>1</th>\n",
              "      <th>2</th>\n",
              "    </tr>\n",
              "  </thead>\n",
              "  <tbody>\n",
              "    <tr>\n",
              "      <th>0</th>\n",
              "      <td>1.0</td>\n",
              "      <td>2.0</td>\n",
              "      <td>3.0</td>\n",
              "    </tr>\n",
              "    <tr>\n",
              "      <th>1</th>\n",
              "      <td>34.0</td>\n",
              "      <td>NaN</td>\n",
              "      <td>89.0</td>\n",
              "    </tr>\n",
              "  </tbody>\n",
              "</table>\n",
              "</div>"
            ],
            "text/plain": [
              "      0    1     2\n",
              "0   1.0  2.0   3.0\n",
              "1  34.0  NaN  89.0"
            ]
          },
          "metadata": {
            "tags": []
          },
          "execution_count": 48
        }
      ]
    },
    {
      "cell_type": "code",
      "metadata": {
        "colab": {
          "base_uri": "https://localhost:8080/",
          "height": 111
        },
        "id": "U-ugYKCTb8-U",
        "outputId": "94520c54-ec38-410f-9c25-d5ebc0badf7b"
      },
      "source": [
        "# Defining a threshold of number of datapoints which is not nan\n",
        "df.dropna(thresh=2)"
      ],
      "execution_count": 49,
      "outputs": [
        {
          "output_type": "execute_result",
          "data": {
            "text/html": [
              "<div>\n",
              "<style scoped>\n",
              "    .dataframe tbody tr th:only-of-type {\n",
              "        vertical-align: middle;\n",
              "    }\n",
              "\n",
              "    .dataframe tbody tr th {\n",
              "        vertical-align: top;\n",
              "    }\n",
              "\n",
              "    .dataframe thead th {\n",
              "        text-align: right;\n",
              "    }\n",
              "</style>\n",
              "<table border=\"1\" class=\"dataframe\">\n",
              "  <thead>\n",
              "    <tr style=\"text-align: right;\">\n",
              "      <th></th>\n",
              "      <th>0</th>\n",
              "      <th>1</th>\n",
              "      <th>2</th>\n",
              "    </tr>\n",
              "  </thead>\n",
              "  <tbody>\n",
              "    <tr>\n",
              "      <th>0</th>\n",
              "      <td>1.0</td>\n",
              "      <td>2.0</td>\n",
              "      <td>3.0</td>\n",
              "    </tr>\n",
              "    <tr>\n",
              "      <th>1</th>\n",
              "      <td>34.0</td>\n",
              "      <td>NaN</td>\n",
              "      <td>89.0</td>\n",
              "    </tr>\n",
              "  </tbody>\n",
              "</table>\n",
              "</div>"
            ],
            "text/plain": [
              "      0    1     2\n",
              "0   1.0  2.0   3.0\n",
              "1  34.0  NaN  89.0"
            ]
          },
          "metadata": {
            "tags": []
          },
          "execution_count": 49
        }
      ]
    },
    {
      "cell_type": "markdown",
      "metadata": {
        "id": "yXW1PJDFmLM9"
      },
      "source": [
        "Filling the missing values"
      ]
    },
    {
      "cell_type": "code",
      "metadata": {
        "colab": {
          "base_uri": "https://localhost:8080/",
          "height": 142
        },
        "id": "u4mAElBRmNUE",
        "outputId": "08474f84-7f71-4734-b933-5362d4a18e2f"
      },
      "source": [
        "df"
      ],
      "execution_count": 50,
      "outputs": [
        {
          "output_type": "execute_result",
          "data": {
            "text/html": [
              "<div>\n",
              "<style scoped>\n",
              "    .dataframe tbody tr th:only-of-type {\n",
              "        vertical-align: middle;\n",
              "    }\n",
              "\n",
              "    .dataframe tbody tr th {\n",
              "        vertical-align: top;\n",
              "    }\n",
              "\n",
              "    .dataframe thead th {\n",
              "        text-align: right;\n",
              "    }\n",
              "</style>\n",
              "<table border=\"1\" class=\"dataframe\">\n",
              "  <thead>\n",
              "    <tr style=\"text-align: right;\">\n",
              "      <th></th>\n",
              "      <th>0</th>\n",
              "      <th>1</th>\n",
              "      <th>2</th>\n",
              "    </tr>\n",
              "  </thead>\n",
              "  <tbody>\n",
              "    <tr>\n",
              "      <th>0</th>\n",
              "      <td>1.0</td>\n",
              "      <td>2.0</td>\n",
              "      <td>3.0</td>\n",
              "    </tr>\n",
              "    <tr>\n",
              "      <th>1</th>\n",
              "      <td>34.0</td>\n",
              "      <td>NaN</td>\n",
              "      <td>89.0</td>\n",
              "    </tr>\n",
              "    <tr>\n",
              "      <th>2</th>\n",
              "      <td>NaN</td>\n",
              "      <td>NaN</td>\n",
              "      <td>NaN</td>\n",
              "    </tr>\n",
              "  </tbody>\n",
              "</table>\n",
              "</div>"
            ],
            "text/plain": [
              "      0    1     2\n",
              "0   1.0  2.0   3.0\n",
              "1  34.0  NaN  89.0\n",
              "2   NaN  NaN   NaN"
            ]
          },
          "metadata": {
            "tags": []
          },
          "execution_count": 50
        }
      ]
    },
    {
      "cell_type": "code",
      "metadata": {
        "colab": {
          "base_uri": "https://localhost:8080/",
          "height": 142
        },
        "id": "WejVtPJ3mSgK",
        "outputId": "d64f5bfe-ce3f-4bcc-d952-b70e2a8c3c8e"
      },
      "source": [
        "# Filling with a unique value\n",
        "df.fillna(0)"
      ],
      "execution_count": 51,
      "outputs": [
        {
          "output_type": "execute_result",
          "data": {
            "text/html": [
              "<div>\n",
              "<style scoped>\n",
              "    .dataframe tbody tr th:only-of-type {\n",
              "        vertical-align: middle;\n",
              "    }\n",
              "\n",
              "    .dataframe tbody tr th {\n",
              "        vertical-align: top;\n",
              "    }\n",
              "\n",
              "    .dataframe thead th {\n",
              "        text-align: right;\n",
              "    }\n",
              "</style>\n",
              "<table border=\"1\" class=\"dataframe\">\n",
              "  <thead>\n",
              "    <tr style=\"text-align: right;\">\n",
              "      <th></th>\n",
              "      <th>0</th>\n",
              "      <th>1</th>\n",
              "      <th>2</th>\n",
              "    </tr>\n",
              "  </thead>\n",
              "  <tbody>\n",
              "    <tr>\n",
              "      <th>0</th>\n",
              "      <td>1.0</td>\n",
              "      <td>2.0</td>\n",
              "      <td>3.0</td>\n",
              "    </tr>\n",
              "    <tr>\n",
              "      <th>1</th>\n",
              "      <td>34.0</td>\n",
              "      <td>0.0</td>\n",
              "      <td>89.0</td>\n",
              "    </tr>\n",
              "    <tr>\n",
              "      <th>2</th>\n",
              "      <td>0.0</td>\n",
              "      <td>0.0</td>\n",
              "      <td>0.0</td>\n",
              "    </tr>\n",
              "  </tbody>\n",
              "</table>\n",
              "</div>"
            ],
            "text/plain": [
              "      0    1     2\n",
              "0   1.0  2.0   3.0\n",
              "1  34.0  0.0  89.0\n",
              "2   0.0  0.0   0.0"
            ]
          },
          "metadata": {
            "tags": []
          },
          "execution_count": 51
        }
      ]
    },
    {
      "cell_type": "code",
      "metadata": {
        "colab": {
          "base_uri": "https://localhost:8080/",
          "height": 142
        },
        "id": "Dd1SrDv2maVp",
        "outputId": "e2e01f30-26ad-42bf-b66b-161c0a327c8e"
      },
      "source": [
        "# Filling with different values\n",
        "df.fillna({0: 0, 1: 1, 2: 2})   # Use inplace to make this change permanant"
      ],
      "execution_count": 52,
      "outputs": [
        {
          "output_type": "execute_result",
          "data": {
            "text/html": [
              "<div>\n",
              "<style scoped>\n",
              "    .dataframe tbody tr th:only-of-type {\n",
              "        vertical-align: middle;\n",
              "    }\n",
              "\n",
              "    .dataframe tbody tr th {\n",
              "        vertical-align: top;\n",
              "    }\n",
              "\n",
              "    .dataframe thead th {\n",
              "        text-align: right;\n",
              "    }\n",
              "</style>\n",
              "<table border=\"1\" class=\"dataframe\">\n",
              "  <thead>\n",
              "    <tr style=\"text-align: right;\">\n",
              "      <th></th>\n",
              "      <th>0</th>\n",
              "      <th>1</th>\n",
              "      <th>2</th>\n",
              "    </tr>\n",
              "  </thead>\n",
              "  <tbody>\n",
              "    <tr>\n",
              "      <th>0</th>\n",
              "      <td>1.0</td>\n",
              "      <td>2.0</td>\n",
              "      <td>3.0</td>\n",
              "    </tr>\n",
              "    <tr>\n",
              "      <th>1</th>\n",
              "      <td>34.0</td>\n",
              "      <td>1.0</td>\n",
              "      <td>89.0</td>\n",
              "    </tr>\n",
              "    <tr>\n",
              "      <th>2</th>\n",
              "      <td>0.0</td>\n",
              "      <td>1.0</td>\n",
              "      <td>2.0</td>\n",
              "    </tr>\n",
              "  </tbody>\n",
              "</table>\n",
              "</div>"
            ],
            "text/plain": [
              "      0    1     2\n",
              "0   1.0  2.0   3.0\n",
              "1  34.0  1.0  89.0\n",
              "2   0.0  1.0   2.0"
            ]
          },
          "metadata": {
            "tags": []
          },
          "execution_count": 52
        }
      ]
    },
    {
      "cell_type": "markdown",
      "metadata": {
        "id": "Rl8qXAE_tKVC"
      },
      "source": [
        "# Index Heirarchy"
      ]
    },
    {
      "cell_type": "code",
      "metadata": {
        "colab": {
          "base_uri": "https://localhost:8080/"
        },
        "id": "YN9zp2brtN4a",
        "outputId": "be9da3b4-afdb-4dfb-9e31-289f18f85494"
      },
      "source": [
        "new_ser = pd.Series(np.random.randn(6), index=[[1, 1, 1, 2, 2, 2], ['a', 'b', 'c', 'a', 'b', 'c']])\n",
        "new_ser"
      ],
      "execution_count": 53,
      "outputs": [
        {
          "output_type": "execute_result",
          "data": {
            "text/plain": [
              "1  a   -0.773832\n",
              "   b   -0.448991\n",
              "   c    0.741846\n",
              "2  a    0.302234\n",
              "   b   -1.134448\n",
              "   c    1.480368\n",
              "dtype: float64"
            ]
          },
          "metadata": {
            "tags": []
          },
          "execution_count": 53
        }
      ]
    },
    {
      "cell_type": "code",
      "metadata": {
        "colab": {
          "base_uri": "https://localhost:8080/"
        },
        "id": "93YYGI15tnxK",
        "outputId": "f407c33e-d8a6-4c92-9588-4b71071ae221"
      },
      "source": [
        "new_ser[1]['b']"
      ],
      "execution_count": 54,
      "outputs": [
        {
          "output_type": "execute_result",
          "data": {
            "text/plain": [
              "-0.44899088417359656"
            ]
          },
          "metadata": {
            "tags": []
          },
          "execution_count": 54
        }
      ]
    },
    {
      "cell_type": "code",
      "metadata": {
        "colab": {
          "base_uri": "https://localhost:8080/"
        },
        "id": "kefShJ5gL8wq",
        "outputId": "32cc29fb-409c-4225-cb2a-361e61ce34ad"
      },
      "source": [
        "new_ser[1]"
      ],
      "execution_count": 55,
      "outputs": [
        {
          "output_type": "execute_result",
          "data": {
            "text/plain": [
              "a   -0.773832\n",
              "b   -0.448991\n",
              "c    0.741846\n",
              "dtype: float64"
            ]
          },
          "metadata": {
            "tags": []
          },
          "execution_count": 55
        }
      ]
    },
    {
      "cell_type": "code",
      "metadata": {
        "colab": {
          "base_uri": "https://localhost:8080/"
        },
        "id": "Uq4suf73MDdk",
        "outputId": "a115427a-cf88-43cb-bb65-4ae6969f1187"
      },
      "source": [
        "new_ser[:, 'b']"
      ],
      "execution_count": 59,
      "outputs": [
        {
          "output_type": "execute_result",
          "data": {
            "text/plain": [
              "1   -0.448991\n",
              "2   -1.134448\n",
              "dtype: float64"
            ]
          },
          "metadata": {
            "tags": []
          },
          "execution_count": 59
        }
      ]
    },
    {
      "cell_type": "code",
      "metadata": {
        "colab": {
          "base_uri": "https://localhost:8080/",
          "height": 111
        },
        "id": "2viMh3CWMUcV",
        "outputId": "895fe347-5cc9-49c3-aa3c-2d8e9bcbfa9f"
      },
      "source": [
        "# Converting such serieses with index herirarchy as dataframes\n",
        "df = new_ser.unstack()\n",
        "df"
      ],
      "execution_count": 60,
      "outputs": [
        {
          "output_type": "execute_result",
          "data": {
            "text/html": [
              "<div>\n",
              "<style scoped>\n",
              "    .dataframe tbody tr th:only-of-type {\n",
              "        vertical-align: middle;\n",
              "    }\n",
              "\n",
              "    .dataframe tbody tr th {\n",
              "        vertical-align: top;\n",
              "    }\n",
              "\n",
              "    .dataframe thead th {\n",
              "        text-align: right;\n",
              "    }\n",
              "</style>\n",
              "<table border=\"1\" class=\"dataframe\">\n",
              "  <thead>\n",
              "    <tr style=\"text-align: right;\">\n",
              "      <th></th>\n",
              "      <th>a</th>\n",
              "      <th>b</th>\n",
              "      <th>c</th>\n",
              "    </tr>\n",
              "  </thead>\n",
              "  <tbody>\n",
              "    <tr>\n",
              "      <th>1</th>\n",
              "      <td>-0.773832</td>\n",
              "      <td>-0.448991</td>\n",
              "      <td>0.741846</td>\n",
              "    </tr>\n",
              "    <tr>\n",
              "      <th>2</th>\n",
              "      <td>0.302234</td>\n",
              "      <td>-1.134448</td>\n",
              "      <td>1.480368</td>\n",
              "    </tr>\n",
              "  </tbody>\n",
              "</table>\n",
              "</div>"
            ],
            "text/plain": [
              "          a         b         c\n",
              "1 -0.773832 -0.448991  0.741846\n",
              "2  0.302234 -1.134448  1.480368"
            ]
          },
          "metadata": {
            "tags": []
          },
          "execution_count": 60
        }
      ]
    },
    {
      "cell_type": "code",
      "metadata": {
        "colab": {
          "base_uri": "https://localhost:8080/",
          "height": 142
        },
        "id": "zzQOCQO7N_7R",
        "outputId": "efcec37c-d696-4cf6-e9ec-bc3dfeb408d9"
      },
      "source": [
        "# Naming columns and indexes\n",
        "df.index.names = ['Index']\n",
        "df.columns.names = ['column']\n",
        "df"
      ],
      "execution_count": 62,
      "outputs": [
        {
          "output_type": "execute_result",
          "data": {
            "text/html": [
              "<div>\n",
              "<style scoped>\n",
              "    .dataframe tbody tr th:only-of-type {\n",
              "        vertical-align: middle;\n",
              "    }\n",
              "\n",
              "    .dataframe tbody tr th {\n",
              "        vertical-align: top;\n",
              "    }\n",
              "\n",
              "    .dataframe thead th {\n",
              "        text-align: right;\n",
              "    }\n",
              "</style>\n",
              "<table border=\"1\" class=\"dataframe\">\n",
              "  <thead>\n",
              "    <tr style=\"text-align: right;\">\n",
              "      <th>column</th>\n",
              "      <th>a</th>\n",
              "      <th>b</th>\n",
              "      <th>c</th>\n",
              "    </tr>\n",
              "    <tr>\n",
              "      <th>Index</th>\n",
              "      <th></th>\n",
              "      <th></th>\n",
              "      <th></th>\n",
              "    </tr>\n",
              "  </thead>\n",
              "  <tbody>\n",
              "    <tr>\n",
              "      <th>1</th>\n",
              "      <td>-0.773832</td>\n",
              "      <td>-0.448991</td>\n",
              "      <td>0.741846</td>\n",
              "    </tr>\n",
              "    <tr>\n",
              "      <th>2</th>\n",
              "      <td>0.302234</td>\n",
              "      <td>-1.134448</td>\n",
              "      <td>1.480368</td>\n",
              "    </tr>\n",
              "  </tbody>\n",
              "</table>\n",
              "</div>"
            ],
            "text/plain": [
              "column         a         b         c\n",
              "Index                               \n",
              "1      -0.773832 -0.448991  0.741846\n",
              "2       0.302234 -1.134448  1.480368"
            ]
          },
          "metadata": {
            "tags": []
          },
          "execution_count": 62
        }
      ]
    }
  ]
}