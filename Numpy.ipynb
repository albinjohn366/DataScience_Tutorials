{
  "nbformat": 4,
  "nbformat_minor": 0,
  "metadata": {
    "colab": {
      "name": "Numpy.ipynb",
      "provenance": [],
      "authorship_tag": "ABX9TyOqMIkn7Pt3SNsM4iROJ3R5"
    },
    "kernelspec": {
      "name": "python3",
      "display_name": "Python 3"
    },
    "language_info": {
      "name": "python"
    }
  },
  "cells": [
    {
      "cell_type": "markdown",
      "metadata": {
        "id": "gd30tJg0wWhI"
      },
      "source": [
        "# Numpy Basics"
      ]
    },
    {
      "cell_type": "code",
      "metadata": {
        "id": "OI5ieNpwwaIg"
      },
      "source": [
        "import numpy as np"
      ],
      "execution_count": 31,
      "outputs": []
    },
    {
      "cell_type": "code",
      "metadata": {
        "colab": {
          "base_uri": "https://localhost:8080/"
        },
        "id": "2DS0dDQiwfFq",
        "outputId": "091ec914-6e34-48e0-a95e-93b69103b02f"
      },
      "source": [
        "# To create a numpy array\n",
        "my_array = np.array([1, 2, 3])\n",
        "my_array"
      ],
      "execution_count": 32,
      "outputs": [
        {
          "output_type": "execute_result",
          "data": {
            "text/plain": [
              "array([1, 2, 3])"
            ]
          },
          "metadata": {
            "tags": []
          },
          "execution_count": 32
        }
      ]
    },
    {
      "cell_type": "code",
      "metadata": {
        "colab": {
          "base_uri": "https://localhost:8080/"
        },
        "id": "PeljeYfmwspf",
        "outputId": "4d685bf6-b183-468f-ac48-d951c40bff6a"
      },
      "source": [
        "my_array_one = np.array([34, 88, 90])\n",
        "my_array_one"
      ],
      "execution_count": 33,
      "outputs": [
        {
          "output_type": "execute_result",
          "data": {
            "text/plain": [
              "array([34, 88, 90])"
            ]
          },
          "metadata": {
            "tags": []
          },
          "execution_count": 33
        }
      ]
    },
    {
      "cell_type": "code",
      "metadata": {
        "colab": {
          "base_uri": "https://localhost:8080/"
        },
        "id": "d74tYRRdw6I_",
        "outputId": "f006c2a1-2f9f-4450-d99b-cede347531a5"
      },
      "source": [
        "# Creating multidimensional array\n",
        "multidimensional_array = np.array([my_array, my_array_one])\n",
        "multidimensional_array"
      ],
      "execution_count": 34,
      "outputs": [
        {
          "output_type": "execute_result",
          "data": {
            "text/plain": [
              "array([[ 1,  2,  3],\n",
              "       [34, 88, 90]])"
            ]
          },
          "metadata": {
            "tags": []
          },
          "execution_count": 34
        }
      ]
    },
    {
      "cell_type": "code",
      "metadata": {
        "colab": {
          "base_uri": "https://localhost:8080/"
        },
        "id": "QE8eSRICxH7c",
        "outputId": "0e8da424-dabd-4203-970e-e0456a4b6a31"
      },
      "source": [
        "multidimensional_array.dtype"
      ],
      "execution_count": 35,
      "outputs": [
        {
          "output_type": "execute_result",
          "data": {
            "text/plain": [
              "dtype('int64')"
            ]
          },
          "metadata": {
            "tags": []
          },
          "execution_count": 35
        }
      ]
    },
    {
      "cell_type": "code",
      "metadata": {
        "colab": {
          "base_uri": "https://localhost:8080/"
        },
        "id": "KBrpg-QExKGf",
        "outputId": "78b7ae3f-0160-4f50-f056-fed89b700a82"
      },
      "source": [
        "multidimensional_array.shape"
      ],
      "execution_count": 36,
      "outputs": [
        {
          "output_type": "execute_result",
          "data": {
            "text/plain": [
              "(2, 3)"
            ]
          },
          "metadata": {
            "tags": []
          },
          "execution_count": 36
        }
      ]
    },
    {
      "cell_type": "code",
      "metadata": {
        "colab": {
          "base_uri": "https://localhost:8080/"
        },
        "id": "KIvaz8HHxMkE",
        "outputId": "d31bdde5-03c3-45ba-e39f-3215a29fa2c0"
      },
      "source": [
        "np.zeros((2, 5))"
      ],
      "execution_count": 37,
      "outputs": [
        {
          "output_type": "execute_result",
          "data": {
            "text/plain": [
              "array([[0., 0., 0., 0., 0.],\n",
              "       [0., 0., 0., 0., 0.]])"
            ]
          },
          "metadata": {
            "tags": []
          },
          "execution_count": 37
        }
      ]
    },
    {
      "cell_type": "code",
      "metadata": {
        "colab": {
          "base_uri": "https://localhost:8080/"
        },
        "id": "92IJNE0bxkNb",
        "outputId": "5a45083c-dfde-4845-8e06-6b13907f651f"
      },
      "source": [
        "# Identity matrix\n",
        "np.eye(3)"
      ],
      "execution_count": 38,
      "outputs": [
        {
          "output_type": "execute_result",
          "data": {
            "text/plain": [
              "array([[1., 0., 0.],\n",
              "       [0., 1., 0.],\n",
              "       [0., 0., 1.]])"
            ]
          },
          "metadata": {
            "tags": []
          },
          "execution_count": 38
        }
      ]
    },
    {
      "cell_type": "code",
      "metadata": {
        "colab": {
          "base_uri": "https://localhost:8080/"
        },
        "id": "seC8uJwmxv3E",
        "outputId": "08257d13-e051-4525-9421-fb592c31d72c"
      },
      "source": [
        "# Arrange values\n",
        "np.arange(5, 100, 2)"
      ],
      "execution_count": 39,
      "outputs": [
        {
          "output_type": "execute_result",
          "data": {
            "text/plain": [
              "array([ 5,  7,  9, 11, 13, 15, 17, 19, 21, 23, 25, 27, 29, 31, 33, 35, 37,\n",
              "       39, 41, 43, 45, 47, 49, 51, 53, 55, 57, 59, 61, 63, 65, 67, 69, 71,\n",
              "       73, 75, 77, 79, 81, 83, 85, 87, 89, 91, 93, 95, 97, 99])"
            ]
          },
          "metadata": {
            "tags": []
          },
          "execution_count": 39
        }
      ]
    },
    {
      "cell_type": "markdown",
      "metadata": {
        "id": "ZsN0xco5O2jS"
      },
      "source": [
        "When we change a slice of an array, the whole array would be changed."
      ]
    },
    {
      "cell_type": "code",
      "metadata": {
        "colab": {
          "base_uri": "https://localhost:8080/"
        },
        "id": "c0UP59ZxO8i9",
        "outputId": "110106da-24cc-4384-c137-1a87e13dd4ef"
      },
      "source": [
        "# Making an array with a set of numbers\n",
        "arr = np.arange(10)\n",
        "arr"
      ],
      "execution_count": 40,
      "outputs": [
        {
          "output_type": "execute_result",
          "data": {
            "text/plain": [
              "array([0, 1, 2, 3, 4, 5, 6, 7, 8, 9])"
            ]
          },
          "metadata": {
            "tags": []
          },
          "execution_count": 40
        }
      ]
    },
    {
      "cell_type": "code",
      "metadata": {
        "colab": {
          "base_uri": "https://localhost:8080/"
        },
        "id": "3cPVGdIXPDpe",
        "outputId": "f8431f71-89f4-4b5c-d0f6-f2d8f6d568ea"
      },
      "source": [
        "# Slicing an array\n",
        "slice_of_arr = arr[:5]\n",
        "slice_of_arr"
      ],
      "execution_count": 41,
      "outputs": [
        {
          "output_type": "execute_result",
          "data": {
            "text/plain": [
              "array([0, 1, 2, 3, 4])"
            ]
          },
          "metadata": {
            "tags": []
          },
          "execution_count": 41
        }
      ]
    },
    {
      "cell_type": "code",
      "metadata": {
        "colab": {
          "base_uri": "https://localhost:8080/"
        },
        "id": "6o_rB-7DPHxg",
        "outputId": "4d65e97a-bd97-40bf-f679-adf08d4d61b9"
      },
      "source": [
        "slice_of_arr[:] = 99\n",
        "arr"
      ],
      "execution_count": 42,
      "outputs": [
        {
          "output_type": "execute_result",
          "data": {
            "text/plain": [
              "array([99, 99, 99, 99, 99,  5,  6,  7,  8,  9])"
            ]
          },
          "metadata": {
            "tags": []
          },
          "execution_count": 42
        }
      ]
    },
    {
      "cell_type": "markdown",
      "metadata": {
        "id": "qF0xtq8hPNxv"
      },
      "source": [
        "Here see that the changes occured as mentioned before."
      ]
    },
    {
      "cell_type": "markdown",
      "metadata": {
        "id": "COC2ZvVGqsJI"
      },
      "source": [
        "### Array transposition\n"
      ]
    },
    {
      "cell_type": "code",
      "metadata": {
        "colab": {
          "base_uri": "https://localhost:8080/"
        },
        "id": "GPgvSar4qvl2",
        "outputId": "21d4f059-aa66-4dff-c0a6-232944a9ec82"
      },
      "source": [
        "arr = np.arange(10).reshape(2, 5)\n",
        "arr"
      ],
      "execution_count": 43,
      "outputs": [
        {
          "output_type": "execute_result",
          "data": {
            "text/plain": [
              "array([[0, 1, 2, 3, 4],\n",
              "       [5, 6, 7, 8, 9]])"
            ]
          },
          "metadata": {
            "tags": []
          },
          "execution_count": 43
        }
      ]
    },
    {
      "cell_type": "code",
      "metadata": {
        "colab": {
          "base_uri": "https://localhost:8080/"
        },
        "id": "RPn-xhirq3Rm",
        "outputId": "faea4244-e9d1-402c-8c2c-6e4578d76727"
      },
      "source": [
        "arr_transpose = arr.T\n",
        "arr_transpose"
      ],
      "execution_count": 44,
      "outputs": [
        {
          "output_type": "execute_result",
          "data": {
            "text/plain": [
              "array([[0, 5],\n",
              "       [1, 6],\n",
              "       [2, 7],\n",
              "       [3, 8],\n",
              "       [4, 9]])"
            ]
          },
          "metadata": {
            "tags": []
          },
          "execution_count": 44
        }
      ]
    },
    {
      "cell_type": "code",
      "metadata": {
        "colab": {
          "base_uri": "https://localhost:8080/"
        },
        "id": "gtVIuvpqrLgT",
        "outputId": "4f67bfe6-18ad-4213-c478-72bcf8a2c723"
      },
      "source": [
        "# Taking the dot product\n",
        "dot_product = np.dot(arr, arr_transpose)\n",
        "dot_product"
      ],
      "execution_count": 45,
      "outputs": [
        {
          "output_type": "execute_result",
          "data": {
            "text/plain": [
              "array([[ 30,  80],\n",
              "       [ 80, 255]])"
            ]
          },
          "metadata": {
            "tags": []
          },
          "execution_count": 45
        }
      ]
    },
    {
      "cell_type": "code",
      "metadata": {
        "colab": {
          "base_uri": "https://localhost:8080/"
        },
        "id": "EfqvE0uXr5Ue",
        "outputId": "c0124956-9148-4dfa-b667-ce8c00e61bc3"
      },
      "source": [
        "three_dimension = np.arange(30).reshape(5, 2, 3)\n",
        "three_dimension"
      ],
      "execution_count": 46,
      "outputs": [
        {
          "output_type": "execute_result",
          "data": {
            "text/plain": [
              "array([[[ 0,  1,  2],\n",
              "        [ 3,  4,  5]],\n",
              "\n",
              "       [[ 6,  7,  8],\n",
              "        [ 9, 10, 11]],\n",
              "\n",
              "       [[12, 13, 14],\n",
              "        [15, 16, 17]],\n",
              "\n",
              "       [[18, 19, 20],\n",
              "        [21, 22, 23]],\n",
              "\n",
              "       [[24, 25, 26],\n",
              "        [27, 28, 29]]])"
            ]
          },
          "metadata": {
            "tags": []
          },
          "execution_count": 46
        }
      ]
    },
    {
      "cell_type": "code",
      "metadata": {
        "colab": {
          "base_uri": "https://localhost:8080/"
        },
        "id": "bT0Yb8ZcsHmZ",
        "outputId": "fdc572e8-938d-416a-f71d-818c4e76e4f3"
      },
      "source": [
        "three_dimension.swapaxes(0,2)"
      ],
      "execution_count": 47,
      "outputs": [
        {
          "output_type": "execute_result",
          "data": {
            "text/plain": [
              "array([[[ 0,  6, 12, 18, 24],\n",
              "        [ 3,  9, 15, 21, 27]],\n",
              "\n",
              "       [[ 1,  7, 13, 19, 25],\n",
              "        [ 4, 10, 16, 22, 28]],\n",
              "\n",
              "       [[ 2,  8, 14, 20, 26],\n",
              "        [ 5, 11, 17, 23, 29]]])"
            ]
          },
          "metadata": {
            "tags": []
          },
          "execution_count": 47
        }
      ]
    },
    {
      "cell_type": "markdown",
      "metadata": {
        "id": "BlWH5ohOvgC-"
      },
      "source": [
        "# Numpy universal functions"
      ]
    },
    {
      "cell_type": "code",
      "metadata": {
        "colab": {
          "base_uri": "https://localhost:8080/"
        },
        "id": "wSveZZuPvkcz",
        "outputId": "1ba35e28-5647-4c74-a773-a4cc35bf119b"
      },
      "source": [
        "arr = np.arange(35).reshape(5, 7)\n",
        "arr"
      ],
      "execution_count": 48,
      "outputs": [
        {
          "output_type": "execute_result",
          "data": {
            "text/plain": [
              "array([[ 0,  1,  2,  3,  4,  5,  6],\n",
              "       [ 7,  8,  9, 10, 11, 12, 13],\n",
              "       [14, 15, 16, 17, 18, 19, 20],\n",
              "       [21, 22, 23, 24, 25, 26, 27],\n",
              "       [28, 29, 30, 31, 32, 33, 34]])"
            ]
          },
          "metadata": {
            "tags": []
          },
          "execution_count": 48
        }
      ]
    },
    {
      "cell_type": "code",
      "metadata": {
        "colab": {
          "base_uri": "https://localhost:8080/"
        },
        "id": "842YKVQkvqZx",
        "outputId": "cf7d375b-f989-4807-c259-ac71d627b400"
      },
      "source": [
        "# Square root\n",
        "squared_arr = np.sqrt(arr)\n",
        "squared_arr"
      ],
      "execution_count": 49,
      "outputs": [
        {
          "output_type": "execute_result",
          "data": {
            "text/plain": [
              "array([[0.        , 1.        , 1.41421356, 1.73205081, 2.        ,\n",
              "        2.23606798, 2.44948974],\n",
              "       [2.64575131, 2.82842712, 3.        , 3.16227766, 3.31662479,\n",
              "        3.46410162, 3.60555128],\n",
              "       [3.74165739, 3.87298335, 4.        , 4.12310563, 4.24264069,\n",
              "        4.35889894, 4.47213595],\n",
              "       [4.58257569, 4.69041576, 4.79583152, 4.89897949, 5.        ,\n",
              "        5.09901951, 5.19615242],\n",
              "       [5.29150262, 5.38516481, 5.47722558, 5.56776436, 5.65685425,\n",
              "        5.74456265, 5.83095189]])"
            ]
          },
          "metadata": {
            "tags": []
          },
          "execution_count": 49
        }
      ]
    },
    {
      "cell_type": "code",
      "metadata": {
        "colab": {
          "base_uri": "https://localhost:8080/"
        },
        "id": "OkpdyoOZvwXy",
        "outputId": "71833f61-2a85-43fb-cdd1-f2952d28e82e"
      },
      "source": [
        "# Exponential\n",
        "np.exp(arr)"
      ],
      "execution_count": 50,
      "outputs": [
        {
          "output_type": "execute_result",
          "data": {
            "text/plain": [
              "array([[1.00000000e+00, 2.71828183e+00, 7.38905610e+00, 2.00855369e+01,\n",
              "        5.45981500e+01, 1.48413159e+02, 4.03428793e+02],\n",
              "       [1.09663316e+03, 2.98095799e+03, 8.10308393e+03, 2.20264658e+04,\n",
              "        5.98741417e+04, 1.62754791e+05, 4.42413392e+05],\n",
              "       [1.20260428e+06, 3.26901737e+06, 8.88611052e+06, 2.41549528e+07,\n",
              "        6.56599691e+07, 1.78482301e+08, 4.85165195e+08],\n",
              "       [1.31881573e+09, 3.58491285e+09, 9.74480345e+09, 2.64891221e+10,\n",
              "        7.20048993e+10, 1.95729609e+11, 5.32048241e+11],\n",
              "       [1.44625706e+12, 3.93133430e+12, 1.06864746e+13, 2.90488497e+13,\n",
              "        7.89629602e+13, 2.14643580e+14, 5.83461743e+14]])"
            ]
          },
          "metadata": {
            "tags": []
          },
          "execution_count": 50
        }
      ]
    },
    {
      "cell_type": "code",
      "metadata": {
        "colab": {
          "base_uri": "https://localhost:8080/"
        },
        "id": "fjBEDVZKv3VM",
        "outputId": "8ca62675-2806-4f7c-a39c-540fcc08faa3"
      },
      "source": [
        "# Addition of numpy arrays\n",
        "arr1 = np.random.randn(10)\n",
        "arr2 = np.random.randn(10)\n",
        "sum_array = np.add(arr1, arr2)\n",
        "sum_array"
      ],
      "execution_count": 51,
      "outputs": [
        {
          "output_type": "execute_result",
          "data": {
            "text/plain": [
              "array([-1.70950433, -1.05594869,  1.51846448, -0.89763245,  0.04396861,\n",
              "       -1.04689119,  0.15912609, -1.08764318,  2.17719409,  2.18802439])"
            ]
          },
          "metadata": {
            "tags": []
          },
          "execution_count": 51
        }
      ]
    },
    {
      "cell_type": "code",
      "metadata": {
        "colab": {
          "base_uri": "https://localhost:8080/"
        },
        "id": "lHV9A43yu8f4",
        "outputId": "a98c91dc-51fa-4dcc-d803-8c23a2703d42"
      },
      "source": [
        "# Maximum Value Array\n",
        "maximum_arr = np.maximum(arr1, arr2)\n",
        "maximum_arr"
      ],
      "execution_count": 52,
      "outputs": [
        {
          "output_type": "execute_result",
          "data": {
            "text/plain": [
              "array([-0.62039015, -0.0985388 ,  0.99218136,  0.72628088,  1.08579069,\n",
              "        0.05118521,  0.40545887, -0.33869292,  1.32326283,  2.74345499])"
            ]
          },
          "metadata": {
            "tags": []
          },
          "execution_count": 52
        }
      ]
    },
    {
      "cell_type": "code",
      "metadata": {
        "colab": {
          "base_uri": "https://localhost:8080/"
        },
        "id": "0qcUmOENvFWD",
        "outputId": "d85cd525-ca53-4ac0-fe5e-6152aa01b237"
      },
      "source": [
        "# Maximum value of an array\n",
        "np.max(arr1)"
      ],
      "execution_count": 53,
      "outputs": [
        {
          "output_type": "execute_result",
          "data": {
            "text/plain": [
              "0.853931265464737"
            ]
          },
          "metadata": {
            "tags": []
          },
          "execution_count": 53
        }
      ]
    },
    {
      "cell_type": "code",
      "metadata": {
        "id": "2rO5WXwMvx9Y"
      },
      "source": [
        "# Website for all universal functions\n",
        "website = 'https://docs.scipy.org/doc//numpy-1.8.1/reference/ufuncs.html'"
      ],
      "execution_count": 58,
      "outputs": []
    },
    {
      "cell_type": "markdown",
      "metadata": {
        "id": "cOwzm-z-ykW5"
      },
      "source": [
        "# Numpy array processes"
      ]
    },
    {
      "cell_type": "code",
      "metadata": {
        "colab": {
          "base_uri": "https://localhost:8080/"
        },
        "id": "rUlNkrLkytNl",
        "outputId": "a0aa78f8-0da1-4740-eb75-bcfcec5b9088"
      },
      "source": [
        "points = np.arange(-12, 12, 0.3)\n",
        "points"
      ],
      "execution_count": 60,
      "outputs": [
        {
          "output_type": "execute_result",
          "data": {
            "text/plain": [
              "array([-1.20000000e+01, -1.17000000e+01, -1.14000000e+01, -1.11000000e+01,\n",
              "       -1.08000000e+01, -1.05000000e+01, -1.02000000e+01, -9.90000000e+00,\n",
              "       -9.60000000e+00, -9.30000000e+00, -9.00000000e+00, -8.70000000e+00,\n",
              "       -8.40000000e+00, -8.10000000e+00, -7.80000000e+00, -7.50000000e+00,\n",
              "       -7.20000000e+00, -6.90000000e+00, -6.60000000e+00, -6.30000000e+00,\n",
              "       -6.00000000e+00, -5.70000000e+00, -5.40000000e+00, -5.10000000e+00,\n",
              "       -4.80000000e+00, -4.50000000e+00, -4.20000000e+00, -3.90000000e+00,\n",
              "       -3.60000000e+00, -3.30000000e+00, -3.00000000e+00, -2.70000000e+00,\n",
              "       -2.40000000e+00, -2.10000000e+00, -1.80000000e+00, -1.50000000e+00,\n",
              "       -1.20000000e+00, -9.00000000e-01, -6.00000000e-01, -3.00000000e-01,\n",
              "        2.84217094e-14,  3.00000000e-01,  6.00000000e-01,  9.00000000e-01,\n",
              "        1.20000000e+00,  1.50000000e+00,  1.80000000e+00,  2.10000000e+00,\n",
              "        2.40000000e+00,  2.70000000e+00,  3.00000000e+00,  3.30000000e+00,\n",
              "        3.60000000e+00,  3.90000000e+00,  4.20000000e+00,  4.50000000e+00,\n",
              "        4.80000000e+00,  5.10000000e+00,  5.40000000e+00,  5.70000000e+00,\n",
              "        6.00000000e+00,  6.30000000e+00,  6.60000000e+00,  6.90000000e+00,\n",
              "        7.20000000e+00,  7.50000000e+00,  7.80000000e+00,  8.10000000e+00,\n",
              "        8.40000000e+00,  8.70000000e+00,  9.00000000e+00,  9.30000000e+00,\n",
              "        9.60000000e+00,  9.90000000e+00,  1.02000000e+01,  1.05000000e+01,\n",
              "        1.08000000e+01,  1.11000000e+01,  1.14000000e+01,  1.17000000e+01])"
            ]
          },
          "metadata": {
            "tags": []
          },
          "execution_count": 60
        }
      ]
    },
    {
      "cell_type": "code",
      "metadata": {
        "colab": {
          "base_uri": "https://localhost:8080/"
        },
        "id": "bwQE8Thhym7T",
        "outputId": "7d41ad97-8d9e-41cc-8a7e-31c2fb09fa05"
      },
      "source": [
        "# Creating a meshgrid of array\n",
        "mesdhgrid_array = np.meshgrid(points, points)\n",
        "mesdhgrid_array"
      ],
      "execution_count": 61,
      "outputs": [
        {
          "output_type": "execute_result",
          "data": {
            "text/plain": [
              "[array([[-12. , -11.7, -11.4, ...,  11.1,  11.4,  11.7],\n",
              "        [-12. , -11.7, -11.4, ...,  11.1,  11.4,  11.7],\n",
              "        [-12. , -11.7, -11.4, ...,  11.1,  11.4,  11.7],\n",
              "        ...,\n",
              "        [-12. , -11.7, -11.4, ...,  11.1,  11.4,  11.7],\n",
              "        [-12. , -11.7, -11.4, ...,  11.1,  11.4,  11.7],\n",
              "        [-12. , -11.7, -11.4, ...,  11.1,  11.4,  11.7]]),\n",
              " array([[-12. , -12. , -12. , ..., -12. , -12. , -12. ],\n",
              "        [-11.7, -11.7, -11.7, ..., -11.7, -11.7, -11.7],\n",
              "        [-11.4, -11.4, -11.4, ..., -11.4, -11.4, -11.4],\n",
              "        ...,\n",
              "        [ 11.1,  11.1,  11.1, ...,  11.1,  11.1,  11.1],\n",
              "        [ 11.4,  11.4,  11.4, ...,  11.4,  11.4,  11.4],\n",
              "        [ 11.7,  11.7,  11.7, ...,  11.7,  11.7,  11.7]])]"
            ]
          },
          "metadata": {
            "tags": []
          },
          "execution_count": 61
        }
      ]
    },
    {
      "cell_type": "code",
      "metadata": {
        "colab": {
          "base_uri": "https://localhost:8080/",
          "height": 286
        },
        "id": "mUCARyb8zAWw",
        "outputId": "7f5dde9e-25ca-4a08-8aaa-2ddc7ef8d0e1"
      },
      "source": [
        "# Plotting this\n",
        "import matplotlib.pyplot as plt\n",
        "plt.imshow(mesdhgrid_array[0])"
      ],
      "execution_count": 64,
      "outputs": [
        {
          "output_type": "execute_result",
          "data": {
            "text/plain": [
              "<matplotlib.image.AxesImage at 0x7f1109963d50>"
            ]
          },
          "metadata": {
            "tags": []
          },
          "execution_count": 64
        },
        {
          "output_type": "display_data",
          "data": {
            "image/png": "[encoded data removed]",
            "text/plain": [
              "<Figure size 432x288 with 1 Axes>"
            ]
          },
          "metadata": {
            "tags": [],
            "needs_background": "light"
          }
        }
      ]
    },
    {
      "cell_type": "code",
      "metadata": {
        "colab": {
          "base_uri": "https://localhost:8080/",
          "height": 281
        },
        "id": "viBzWVAzzYPl",
        "outputId": "2b630c7a-62e0-496d-8b33-5b4ead702c27"
      },
      "source": [
        "# Finding the sine addition of the arrays of meshgrid\n",
        "x, y = mesdhgrid_array\n",
        "z = np.sin(x) + np.sin(y)\n",
        "plt.imshow(z)\n",
        "plt.colorbar()\n",
        "plt.title('Visualizing sin(x) + sin(y)')\n",
        "plt.show()"
      ],
      "execution_count": 66,
      "outputs": [
        {
          "output_type": "display_data",
          "data": {
            "image/png": "[encoded data removed]",
            "text/plain": [
              "<Figure size 432x288 with 2 Axes>"
            ]
          },
          "metadata": {
            "tags": [],
            "needs_background": "light"
          }
        }
      ]
    },
    {
      "cell_type": "markdown",
      "metadata": {
        "id": "mTkNCj4E1BrF"
      },
      "source": [
        "# Numpy where"
      ]
    },
    {
      "cell_type": "markdown",
      "metadata": {
        "id": "mJ0xhDmv1FS8"
      },
      "source": [
        "Numpy where can be used to identify values in an array and to replace these values present in an array."
      ]
    },
    {
      "cell_type": "code",
      "metadata": {
        "colab": {
          "base_uri": "https://localhost:8080/"
        },
        "id": "t2myd3zw1Lae",
        "outputId": "e7bb757d-1a2f-489b-8b1b-5ffb98493316"
      },
      "source": [
        "arr = np.random.randn(10)\n",
        "arr_temp = np.where(arr < 0, 0, arr)\n",
        "arr_temp"
      ],
      "execution_count": 69,
      "outputs": [
        {
          "output_type": "execute_result",
          "data": {
            "text/plain": [
              "array([0.65562041, 0.        , 0.10924769, 0.46706937, 0.        ,\n",
              "       0.        , 0.        , 0.        , 0.        , 0.        ])"
            ]
          },
          "metadata": {
            "tags": []
          },
          "execution_count": 69
        }
      ]
    },
    {
      "cell_type": "markdown",
      "metadata": {
        "id": "NLrJcIAv3Qsx"
      },
      "source": [
        "# Other Numpy Methods"
      ]
    },
    {
      "cell_type": "code",
      "metadata": {
        "colab": {
          "base_uri": "https://localhost:8080/"
        },
        "id": "6aFQmEQc3Tsi",
        "outputId": "a779dc1b-98e7-4437-86ee-1d7a3ad280a4"
      },
      "source": [
        "arr = np.array([[1, 4, 78, 90], [100, 12, 90, 78]])\n",
        "\n",
        "# Sum\n",
        "print(arr.sum())\n",
        "print(arr.sum(0))\n",
        "print(arr.sum(1))\n",
        "\n",
        "# mean\n",
        "print(arr.mean())\n",
        "\n",
        "# Standard Deviation\n",
        "print(arr.std())\n",
        "\n",
        "# variance\n",
        "print(arr.var())"
      ],
      "execution_count": 76,
      "outputs": [
        {
          "output_type": "stream",
          "text": [
            "453\n",
            "[101  16 168 168]\n",
            "[173 280]\n",
            "56.625\n",
            "40.12149517403358\n",
            "1609.734375\n"
          ],
          "name": "stdout"
        }
      ]
    },
    {
      "cell_type": "code",
      "metadata": {
        "colab": {
          "base_uri": "https://localhost:8080/"
        },
        "id": "YaenPv4T4i7O",
        "outputId": "43e573fe-1acf-4c9b-a149-36bf0c6cdf62"
      },
      "source": [
        "# Sorting\n",
        "arr.sort()\n",
        "arr"
      ],
      "execution_count": 78,
      "outputs": [
        {
          "output_type": "execute_result",
          "data": {
            "text/plain": [
              "array([[  1,   4,  78,  90],\n",
              "       [ 12,  78,  90, 100]])"
            ]
          },
          "metadata": {
            "tags": []
          },
          "execution_count": 78
        }
      ]
    }
  ]
}