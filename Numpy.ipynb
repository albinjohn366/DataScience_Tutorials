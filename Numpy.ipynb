{
  "nbformat": 4,
  "nbformat_minor": 0,
  "metadata": {
    "colab": {
      "name": "Numpy.ipynb",
      "provenance": [],
      "authorship_tag": "ABX9TyOv9vfjxzyJA/r1G8reZlIj"
    },
    "kernelspec": {
      "name": "python3",
      "display_name": "Python 3"
    },
    "language_info": {
      "name": "python"
    }
  },
  "cells": [
    {
      "cell_type": "markdown",
      "metadata": {
        "id": "gd30tJg0wWhI"
      },
      "source": [
        "# Numpy Basics"
      ]
    },
    {
      "cell_type": "code",
      "metadata": {
        "id": "OI5ieNpwwaIg"
      },
      "source": [
        "import numpy as np"
      ],
      "execution_count": 2,
      "outputs": []
    },
    {
      "cell_type": "code",
      "metadata": {
        "colab": {
          "base_uri": "https://localhost:8080/"
        },
        "id": "2DS0dDQiwfFq",
        "outputId": "ef336669-fb56-4e0c-dfc1-d99af276f8f0"
      },
      "source": [
        "# To create a numpy array\n",
        "my_array = np.array([1, 2, 3])\n",
        "my_array"
      ],
      "execution_count": 3,
      "outputs": [
        {
          "output_type": "execute_result",
          "data": {
            "text/plain": [
              "array([1, 2, 3])"
            ]
          },
          "metadata": {
            "tags": []
          },
          "execution_count": 3
        }
      ]
    },
    {
      "cell_type": "code",
      "metadata": {
        "colab": {
          "base_uri": "https://localhost:8080/"
        },
        "id": "PeljeYfmwspf",
        "outputId": "0b0d5c7a-0b7e-4517-c84e-6f6032feadc2"
      },
      "source": [
        "my_array_one = np.array([34, 88, 90])\n",
        "my_array_one"
      ],
      "execution_count": 4,
      "outputs": [
        {
          "output_type": "execute_result",
          "data": {
            "text/plain": [
              "array([34, 88, 90])"
            ]
          },
          "metadata": {
            "tags": []
          },
          "execution_count": 4
        }
      ]
    },
    {
      "cell_type": "code",
      "metadata": {
        "colab": {
          "base_uri": "https://localhost:8080/"
        },
        "id": "d74tYRRdw6I_",
        "outputId": "2cd73980-0ca4-46d4-9313-833d32a3bbb2"
      },
      "source": [
        "# Creating multidimensional array\n",
        "multidimensional_array = np.array([my_array, my_array_one])\n",
        "multidimensional_array"
      ],
      "execution_count": 5,
      "outputs": [
        {
          "output_type": "execute_result",
          "data": {
            "text/plain": [
              "array([[ 1,  2,  3],\n",
              "       [34, 88, 90]])"
            ]
          },
          "metadata": {
            "tags": []
          },
          "execution_count": 5
        }
      ]
    },
    {
      "cell_type": "code",
      "metadata": {
        "colab": {
          "base_uri": "https://localhost:8080/"
        },
        "id": "QE8eSRICxH7c",
        "outputId": "d9c085d7-c6b4-4397-afb2-044451650f53"
      },
      "source": [
        "multidimensional_array.dtype"
      ],
      "execution_count": 6,
      "outputs": [
        {
          "output_type": "execute_result",
          "data": {
            "text/plain": [
              "dtype('int64')"
            ]
          },
          "metadata": {
            "tags": []
          },
          "execution_count": 6
        }
      ]
    },
    {
      "cell_type": "code",
      "metadata": {
        "colab": {
          "base_uri": "https://localhost:8080/"
        },
        "id": "KBrpg-QExKGf",
        "outputId": "dac9c0a2-f528-492a-feff-bf63dcc0bcae"
      },
      "source": [
        "multidimensional_array.shape"
      ],
      "execution_count": 7,
      "outputs": [
        {
          "output_type": "execute_result",
          "data": {
            "text/plain": [
              "(2, 3)"
            ]
          },
          "metadata": {
            "tags": []
          },
          "execution_count": 7
        }
      ]
    },
    {
      "cell_type": "code",
      "metadata": {
        "colab": {
          "base_uri": "https://localhost:8080/"
        },
        "id": "KIvaz8HHxMkE",
        "outputId": "aab31bf5-16a6-4c17-e7ef-be0acd4320af"
      },
      "source": [
        "np.zeros((2, 5))"
      ],
      "execution_count": 8,
      "outputs": [
        {
          "output_type": "execute_result",
          "data": {
            "text/plain": [
              "array([[0., 0., 0., 0., 0.],\n",
              "       [0., 0., 0., 0., 0.]])"
            ]
          },
          "metadata": {
            "tags": []
          },
          "execution_count": 8
        }
      ]
    },
    {
      "cell_type": "code",
      "metadata": {
        "colab": {
          "base_uri": "https://localhost:8080/"
        },
        "id": "92IJNE0bxkNb",
        "outputId": "49d936c9-db5f-4f92-b551-4a4d0315ac36"
      },
      "source": [
        "# Identity matrix\n",
        "np.eye(3)"
      ],
      "execution_count": 9,
      "outputs": [
        {
          "output_type": "execute_result",
          "data": {
            "text/plain": [
              "array([[1., 0., 0.],\n",
              "       [0., 1., 0.],\n",
              "       [0., 0., 1.]])"
            ]
          },
          "metadata": {
            "tags": []
          },
          "execution_count": 9
        }
      ]
    },
    {
      "cell_type": "code",
      "metadata": {
        "colab": {
          "base_uri": "https://localhost:8080/"
        },
        "id": "seC8uJwmxv3E",
        "outputId": "6606a082-8b4f-40d3-a1fc-ec9352c8684a"
      },
      "source": [
        "# Arrange values\n",
        "np.arange(5, 100, 2)"
      ],
      "execution_count": 10,
      "outputs": [
        {
          "output_type": "execute_result",
          "data": {
            "text/plain": [
              "array([ 5,  7,  9, 11, 13, 15, 17, 19, 21, 23, 25, 27, 29, 31, 33, 35, 37,\n",
              "       39, 41, 43, 45, 47, 49, 51, 53, 55, 57, 59, 61, 63, 65, 67, 69, 71,\n",
              "       73, 75, 77, 79, 81, 83, 85, 87, 89, 91, 93, 95, 97, 99])"
            ]
          },
          "metadata": {
            "tags": []
          },
          "execution_count": 10
        }
      ]
    },
    {
      "cell_type": "markdown",
      "metadata": {
        "id": "ZsN0xco5O2jS"
      },
      "source": [
        "When we change a slice of an array, the whole array would be changed."
      ]
    },
    {
      "cell_type": "code",
      "metadata": {
        "colab": {
          "base_uri": "https://localhost:8080/"
        },
        "id": "c0UP59ZxO8i9",
        "outputId": "96cd8a92-d5e8-4a90-af20-5eaeb9317261"
      },
      "source": [
        "# Making an array with a set of numbers\n",
        "arr = np.arange(10)\n",
        "arr"
      ],
      "execution_count": 11,
      "outputs": [
        {
          "output_type": "execute_result",
          "data": {
            "text/plain": [
              "array([0, 1, 2, 3, 4, 5, 6, 7, 8, 9])"
            ]
          },
          "metadata": {
            "tags": []
          },
          "execution_count": 11
        }
      ]
    },
    {
      "cell_type": "code",
      "metadata": {
        "colab": {
          "base_uri": "https://localhost:8080/"
        },
        "id": "3cPVGdIXPDpe",
        "outputId": "84a09ea6-f0f3-4db7-cd6e-0b6a6a0fce4c"
      },
      "source": [
        "# Slicing an array\n",
        "slice_of_arr = arr[:5]\n",
        "slice_of_arr"
      ],
      "execution_count": 12,
      "outputs": [
        {
          "output_type": "execute_result",
          "data": {
            "text/plain": [
              "array([0, 1, 2, 3, 4])"
            ]
          },
          "metadata": {
            "tags": []
          },
          "execution_count": 12
        }
      ]
    },
    {
      "cell_type": "code",
      "metadata": {
        "colab": {
          "base_uri": "https://localhost:8080/"
        },
        "id": "6o_rB-7DPHxg",
        "outputId": "8a6f9efc-3e1e-4005-e397-e36cc32b94b3"
      },
      "source": [
        "slice_of_arr[:] = 99\n",
        "arr"
      ],
      "execution_count": 13,
      "outputs": [
        {
          "output_type": "execute_result",
          "data": {
            "text/plain": [
              "array([99, 99, 99, 99, 99,  5,  6,  7,  8,  9])"
            ]
          },
          "metadata": {
            "tags": []
          },
          "execution_count": 13
        }
      ]
    },
    {
      "cell_type": "markdown",
      "metadata": {
        "id": "qF0xtq8hPNxv"
      },
      "source": [
        "Here see that the changes occured as mentioned before."
      ]
    },
    {
      "cell_type": "markdown",
      "metadata": {
        "id": "COC2ZvVGqsJI"
      },
      "source": [
        "### Array transposition\n"
      ]
    },
    {
      "cell_type": "code",
      "metadata": {
        "colab": {
          "base_uri": "https://localhost:8080/"
        },
        "id": "GPgvSar4qvl2",
        "outputId": "3f719653-fad4-4f2e-bd6d-cc1b88837e57"
      },
      "source": [
        "arr = np.arange(10).reshape(2, 5)\n",
        "arr"
      ],
      "execution_count": 14,
      "outputs": [
        {
          "output_type": "execute_result",
          "data": {
            "text/plain": [
              "array([[0, 1, 2, 3, 4],\n",
              "       [5, 6, 7, 8, 9]])"
            ]
          },
          "metadata": {
            "tags": []
          },
          "execution_count": 14
        }
      ]
    },
    {
      "cell_type": "code",
      "metadata": {
        "colab": {
          "base_uri": "https://localhost:8080/"
        },
        "id": "RPn-xhirq3Rm",
        "outputId": "10ebfd15-a2cf-492c-b802-c18b0f4ae3c0"
      },
      "source": [
        "arr_transpose = arr.T\n",
        "arr_transpose"
      ],
      "execution_count": 16,
      "outputs": [
        {
          "output_type": "execute_result",
          "data": {
            "text/plain": [
              "array([[0, 5],\n",
              "       [1, 6],\n",
              "       [2, 7],\n",
              "       [3, 8],\n",
              "       [4, 9]])"
            ]
          },
          "metadata": {
            "tags": []
          },
          "execution_count": 16
        }
      ]
    },
    {
      "cell_type": "code",
      "metadata": {
        "colab": {
          "base_uri": "https://localhost:8080/"
        },
        "id": "gtVIuvpqrLgT",
        "outputId": "8043c3a6-00de-4667-9869-a83431b5795d"
      },
      "source": [
        "# Taking the dot product\n",
        "dot_product = np.dot(arr, arr_transpose)\n",
        "dot_product"
      ],
      "execution_count": 17,
      "outputs": [
        {
          "output_type": "execute_result",
          "data": {
            "text/plain": [
              "array([[ 30,  80],\n",
              "       [ 80, 255]])"
            ]
          },
          "metadata": {
            "tags": []
          },
          "execution_count": 17
        }
      ]
    },
    {
      "cell_type": "code",
      "metadata": {
        "colab": {
          "base_uri": "https://localhost:8080/"
        },
        "id": "EfqvE0uXr5Ue",
        "outputId": "63e10d80-d3c7-48e1-cb10-d2c7fbfd39a4"
      },
      "source": [
        "three_dimension = np.arange(30).reshape(5, 2, 3)\n",
        "three_dimension"
      ],
      "execution_count": 19,
      "outputs": [
        {
          "output_type": "execute_result",
          "data": {
            "text/plain": [
              "array([[[ 0,  1,  2],\n",
              "        [ 3,  4,  5]],\n",
              "\n",
              "       [[ 6,  7,  8],\n",
              "        [ 9, 10, 11]],\n",
              "\n",
              "       [[12, 13, 14],\n",
              "        [15, 16, 17]],\n",
              "\n",
              "       [[18, 19, 20],\n",
              "        [21, 22, 23]],\n",
              "\n",
              "       [[24, 25, 26],\n",
              "        [27, 28, 29]]])"
            ]
          },
          "metadata": {
            "tags": []
          },
          "execution_count": 19
        }
      ]
    },
    {
      "cell_type": "code",
      "metadata": {
        "colab": {
          "base_uri": "https://localhost:8080/"
        },
        "id": "bT0Yb8ZcsHmZ",
        "outputId": "c1026a5b-92df-4929-d418-68c194f51334"
      },
      "source": [
        "three_dimension.swapaxes(0,2)"
      ],
      "execution_count": 27,
      "outputs": [
        {
          "output_type": "execute_result",
          "data": {
            "text/plain": [
              "array([[[ 0,  6, 12, 18, 24],\n",
              "        [ 3,  9, 15, 21, 27]],\n",
              "\n",
              "       [[ 1,  7, 13, 19, 25],\n",
              "        [ 4, 10, 16, 22, 28]],\n",
              "\n",
              "       [[ 2,  8, 14, 20, 26],\n",
              "        [ 5, 11, 17, 23, 29]]])"
            ]
          },
          "metadata": {
            "tags": []
          },
          "execution_count": 27
        }
      ]
    }
  ]
}