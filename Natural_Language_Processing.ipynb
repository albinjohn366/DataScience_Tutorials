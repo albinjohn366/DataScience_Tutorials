{
  "nbformat": 4,
  "nbformat_minor": 0,
  "metadata": {
    "colab": {
      "name": "Natural_Language_Processing.ipynb",
      "provenance": [],
      "authorship_tag": "ABX9TyPd5MPETPZxN9D+vtYo0b/g"
    },
    "kernelspec": {
      "name": "python3",
      "display_name": "Python 3"
    },
    "language_info": {
      "name": "python"
    }
  },
  "cells": [
    {
      "cell_type": "code",
      "execution_count": 83,
      "metadata": {
        "id": "fltXrKAnaFqG"
      },
      "outputs": [],
      "source": [
        "# Let us import nltk tool\n",
        "import nltk\n",
        "\n",
        "# Importing necessory packages\n",
        "import pandas as pd\n",
        "import numpy as np\n",
        "\n",
        "# Importing packages for plotting\n",
        "import seaborn as sns\n",
        "import matplotlib.pyplot as plt\n",
        "sns.set_style('whitegrid')\n",
        "%matplotlib inline"
      ]
    },
    {
      "cell_type": "code",
      "source": [
        "# Getting the data\n",
        "dataset = pd.read_csv('/spam.csv', encoding = \"ISO-8859-1\")\n",
        "\n",
        "# Removing unwanted column\n",
        "dataset = dataset[['v1', 'v2']]\n",
        "\n",
        "# Name the columns\n",
        "dataset.columns = ['label', 'message']\n",
        "\n",
        "dataset.head()"
      ],
      "metadata": {
        "id": "u2ipH_8ZbVKn",
        "colab": {
          "base_uri": "https://localhost:8080/",
          "height": 206
        },
        "outputId": "827f7824-8152-4b66-fa21-be8ca7406689"
      },
      "execution_count": 84,
      "outputs": [
        {
          "output_type": "execute_result",
          "data": {
            "text/html": [
              "\n",
              "  <div id=\"df-09d1c769-1422-4da0-b19d-ba747268876a\">\n",
              "    <div class=\"colab-df-container\">\n",
              "      <div>\n",
              "<style scoped>\n",
              "    .dataframe tbody tr th:only-of-type {\n",
              "        vertical-align: middle;\n",
              "    }\n",
              "\n",
              "    .dataframe tbody tr th {\n",
              "        vertical-align: top;\n",
              "    }\n",
              "\n",
              "    .dataframe thead th {\n",
              "        text-align: right;\n",
              "    }\n",
              "</style>\n",
              "<table border=\"1\" class=\"dataframe\">\n",
              "  <thead>\n",
              "    <tr style=\"text-align: right;\">\n",
              "      <th></th>\n",
              "      <th>label</th>\n",
              "      <th>message</th>\n",
              "    </tr>\n",
              "  </thead>\n",
              "  <tbody>\n",
              "    <tr>\n",
              "      <th>0</th>\n",
              "      <td>ham</td>\n",
              "      <td>Go until jurong point, crazy.. Available only ...</td>\n",
              "    </tr>\n",
              "    <tr>\n",
              "      <th>1</th>\n",
              "      <td>ham</td>\n",
              "      <td>Ok lar... Joking wif u oni...</td>\n",
              "    </tr>\n",
              "    <tr>\n",
              "      <th>2</th>\n",
              "      <td>spam</td>\n",
              "      <td>Free entry in 2 a wkly comp to win FA Cup fina...</td>\n",
              "    </tr>\n",
              "    <tr>\n",
              "      <th>3</th>\n",
              "      <td>ham</td>\n",
              "      <td>U dun say so early hor... U c already then say...</td>\n",
              "    </tr>\n",
              "    <tr>\n",
              "      <th>4</th>\n",
              "      <td>ham</td>\n",
              "      <td>Nah I don't think he goes to usf, he lives aro...</td>\n",
              "    </tr>\n",
              "  </tbody>\n",
              "</table>\n",
              "</div>\n",
              "      <button class=\"colab-df-convert\" onclick=\"convertToInteractive('df-09d1c769-1422-4da0-b19d-ba747268876a')\"\n",
              "              title=\"Convert this dataframe to an interactive table.\"\n",
              "              style=\"display:none;\">\n",
              "        \n",
              "  <svg xmlns=\"http://www.w3.org/2000/svg\" height=\"24px\"viewBox=\"0 0 24 24\"\n",
              "       width=\"24px\">\n",
              "    <path d=\"M0 0h24v24H0V0z\" fill=\"none\"/>\n",
              "    <path d=\"M18.56 5.44l.94 2.06.94-2.06 2.06-.94-2.06-.94-.94-2.06-.94 2.06-2.06.94zm-11 1L8.5 8.5l.94-2.06 2.06-.94-2.06-.94L8.5 2.5l-.94 2.06-2.06.94zm10 10l.94 2.06.94-2.06 2.06-.94-2.06-.94-.94-2.06-.94 2.06-2.06.94z\"/><path d=\"M17.41 7.96l-1.37-1.37c-.4-.4-.92-.59-1.43-.59-.52 0-1.04.2-1.43.59L10.3 9.45l-7.72 7.72c-.78.78-.78 2.05 0 2.83L4 21.41c.39.39.9.59 1.41.59.51 0 1.02-.2 1.41-.59l7.78-7.78 2.81-2.81c.8-.78.8-2.07 0-2.86zM5.41 20L4 18.59l7.72-7.72 1.47 1.35L5.41 20z\"/>\n",
              "  </svg>\n",
              "      </button>\n",
              "      \n",
              "  <style>\n",
              "    .colab-df-container {\n",
              "      display:flex;\n",
              "      flex-wrap:wrap;\n",
              "      gap: 12px;\n",
              "    }\n",
              "\n",
              "    .colab-df-convert {\n",
              "      background-color: #E8F0FE;\n",
              "      border: none;\n",
              "      border-radius: 50%;\n",
              "      cursor: pointer;\n",
              "      display: none;\n",
              "      fill: #1967D2;\n",
              "      height: 32px;\n",
              "      padding: 0 0 0 0;\n",
              "      width: 32px;\n",
              "    }\n",
              "\n",
              "    .colab-df-convert:hover {\n",
              "      background-color: #E2EBFA;\n",
              "      box-shadow: 0px 1px 2px rgba(60, 64, 67, 0.3), 0px 1px 3px 1px rgba(60, 64, 67, 0.15);\n",
              "      fill: #174EA6;\n",
              "    }\n",
              "\n",
              "    [theme=dark] .colab-df-convert {\n",
              "      background-color: #3B4455;\n",
              "      fill: #D2E3FC;\n",
              "    }\n",
              "\n",
              "    [theme=dark] .colab-df-convert:hover {\n",
              "      background-color: #434B5C;\n",
              "      box-shadow: 0px 1px 3px 1px rgba(0, 0, 0, 0.15);\n",
              "      filter: drop-shadow(0px 1px 2px rgba(0, 0, 0, 0.3));\n",
              "      fill: #FFFFFF;\n",
              "    }\n",
              "  </style>\n",
              "\n",
              "      <script>\n",
              "        const buttonEl =\n",
              "          document.querySelector('#df-09d1c769-1422-4da0-b19d-ba747268876a button.colab-df-convert');\n",
              "        buttonEl.style.display =\n",
              "          google.colab.kernel.accessAllowed ? 'block' : 'none';\n",
              "\n",
              "        async function convertToInteractive(key) {\n",
              "          const element = document.querySelector('#df-09d1c769-1422-4da0-b19d-ba747268876a');\n",
              "          const dataTable =\n",
              "            await google.colab.kernel.invokeFunction('convertToInteractive',\n",
              "                                                     [key], {});\n",
              "          if (!dataTable) return;\n",
              "\n",
              "          const docLinkHtml = 'Like what you see? Visit the ' +\n",
              "            '<a target=\"_blank\" href=https://colab.research.google.com/notebooks/data_table.ipynb>data table notebook</a>'\n",
              "            + ' to learn more about interactive tables.';\n",
              "          element.innerHTML = '';\n",
              "          dataTable['output_type'] = 'display_data';\n",
              "          await google.colab.output.renderOutput(dataTable, element);\n",
              "          const docLink = document.createElement('div');\n",
              "          docLink.innerHTML = docLinkHtml;\n",
              "          element.appendChild(docLink);\n",
              "        }\n",
              "      </script>\n",
              "    </div>\n",
              "  </div>\n",
              "  "
            ],
            "text/plain": [
              "  label                                            message\n",
              "0   ham  Go until jurong point, crazy.. Available only ...\n",
              "1   ham                      Ok lar... Joking wif u oni...\n",
              "2  spam  Free entry in 2 a wkly comp to win FA Cup fina...\n",
              "3   ham  U dun say so early hor... U c already then say...\n",
              "4   ham  Nah I don't think he goes to usf, he lives aro..."
            ]
          },
          "metadata": {},
          "execution_count": 84
        }
      ]
    },
    {
      "cell_type": "markdown",
      "source": [
        "## **Train and Test Split**"
      ],
      "metadata": {
        "id": "lP7-OKiw0thg"
      }
    },
    {
      "cell_type": "code",
      "source": [
        "from sklearn.model_selection import train_test_split\n",
        "\n",
        "# Splitting the data\n",
        "x_train, x_test, y_train, y_test = train_test_split(dataset['message'], dataset['label'], test_size=0.33)"
      ],
      "metadata": {
        "id": "9-q6paZO0ydO"
      },
      "execution_count": 85,
      "outputs": []
    },
    {
      "cell_type": "markdown",
      "source": [
        "## **EDA**"
      ],
      "metadata": {
        "id": "9NmJxO2tQ03o"
      }
    },
    {
      "cell_type": "code",
      "source": [
        "# Describing the dataset\n",
        "x_train.describe()"
      ],
      "metadata": {
        "id": "VPnPesJeQ4pG",
        "colab": {
          "base_uri": "https://localhost:8080/"
        },
        "outputId": "ba1fd29b-3311-46ea-c400-4c479bd16888"
      },
      "execution_count": 86,
      "outputs": [
        {
          "output_type": "execute_result",
          "data": {
            "text/plain": [
              "count                       3733\n",
              "unique                      3514\n",
              "top       Sorry, I'll call later\n",
              "freq                          22\n",
              "Name: message, dtype: object"
            ]
          },
          "metadata": {},
          "execution_count": 86
        }
      ]
    },
    {
      "cell_type": "markdown",
      "source": [
        "Some of the messages are repeating it seems."
      ],
      "metadata": {
        "id": "N2ziyzKaRGqL"
      }
    },
    {
      "cell_type": "code",
      "source": [
        "# Let us see which messages were repeating\n",
        "x_train.value_counts().head()"
      ],
      "metadata": {
        "id": "xqA0v3bkRQGW",
        "colab": {
          "base_uri": "https://localhost:8080/"
        },
        "outputId": "d006cc12-14e4-46af-b71e-fdb291c8de2c"
      },
      "execution_count": 87,
      "outputs": [
        {
          "output_type": "execute_result",
          "data": {
            "text/plain": [
              "Sorry, I'll call later                                                                                                                      22\n",
              "I cant pick the phone right now. Pls send a message                                                                                          9\n",
              "Ok...                                                                                                                                        6\n",
              "Your opinion about me? 1. Over 2. Jada 3. Kusruthi 4. Lovable 5. Silent 6. Spl character 7. Not matured 8. Stylish 9. Simple Pls reply..     4\n",
              "Ok.                                                                                                                                          4\n",
              "Name: message, dtype: int64"
            ]
          },
          "metadata": {},
          "execution_count": 87
        }
      ]
    },
    {
      "cell_type": "markdown",
      "source": [
        "These are the most common repeating messages"
      ],
      "metadata": {
        "id": "YC6vKaulRnpF"
      }
    },
    {
      "cell_type": "markdown",
      "source": [
        "Now let us see how many of the messages were spam and how many were not."
      ],
      "metadata": {
        "id": "l_m5i3GjR0NS"
      }
    },
    {
      "cell_type": "code",
      "source": [
        "sns.histplot(x=y_train, color='purple')\n",
        "plt.show()"
      ],
      "metadata": {
        "id": "ZkVTDrCTR4uM",
        "colab": {
          "base_uri": "https://localhost:8080/",
          "height": 279
        },
        "outputId": "bebe85a7-a2ed-42d6-b214-cdee21e2d590"
      },
      "execution_count": 88,
      "outputs": [
        {
          "output_type": "display_data",
          "data": {
            "image/png": "[encoded data removed]",
            "text/plain": [
              "<Figure size 432x288 with 1 Axes>"
            ]
          },
          "metadata": {
            "needs_background": "light"
          }
        }
      ]
    },
    {
      "cell_type": "code",
      "source": [
        "y_train.describe().transpose()"
      ],
      "metadata": {
        "id": "G6bdtlIeS_2r",
        "colab": {
          "base_uri": "https://localhost:8080/"
        },
        "outputId": "2dd68931-a01b-4cfb-afa9-2b4ed1e07c24"
      },
      "execution_count": 89,
      "outputs": [
        {
          "output_type": "execute_result",
          "data": {
            "text/plain": [
              "count     3733\n",
              "unique       2\n",
              "top        ham\n",
              "freq      3206\n",
              "Name: label, dtype: object"
            ]
          },
          "metadata": {},
          "execution_count": 89
        }
      ]
    },
    {
      "cell_type": "markdown",
      "source": [
        "Now let us find enough features for classification. First, we will go with the length of the messages."
      ],
      "metadata": {
        "id": "BYDHvol3T4f6"
      }
    },
    {
      "cell_type": "code",
      "source": [
        "x_train_df = pd.DataFrame(x_train, columns=['message'])\n",
        "\n",
        "x_train_df['length'] = x_train_df['message'].apply(len)\n",
        "plt.subplots(figsize=(7, 5))\n",
        "\n",
        "# Let us plot this now\n",
        "sns.histplot(data=x_train_df, x='length', hue=y_train, palette='Set1')\n",
        "plt.show()"
      ],
      "metadata": {
        "id": "Qi8DVbogT_X6",
        "colab": {
          "base_uri": "https://localhost:8080/",
          "height": 334
        },
        "outputId": "a4ea9f19-92f1-41d3-ab29-85cd5df9f0a5"
      },
      "execution_count": 90,
      "outputs": [
        {
          "output_type": "display_data",
          "data": {
            "image/png": "[encoded data removed]",
            "text/plain": [
              "<Figure size 504x360 with 1 Axes>"
            ]
          },
          "metadata": {
            "needs_background": "light"
          }
        }
      ]
    },
    {
      "cell_type": "markdown",
      "source": [
        "It is  clear that length of the message has an influence on the label."
      ],
      "metadata": {
        "id": "h1SOz1f7WsUV"
      }
    },
    {
      "cell_type": "markdown",
      "source": [
        "## **Data Engineering**"
      ],
      "metadata": {
        "id": "m8it1s3Uwibf"
      }
    },
    {
      "cell_type": "markdown",
      "source": [
        "Before doing anything, we have to convert the strings  to vector  form. For this we will first remove the stop words and punctuations."
      ],
      "metadata": {
        "id": "xOTB8A_gwrUp"
      }
    },
    {
      "cell_type": "code",
      "source": [
        "import string\n",
        "from nltk.tokenize import word_tokenize\n",
        "nltk.download('punkt')\n",
        "\n",
        "# Downloading stopwords\n",
        "nltk.download('stopwords')\n",
        "from nltk.corpus import stopwords\n",
        "\n",
        "# Defining the  stop words\n",
        "stopwords = stopwords.words('english')\n",
        "\n",
        "# Defining punctuations\n",
        "punctuations = string.punctuation"
      ],
      "metadata": {
        "id": "FZVP9KZEwqPV",
        "colab": {
          "base_uri": "https://localhost:8080/"
        },
        "outputId": "086a1c83-e136-4c19-952e-d43615f0807a"
      },
      "execution_count": 91,
      "outputs": [
        {
          "output_type": "stream",
          "name": "stdout",
          "text": [
            "[nltk_data] Downloading package punkt to /root/nltk_data...\n",
            "[nltk_data]   Package punkt is already up-to-date!\n",
            "[nltk_data] Downloading package stopwords to /root/nltk_data...\n",
            "[nltk_data]   Package stopwords is already up-to-date!\n"
          ]
        }
      ]
    },
    {
      "cell_type": "code",
      "source": [
        "# Defining the function to remove the punctuations and stopwords\n",
        "def alter_text(sent):\n",
        "  return [word for word in word_tokenize(sent) if (word not in punctuations) and (word not in stopwords)]"
      ],
      "metadata": {
        "id": "wYysfHcYyjKl"
      },
      "execution_count": 92,
      "outputs": []
    },
    {
      "cell_type": "code",
      "source": [
        "# Removing the stopwords and punctuation for the training dataset\n",
        "x_train = x_train_df['message'].apply(alter_text)"
      ],
      "metadata": {
        "id": "DImWR4vS4erK"
      },
      "execution_count": 93,
      "outputs": []
    },
    {
      "cell_type": "markdown",
      "source": [
        "### **Lemittizing**"
      ],
      "metadata": {
        "id": "OL3IetBQYG-h"
      }
    },
    {
      "cell_type": "markdown",
      "source": [
        "Now we will lemmitize these words for better training the model."
      ],
      "metadata": {
        "id": "2WZKHeqf5SFf"
      }
    },
    {
      "cell_type": "code",
      "source": [
        "from nltk.stem import WordNetLemmatizer\n",
        "nltk.download('wordnet')\n",
        "nltk.download('averaged_perceptron_tagger')\n",
        "from nltk.corpus import wordnet\n",
        "\n",
        "# Function to find the type of word\n",
        "lemattizer_dict = {'V': wordnet.VERB,\n",
        "                   'J': wordnet.ADJ,\n",
        "                   'R': wordnet.ADV}\n",
        "def find_type(string):\n",
        "  return lemattizer_dict.get(string, wordnet.NOUN)\n",
        "\n",
        "# Function to lemitize\n",
        "def lemattize(message):\n",
        "  lemattizer = nltk.WordNetLemmatizer()\n",
        "  return [lemattizer.lemmatize(token, find_type(typ[0])) for (token, typ) in nltk.pos_tag(word_tokenize(' '.join(message))) if token.isalpha()]\n",
        "\n",
        "# Function to convert strings to useful format\n",
        "words = []\n",
        "def convert_string(messages):\n",
        "  temp = []\n",
        "  for message in messages:\n",
        "    result = lemattize(message)\n",
        "    words.extend(result)\n",
        "    temp.append(str(result))\n",
        "  return temp\n",
        "\n",
        "x_train = convert_string(x_train)"
      ],
      "metadata": {
        "id": "5VjJQFzR4tQT",
        "colab": {
          "base_uri": "https://localhost:8080/"
        },
        "outputId": "491e75b1-87bd-4572-f087-5910167bbd07"
      },
      "execution_count": 94,
      "outputs": [
        {
          "output_type": "stream",
          "name": "stdout",
          "text": [
            "[nltk_data] Downloading package wordnet to /root/nltk_data...\n",
            "[nltk_data]   Package wordnet is already up-to-date!\n",
            "[nltk_data] Downloading package averaged_perceptron_tagger to\n",
            "[nltk_data]     /root/nltk_data...\n",
            "[nltk_data]   Package averaged_perceptron_tagger is already up-to-\n",
            "[nltk_data]       date!\n"
          ]
        }
      ]
    },
    {
      "cell_type": "markdown",
      "source": [
        "Here words would be the bag of words"
      ],
      "metadata": {
        "id": "o2kQnr03Blg3"
      }
    },
    {
      "cell_type": "markdown",
      "source": [
        "### **Vectorization**"
      ],
      "metadata": {
        "id": "rA-ktngnXx72"
      }
    },
    {
      "cell_type": "markdown",
      "source": [
        "We will convert the sentences into numerical forms here.\n"
      ],
      "metadata": {
        "id": "jH-CcuooX1jY"
      }
    },
    {
      "cell_type": "markdown",
      "source": [
        "#### **Count Vectorizer**"
      ],
      "metadata": {
        "id": "RsqBBJJKdULy"
      }
    },
    {
      "cell_type": "code",
      "source": [
        "# Importing the vectorizer\n",
        "from sklearn.feature_extraction.text import CountVectorizer\n",
        "\n",
        "# Creating the vectorizer\n",
        "vectorizer = CountVectorizer()\n",
        "\n",
        "# Fitting and transforming\n",
        "x_train_vect = vectorizer.fit_transform(x_train)"
      ],
      "metadata": {
        "id": "VF1OFEkOAgCy"
      },
      "execution_count": 95,
      "outputs": []
    },
    {
      "cell_type": "markdown",
      "source": [
        "#### **TFIDF Vectorizer**"
      ],
      "metadata": {
        "id": "hIHbqutvdYUa"
      }
    },
    {
      "cell_type": "markdown",
      "source": [
        "Tfidf is used to find the inverse frequency of occurance of a word in a sentence compared to the frequency of occurancy of the same word in the whole document."
      ],
      "metadata": {
        "id": "wUmCX_mhded-"
      }
    },
    {
      "cell_type": "code",
      "source": [
        "# Importing the vectorizer\n",
        "from sklearn.feature_extraction.text import TfidfTransformer\n",
        "\n",
        "# Creating the vectorizer\n",
        "transformer = TfidfTransformer()\n",
        "\n",
        "# Fitting and transforming\n",
        "x_train_tfid = transformer.fit_transform(x_train_vect)"
      ],
      "metadata": {
        "id": "NPaUQz0vdte3"
      },
      "execution_count": 96,
      "outputs": []
    },
    {
      "cell_type": "markdown",
      "source": [
        "## **Modeling**"
      ],
      "metadata": {
        "id": "2zhjJdqFfNEp"
      }
    },
    {
      "cell_type": "markdown",
      "source": [
        "We will use naive bayes model for classification as each features are independent on each other. And naive bayes follows the theoy of conditional probability."
      ],
      "metadata": {
        "id": "DtZUvyywfSEF"
      }
    },
    {
      "cell_type": "code",
      "source": [
        "# Importing the package\n",
        "from sklearn.naive_bayes import MultinomialNB\n",
        "\n",
        "# Creating the model\n",
        "nb = MultinomialNB()\n",
        "\n",
        "# Fitting the model with the dataset for training\n",
        "nb.fit(x_train_tfid, y_train)"
      ],
      "metadata": {
        "colab": {
          "base_uri": "https://localhost:8080/"
        },
        "id": "_v6cYjiZfPD6",
        "outputId": "3ed0d2ca-0150-417c-f8b5-b1e30ff0a434"
      },
      "execution_count": 97,
      "outputs": [
        {
          "output_type": "execute_result",
          "data": {
            "text/plain": [
              "MultinomialNB()"
            ]
          },
          "metadata": {},
          "execution_count": 97
        }
      ]
    },
    {
      "cell_type": "markdown",
      "source": [
        "Now we have to engineer the x_test for prediction."
      ],
      "metadata": {
        "id": "oDBZlIScf2NI"
      }
    },
    {
      "cell_type": "code",
      "source": [
        "# Removing the stopwords and punctuation for the training dataset\n",
        "x_test = x_test.apply(alter_text)\n",
        "\n",
        "# Function to convert strings to useful format\n",
        "x_test = convert_string(x_test)\n",
        "\n",
        "# Using count vectorizer\n",
        "x_test_vect = vectorizer.transform(x_test)\n",
        "\n",
        "# Using tfid transformer\n",
        "x_test_tfid = transformer.transform(x_test_vect)"
      ],
      "metadata": {
        "id": "y4xXtPbgf6W9"
      },
      "execution_count": 98,
      "outputs": []
    },
    {
      "cell_type": "markdown",
      "source": [
        "Predicting for test values"
      ],
      "metadata": {
        "id": "aCeQ5SChg_Ad"
      }
    },
    {
      "cell_type": "code",
      "source": [
        "# Prediction\n",
        "pred = nb.predict(x_test_tfid)"
      ],
      "metadata": {
        "id": "OpHuHBngg-Yw"
      },
      "execution_count": 99,
      "outputs": []
    },
    {
      "cell_type": "code",
      "source": [
        "# Accuracy Score\n",
        "from sklearn.metrics import accuracy_score\n",
        "\n",
        "accuracy_score(pred, y_test)"
      ],
      "metadata": {
        "colab": {
          "base_uri": "https://localhost:8080/"
        },
        "id": "fcpNptEEhJWE",
        "outputId": "c88eb696-a4b5-4752-fb2f-2990a3db6559"
      },
      "execution_count": 104,
      "outputs": [
        {
          "output_type": "execute_result",
          "data": {
            "text/plain": [
              "0.965742251223491"
            ]
          },
          "metadata": {},
          "execution_count": 104
        }
      ]
    },
    {
      "cell_type": "markdown",
      "source": [
        "**WE GOT IT 96% ACCURATE** "
      ],
      "metadata": {
        "id": "9arzU7u3hmvJ"
      }
    }
  ]
}